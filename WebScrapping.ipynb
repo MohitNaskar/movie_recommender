{
 "cells": [
  {
   "cell_type": "code",
   "execution_count": 1,
   "id": "8ad29db2",
   "metadata": {},
   "outputs": [],
   "source": [
    "import pandas as pd\n",
    "import requests, openpyxl\n",
    "from bs4 import BeautifulSoup"
   ]
  },
  {
   "cell_type": "code",
   "execution_count": 2,
   "id": "1afe4f3f",
   "metadata": {},
   "outputs": [],
   "source": [
    "# # Function to scrape data for a given movie ID and save it to the Excel file\n",
    "# def scrape_movie_data(movie_id, custom_id, genres):\n",
    "#     url = f\"https://www.imdb.com/title/{movie_id}/reviews?sort=submissionDate&dir=desc&ratingFilter=0\"\n",
    "#     response = requests.get(url)\n",
    "#     soup = BeautifulSoup(response.content, 'html.parser')\n",
    "#     movie_info = soup.find('div', class_='parent').text\n",
    "#     movieee_name = movie_info.split('(')[0].strip()\n",
    "#     movies = soup.find('div', class_='lister-list').find_all('div', class_='lister-item-content')\n",
    "\n",
    "#     for movie in movies:\n",
    "#         user_review = movie.find('div', class_=\"text show-more__control\").text\n",
    "#         rating = movie.find('span').text.split('/')[0]\n",
    "#         sheet.append([genres, movieee_name, custom_id, '', user_review, rating])\n",
    "\n",
    "def scrape_movie_data(movie_id, custom_id, genre):\n",
    "    url = f\"https://www.imdb.com/title/{movie_id}/reviews?sort=submissionDate&dir=desc&ratingFilter=0\"\n",
    "    response = requests.get(url)\n",
    "    soup = BeautifulSoup(response.content, 'html.parser')\n",
    "    movie_info = soup.find('div', class_='parent').text\n",
    "    movieee_name = movie_info.split('(')[0].strip()\n",
    "    movies = soup.find('div', class_='lister-list').find_all('div', class_='lister-item-content')\n",
    "\n",
    "    for movie in movies:\n",
    "        user_review = movie.find('div', class_=\"text show-more__control\").text\n",
    "        rating = movie.find('span').text.split('/')[0]\n",
    "        # Remove illegal characters from the user review\n",
    "        user_review = ''.join(char for char in user_review if char.isprintable())\n",
    "        sheet.append([genre, movieee_name, custom_id, '', user_review, rating])\n"
   ]
  },
  {
   "cell_type": "code",
   "execution_count": 3,
   "id": "17c1f455",
   "metadata": {},
   "outputs": [],
   "source": [
    "# Check if the Excel file exists\n",
    "import os\n",
    "if os.path.exists('no301to1000.xlsx'):\n",
    "    excel = openpyxl.load_workbook('no301to1000.xlsx')\n",
    "    sheet = excel.active\n",
    "else:\n",
    "    excel = openpyxl.Workbook()\n",
    "    sheet = excel.active\n",
    "    sheet.title = 'ratings and reviews'\n",
    "    sheet.append(['Genres','Movie Name','Movie ID','User ID','User_review','Rating'])\n"
   ]
  },
  {
   "cell_type": "code",
   "execution_count": 4,
   "id": "fdefe694",
   "metadata": {},
   "outputs": [],
   "source": [
    "# genres = input('Input Genres: ')"
   ]
  },
  {
   "cell_type": "code",
   "execution_count": 5,
   "id": "13281f87",
   "metadata": {},
   "outputs": [],
   "source": [
    "movie_id = pd.read_csv(r'C:\\2_LEARNING\\#MINOR\\Movies_ID.csv')"
   ]
  },
  {
   "cell_type": "code",
   "execution_count": 6,
   "id": "9842f253",
   "metadata": {},
   "outputs": [
    {
     "data": {
      "text/plain": [
       "<bound method NDFrame.head of       Movie Id  Sn no                genres\n",
       "0    tt4365060    301        Crime|Thriller\n",
       "1    tt5662932    302  Crime|Drama|Thriller\n",
       "2    tt3840534    303         Drama|Romance\n",
       "3    tt4358344    304                 Drama\n",
       "4    tt4088588    305                 Drama\n",
       "..         ...    ...                   ...\n",
       "695  tt1176960    996          Comedy|Crime\n",
       "696  tt1182908    997    Comedy|Crime|Drama\n",
       "697  tt1039995    998         Drama|Romance\n",
       "698  tt1224454    999                 Drama\n",
       "699  tt0995752   1000  Action|Drama|Romance\n",
       "\n",
       "[700 rows x 3 columns]>"
      ]
     },
     "execution_count": 6,
     "metadata": {},
     "output_type": "execute_result"
    }
   ],
   "source": [
    "movie_id.head"
   ]
  },
  {
   "cell_type": "code",
   "execution_count": 7,
   "id": "8f7bcf0e",
   "metadata": {},
   "outputs": [],
   "source": [
    "# movie_ids = {\n",
    "#     'tt9114286': 92,\n",
    "#     'tt1630029': 93,\n",
    "#     'tt6710474': 94,\n",
    "#     'tt3915174': 95,\n",
    "#     'tt10954600': 96,\n",
    "#     'tt2353868': 97\n",
    "# }\n",
    "\n",
    "#     # Add more mappings as needed"
   ]
  },
  {
   "cell_type": "code",
   "execution_count": null,
   "id": "7eceff53",
   "metadata": {},
   "outputs": [],
   "source": [
    "# for imdb_id, custom_id in movie_id.items():\n",
    "#     print(imdb_id, custom_id)\n",
    "for index, row in movie_id.iterrows():\n",
    "    imdb_id = row['Movie Id']\n",
    "    custom_id = row['Sn no']\n",
    "    genres_ = row['genres'].split('|')[0]\n",
    "    scrape_movie_data(imdb_id, custom_id, genres_)\n",
    "excel.save('no301to1000.xlsx')\n",
    "print(\"Data saved successfully!\")"
   ]
  },
  {
   "cell_type": "code",
   "execution_count": null,
   "id": "d405bcfe",
   "metadata": {},
   "outputs": [],
   "source": []
  }
 ],
 "metadata": {
  "kernelspec": {
   "display_name": "Python 3 (ipykernel)",
   "language": "python",
   "name": "python3"
  },
  "language_info": {
   "codemirror_mode": {
    "name": "ipython",
    "version": 3
   },
   "file_extension": ".py",
   "mimetype": "text/x-python",
   "name": "python",
   "nbconvert_exporter": "python",
   "pygments_lexer": "ipython3",
   "version": "3.11.1"
  }
 },
 "nbformat": 4,
 "nbformat_minor": 5
}
