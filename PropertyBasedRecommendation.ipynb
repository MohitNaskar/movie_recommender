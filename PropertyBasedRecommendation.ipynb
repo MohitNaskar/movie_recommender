{
 "cells": [
  {
   "cell_type": "code",
   "execution_count": 187,
   "metadata": {},
   "outputs": [],
   "source": [
    "import pandas as pd #pandas library is used for working with datasets.It has function for analyzign cleaning exploring and manipulating data \n",
    "import numpy as np #numpy as multidimensional array \n"
   ]
  },
  {
   "cell_type": "code",
   "execution_count": 188,
   "metadata": {},
   "outputs": [
    {
     "name": "stderr",
     "output_type": "stream",
     "text": [
      "[nltk_data] Downloading package punkt to\n",
      "[nltk_data]     C:\\Users\\mohit\\AppData\\Roaming\\nltk_data...\n",
      "[nltk_data]   Package punkt is already up-to-date!\n"
     ]
    },
    {
     "data": {
      "text/plain": [
       "True"
      ]
     },
     "execution_count": 188,
     "metadata": {},
     "output_type": "execute_result"
    }
   ],
   "source": [
    "import matplotlib.pyplot as plt # Matplotlib allows user to create numerous and diverse plot types\n",
    "import seaborn as sns #Seaborn is python data visualization library based on matplotlib\n",
    "import plotly.express as px #plotly express is the easy to use, high level interface to Plotly which operates on a variety of types of data and produces easy to style figures \n",
    "from matplotlib import style # is used to create plot styles \n",
    "import re # regular expressions if needed \n",
    "import nltk # natural language toolkit used for natural language processing \n",
    "import random \n",
    "nltk.download('punkt')\n"
   ]
  },
  {
   "cell_type": "code",
   "execution_count": 189,
   "metadata": {},
   "outputs": [],
   "source": [
    "from nltk.tokenize import word_tokenize #is used to word tokenization using nltk library  \n",
    "from nltk.stem import PorterStemmer #is used to step the words\n",
    "from nltk.corpus import stopwords #import stop words( a set of words for pausing)\n",
    "stopwords = set(stopwords.words('english'))\n",
    "from wordcloud import WordCloud ,STOPWORDS\n",
    "from sklearn.feature_extraction.text import TfidfVectorizer #used in vectorization \n",
    "from sklearn.model_selection import train_test_split #training the model \n",
    "from nltk.stem import WordNetLemmatizer # Lematization is the process of grouping together different inflected forms of a word so they can be analysed as a single item \n",
    "\n"
   ]
  },
  {
   "cell_type": "code",
   "execution_count": 190,
   "metadata": {},
   "outputs": [],
   "source": [
    "df= pd.read_csv(r\"D:\\Mojor1\\CSV_Files\\Final_Data - Sheet1.csv\")\n"
   ]
  },
  {
   "cell_type": "code",
   "execution_count": 191,
   "metadata": {},
   "outputs": [
    {
     "data": {
      "text/html": [
       "<div>\n",
       "<style scoped>\n",
       "    .dataframe tbody tr th:only-of-type {\n",
       "        vertical-align: middle;\n",
       "    }\n",
       "\n",
       "    .dataframe tbody tr th {\n",
       "        vertical-align: top;\n",
       "    }\n",
       "\n",
       "    .dataframe thead th {\n",
       "        text-align: right;\n",
       "    }\n",
       "</style>\n",
       "<table border=\"1\" class=\"dataframe\">\n",
       "  <thead>\n",
       "    <tr style=\"text-align: right;\">\n",
       "      <th></th>\n",
       "      <th>Genre</th>\n",
       "      <th>MovieName</th>\n",
       "      <th>Overview</th>\n",
       "      <th>User_ID</th>\n",
       "      <th>Reviews</th>\n",
       "      <th>Ratings</th>\n",
       "      <th>Movie_ID</th>\n",
       "    </tr>\n",
       "  </thead>\n",
       "  <tbody>\n",
       "    <tr>\n",
       "      <th>0</th>\n",
       "      <td>Action</td>\n",
       "      <td>The Shawshank Redemption</td>\n",
       "      <td>Chronicles the experiences of a formerly succe...</td>\n",
       "      <td>100.0</td>\n",
       "      <td>The Shawshank Redemption holds the Number 1 sp...</td>\n",
       "      <td>10</td>\n",
       "      <td>1</td>\n",
       "    </tr>\n",
       "    <tr>\n",
       "      <th>1</th>\n",
       "      <td>Action</td>\n",
       "      <td>The Shawshank Redemption</td>\n",
       "      <td>Chronicles the experiences of a formerly succe...</td>\n",
       "      <td>101.0</td>\n",
       "      <td>However delightful as it is The Shawshank Rede...</td>\n",
       "      <td>10</td>\n",
       "      <td>1</td>\n",
       "    </tr>\n",
       "    <tr>\n",
       "      <th>2</th>\n",
       "      <td>Action</td>\n",
       "      <td>The Shawshank Redemption</td>\n",
       "      <td>Chronicles the experiences of a formerly succe...</td>\n",
       "      <td>102.0</td>\n",
       "      <td>However delightful as it is The Shawshank Rede...</td>\n",
       "      <td>10</td>\n",
       "      <td>1</td>\n",
       "    </tr>\n",
       "    <tr>\n",
       "      <th>3</th>\n",
       "      <td>Action</td>\n",
       "      <td>The Shawshank Redemption</td>\n",
       "      <td>Chronicles the experiences of a formerly succe...</td>\n",
       "      <td>103.0</td>\n",
       "      <td>\"The Shawshank Redemption\" is a cinematic gem ...</td>\n",
       "      <td>10</td>\n",
       "      <td>1</td>\n",
       "    </tr>\n",
       "    <tr>\n",
       "      <th>4</th>\n",
       "      <td>Action</td>\n",
       "      <td>The Shawshank Redemption</td>\n",
       "      <td>Chronicles the experiences of a formerly succe...</td>\n",
       "      <td>104.0</td>\n",
       "      <td>\"Hope is a good thing probably best of all &amp; g...</td>\n",
       "      <td>10</td>\n",
       "      <td>1</td>\n",
       "    </tr>\n",
       "  </tbody>\n",
       "</table>\n",
       "</div>"
      ],
      "text/plain": [
       "    Genre                 MovieName  \\\n",
       "0  Action  The Shawshank Redemption   \n",
       "1  Action  The Shawshank Redemption   \n",
       "2  Action  The Shawshank Redemption   \n",
       "3  Action  The Shawshank Redemption   \n",
       "4  Action  The Shawshank Redemption   \n",
       "\n",
       "                                            Overview  User_ID  \\\n",
       "0  Chronicles the experiences of a formerly succe...    100.0   \n",
       "1  Chronicles the experiences of a formerly succe...    101.0   \n",
       "2  Chronicles the experiences of a formerly succe...    102.0   \n",
       "3  Chronicles the experiences of a formerly succe...    103.0   \n",
       "4  Chronicles the experiences of a formerly succe...    104.0   \n",
       "\n",
       "                                             Reviews Ratings  Movie_ID  \n",
       "0  The Shawshank Redemption holds the Number 1 sp...      10         1  \n",
       "1  However delightful as it is The Shawshank Rede...      10         1  \n",
       "2  However delightful as it is The Shawshank Rede...      10         1  \n",
       "3  \"The Shawshank Redemption\" is a cinematic gem ...      10         1  \n",
       "4  \"Hope is a good thing probably best of all & g...      10         1  "
      ]
     },
     "execution_count": 191,
     "metadata": {},
     "output_type": "execute_result"
    }
   ],
   "source": [
    "df.head()"
   ]
  },
  {
   "cell_type": "code",
   "execution_count": 192,
   "metadata": {},
   "outputs": [
    {
     "data": {
      "text/plain": [
       "(4005, 7)"
      ]
     },
     "execution_count": 192,
     "metadata": {},
     "output_type": "execute_result"
    }
   ],
   "source": [
    "df.shape"
   ]
  },
  {
   "cell_type": "code",
   "execution_count": 193,
   "metadata": {},
   "outputs": [
    {
     "name": "stdout",
     "output_type": "stream",
     "text": [
      "<class 'pandas.core.frame.DataFrame'>\n",
      "RangeIndex: 4005 entries, 0 to 4004\n",
      "Data columns (total 7 columns):\n",
      " #   Column     Non-Null Count  Dtype  \n",
      "---  ------     --------------  -----  \n",
      " 0   Genre      3980 non-null   object \n",
      " 1   MovieName  3980 non-null   object \n",
      " 2   Overview   3980 non-null   object \n",
      " 3   User_ID    3980 non-null   float64\n",
      " 4   Reviews    3979 non-null   object \n",
      " 5   Ratings    3980 non-null   object \n",
      " 6   Movie_ID   4005 non-null   int64  \n",
      "dtypes: float64(1), int64(1), object(5)\n",
      "memory usage: 219.2+ KB\n"
     ]
    }
   ],
   "source": [
    "df.info()"
   ]
  },
  {
   "cell_type": "code",
   "execution_count": 194,
   "metadata": {},
   "outputs": [
    {
     "data": {
      "text/plain": [
       "Genre        0.624220\n",
       "MovieName    0.624220\n",
       "Overview     0.624220\n",
       "User_ID      0.624220\n",
       "Reviews      0.649189\n",
       "Ratings      0.624220\n",
       "Movie_ID     0.000000\n",
       "dtype: float64"
      ]
     },
     "execution_count": 194,
     "metadata": {},
     "output_type": "execute_result"
    }
   ],
   "source": [
    "df.isnull().mean()*100"
   ]
  },
  {
   "cell_type": "code",
   "execution_count": 195,
   "metadata": {},
   "outputs": [],
   "source": [
    "df['Reviews'].dropna(inplace = True)"
   ]
  },
  {
   "cell_type": "code",
   "execution_count": 196,
   "metadata": {},
   "outputs": [
    {
     "data": {
      "text/plain": [
       "Genre        0.624220\n",
       "MovieName    0.624220\n",
       "Overview     0.624220\n",
       "User_ID      0.624220\n",
       "Reviews      0.649189\n",
       "Ratings      0.624220\n",
       "Movie_ID     0.000000\n",
       "dtype: float64"
      ]
     },
     "execution_count": 196,
     "metadata": {},
     "output_type": "execute_result"
    }
   ],
   "source": [
    "df.isnull().mean()*100"
   ]
  },
  {
   "cell_type": "code",
   "execution_count": 197,
   "metadata": {},
   "outputs": [
    {
     "data": {
      "text/plain": [
       "(4005, 7)"
      ]
     },
     "execution_count": 197,
     "metadata": {},
     "output_type": "execute_result"
    }
   ],
   "source": [
    "df.shape"
   ]
  },
  {
   "cell_type": "code",
   "execution_count": 198,
   "metadata": {},
   "outputs": [
    {
     "data": {
      "text/plain": [
       "24"
      ]
     },
     "execution_count": 198,
     "metadata": {},
     "output_type": "execute_result"
    }
   ],
   "source": [
    "len(df)-len(df.drop_duplicates())\n",
    "#there are 0 duplicate data "
   ]
  },
  {
   "cell_type": "code",
   "execution_count": 199,
   "metadata": {},
   "outputs": [],
   "source": [
    "#used for droping the non numeric values present in the \n",
    "df =df[pd.to_numeric(df['Ratings'],errors='coerce').notnull()] "
   ]
  },
  {
   "cell_type": "code",
   "execution_count": 200,
   "metadata": {},
   "outputs": [
    {
     "data": {
      "text/plain": [
       "Genre        0.000000\n",
       "MovieName    0.000000\n",
       "Overview     0.000000\n",
       "User_ID      0.000000\n",
       "Reviews      0.025517\n",
       "Ratings      0.000000\n",
       "Movie_ID     0.000000\n",
       "dtype: float64"
      ]
     },
     "execution_count": 200,
     "metadata": {},
     "output_type": "execute_result"
    }
   ],
   "source": [
    "df.isnull().mean()*100"
   ]
  },
  {
   "cell_type": "markdown",
   "metadata": {},
   "source": [
    "These two heatmaps will help us understand the distribution of the ratings per genre \n"
   ]
  },
  {
   "cell_type": "code",
   "execution_count": 201,
   "metadata": {},
   "outputs": [
    {
     "data": {
      "image/png": "[encoded data removed]",
      "text/plain": [
       "<Figure size 3000x1500 with 2 Axes>"
      ]
     },
     "metadata": {},
     "output_type": "display_data"
    }
   ],
   "source": [
    "movie_matrix = df.pivot_table(index = 'Genre',columns=\"Ratings\",values = 'Movie_ID')\n",
    "sns.heatmap(movie_matrix,cmap=\"YlGnBu\", fmt=\"0.0f\")\n",
    "plt.show()"
   ]
  },
  {
   "cell_type": "code",
   "execution_count": 202,
   "metadata": {},
   "outputs": [
    {
     "data": {
      "text/plain": [
       "<Axes: xlabel='Ratings', ylabel='Genre'>"
      ]
     },
     "execution_count": 202,
     "metadata": {},
     "output_type": "execute_result"
    },
    {
     "data": {
      "image/png": "[encoded data removed]",
      "text/plain": [
       "<Figure size 3000x1500 with 2 Axes>"
      ]
     },
     "metadata": {},
     "output_type": "display_data"
    }
   ],
   "source": [
    "sns.heatmap(pd.crosstab(df['Genre'],df['Ratings']))"
   ]
  },
  {
   "cell_type": "code",
   "execution_count": 203,
   "metadata": {},
   "outputs": [],
   "source": [
    "df.dropna(subset=['Reviews'],inplace = True)"
   ]
  },
  {
   "cell_type": "code",
   "execution_count": 204,
   "metadata": {},
   "outputs": [
    {
     "data": {
      "text/plain": [
       "Genre        0.0\n",
       "MovieName    0.0\n",
       "Overview     0.0\n",
       "User_ID      0.0\n",
       "Reviews      0.0\n",
       "Ratings      0.0\n",
       "Movie_ID     0.0\n",
       "dtype: float64"
      ]
     },
     "execution_count": 204,
     "metadata": {},
     "output_type": "execute_result"
    }
   ],
   "source": [
    "df.isnull().mean()*100"
   ]
  },
  {
   "cell_type": "code",
   "execution_count": 205,
   "metadata": {},
   "outputs": [
    {
     "data": {
      "text/html": [
       "<div>\n",
       "<style scoped>\n",
       "    .dataframe tbody tr th:only-of-type {\n",
       "        vertical-align: middle;\n",
       "    }\n",
       "\n",
       "    .dataframe tbody tr th {\n",
       "        vertical-align: top;\n",
       "    }\n",
       "\n",
       "    .dataframe thead th {\n",
       "        text-align: right;\n",
       "    }\n",
       "</style>\n",
       "<table border=\"1\" class=\"dataframe\">\n",
       "  <thead>\n",
       "    <tr style=\"text-align: right;\">\n",
       "      <th></th>\n",
       "      <th>Genre</th>\n",
       "      <th>MovieName</th>\n",
       "      <th>Overview</th>\n",
       "      <th>User_ID</th>\n",
       "      <th>Reviews</th>\n",
       "      <th>Ratings</th>\n",
       "      <th>Movie_ID</th>\n",
       "    </tr>\n",
       "  </thead>\n",
       "  <tbody>\n",
       "    <tr>\n",
       "      <th>0</th>\n",
       "      <td>Action</td>\n",
       "      <td>The Shawshank Redemption</td>\n",
       "      <td>Chronicles the experiences of a formerly succe...</td>\n",
       "      <td>100.0</td>\n",
       "      <td>The Shawshank Redemption holds the Number 1 sp...</td>\n",
       "      <td>10</td>\n",
       "      <td>1</td>\n",
       "    </tr>\n",
       "    <tr>\n",
       "      <th>1</th>\n",
       "      <td>Action</td>\n",
       "      <td>The Shawshank Redemption</td>\n",
       "      <td>Chronicles the experiences of a formerly succe...</td>\n",
       "      <td>101.0</td>\n",
       "      <td>However delightful as it is The Shawshank Rede...</td>\n",
       "      <td>10</td>\n",
       "      <td>1</td>\n",
       "    </tr>\n",
       "    <tr>\n",
       "      <th>2</th>\n",
       "      <td>Action</td>\n",
       "      <td>The Shawshank Redemption</td>\n",
       "      <td>Chronicles the experiences of a formerly succe...</td>\n",
       "      <td>102.0</td>\n",
       "      <td>However delightful as it is The Shawshank Rede...</td>\n",
       "      <td>10</td>\n",
       "      <td>1</td>\n",
       "    </tr>\n",
       "    <tr>\n",
       "      <th>3</th>\n",
       "      <td>Action</td>\n",
       "      <td>The Shawshank Redemption</td>\n",
       "      <td>Chronicles the experiences of a formerly succe...</td>\n",
       "      <td>103.0</td>\n",
       "      <td>\"The Shawshank Redemption\" is a cinematic gem ...</td>\n",
       "      <td>10</td>\n",
       "      <td>1</td>\n",
       "    </tr>\n",
       "    <tr>\n",
       "      <th>4</th>\n",
       "      <td>Action</td>\n",
       "      <td>The Shawshank Redemption</td>\n",
       "      <td>Chronicles the experiences of a formerly succe...</td>\n",
       "      <td>104.0</td>\n",
       "      <td>\"Hope is a good thing probably best of all &amp; g...</td>\n",
       "      <td>10</td>\n",
       "      <td>1</td>\n",
       "    </tr>\n",
       "  </tbody>\n",
       "</table>\n",
       "</div>"
      ],
      "text/plain": [
       "    Genre                 MovieName  \\\n",
       "0  Action  The Shawshank Redemption   \n",
       "1  Action  The Shawshank Redemption   \n",
       "2  Action  The Shawshank Redemption   \n",
       "3  Action  The Shawshank Redemption   \n",
       "4  Action  The Shawshank Redemption   \n",
       "\n",
       "                                            Overview  User_ID  \\\n",
       "0  Chronicles the experiences of a formerly succe...    100.0   \n",
       "1  Chronicles the experiences of a formerly succe...    101.0   \n",
       "2  Chronicles the experiences of a formerly succe...    102.0   \n",
       "3  Chronicles the experiences of a formerly succe...    103.0   \n",
       "4  Chronicles the experiences of a formerly succe...    104.0   \n",
       "\n",
       "                                             Reviews Ratings  Movie_ID  \n",
       "0  The Shawshank Redemption holds the Number 1 sp...      10         1  \n",
       "1  However delightful as it is The Shawshank Rede...      10         1  \n",
       "2  However delightful as it is The Shawshank Rede...      10         1  \n",
       "3  \"The Shawshank Redemption\" is a cinematic gem ...      10         1  \n",
       "4  \"Hope is a good thing probably best of all & g...      10         1  "
      ]
     },
     "execution_count": 205,
     "metadata": {},
     "output_type": "execute_result"
    }
   ],
   "source": [
    "df.head()"
   ]
  },
  {
   "cell_type": "markdown",
   "metadata": {},
   "source": [
    "Rating Distribution"
   ]
  },
  {
   "cell_type": "code",
   "execution_count": 206,
   "metadata": {},
   "outputs": [
    {
     "data": {
      "text/plain": [
       "Text(0.5, 1.0, 'Ratings Distribution')"
      ]
     },
     "execution_count": 206,
     "metadata": {},
     "output_type": "execute_result"
    },
    {
     "data": {
      "image/png": "[encoded data removed]",
      "text/plain": [
       "<Figure size 3000x1500 with 1 Axes>"
      ]
     },
     "metadata": {},
     "output_type": "display_data"
    }
   ],
   "source": [
    "sns.countplot(x= 'Ratings',data = df)\n",
    "plt.title(\"Ratings Distribution\")"
   ]
  },
  {
   "cell_type": "code",
   "execution_count": 207,
   "metadata": {},
   "outputs": [
    {
     "name": "stderr",
     "output_type": "stream",
     "text": [
      "C:\\Users\\mohit\\AppData\\Local\\Temp\\ipykernel_1100\\1749631374.py:1: UserWarning: \n",
      "\n",
      "`distplot` is a deprecated function and will be removed in seaborn v0.14.0.\n",
      "\n",
      "Please adapt your code to use either `displot` (a figure-level function with\n",
      "similar flexibility) or `histplot` (an axes-level function for histograms).\n",
      "\n",
      "For a guide to updating your code to use the new functions, please see\n",
      "https://gist.github.com/mwaskom/de44147ed2974457ad6372750bbe5751\n",
      "\n",
      "  sns.distplot(df['Ratings'],hist = True)\n"
     ]
    },
    {
     "data": {
      "text/plain": [
       "<Axes: xlabel='Ratings', ylabel='Density'>"
      ]
     },
     "execution_count": 207,
     "metadata": {},
     "output_type": "execute_result"
    },
    {
     "data": {
      "image/png": "[encoded data removed]",
      "text/plain": [
       "<Figure size 3000x1500 with 1 Axes>"
      ]
     },
     "metadata": {},
     "output_type": "display_data"
    }
   ],
   "source": [
    "sns.distplot(df['Ratings'],hist = True)"
   ]
  },
  {
   "cell_type": "code",
   "execution_count": 208,
   "metadata": {},
   "outputs": [
    {
     "data": {
      "text/plain": [
       "Text(0.5, 1.0, 'Sentiment Distribution')"
      ]
     },
     "execution_count": 208,
     "metadata": {},
     "output_type": "execute_result"
    },
    {
     "data": {
      "image/png": "[encoded data removed]",
      "text/plain": [
       "<Figure size 3000x1500 with 1 Axes>"
      ]
     },
     "metadata": {},
     "output_type": "display_data"
    }
   ],
   "source": [
    "# sentiments of users distributed across the range\n",
    "sns.set(rc = {'figure.figsize':(30,15)})\n",
    "sns.countplot(x = 'Ratings',data = df)\n",
    "plt.title(\"Sentiment Distribution\")"
   ]
  },
  {
   "cell_type": "code",
   "execution_count": 209,
   "metadata": {},
   "outputs": [],
   "source": [
    "#remvoing numbers tags and symbols \n",
    "def remove_numbers(text):\n",
    "    return re.sub('[0-9]+', '', text)\n",
    "def remove_html_tags(text):\n",
    "    return re.sub(r'<[^>]+>', '', text)\n",
    "def remove_symbols(text):\n",
    "    return re.sub(\"[!@#$%^&*(){}£\\/'']\",'',text)"
   ]
  },
  {
   "cell_type": "code",
   "execution_count": 210,
   "metadata": {},
   "outputs": [],
   "source": [
    "from nltk.corpus import stopwords # imports stop works( a set of words used to pausing)\n",
    "stop_words = set(stopwords.words('english')) #"
   ]
  },
  {
   "cell_type": "code",
   "execution_count": 211,
   "metadata": {},
   "outputs": [
    {
     "data": {
      "text/html": [
       "<div>\n",
       "<style scoped>\n",
       "    .dataframe tbody tr th:only-of-type {\n",
       "        vertical-align: middle;\n",
       "    }\n",
       "\n",
       "    .dataframe tbody tr th {\n",
       "        vertical-align: top;\n",
       "    }\n",
       "\n",
       "    .dataframe thead th {\n",
       "        text-align: right;\n",
       "    }\n",
       "</style>\n",
       "<table border=\"1\" class=\"dataframe\">\n",
       "  <thead>\n",
       "    <tr style=\"text-align: right;\">\n",
       "      <th></th>\n",
       "      <th>Genre</th>\n",
       "      <th>MovieName</th>\n",
       "      <th>Overview</th>\n",
       "      <th>User_ID</th>\n",
       "      <th>Reviews</th>\n",
       "      <th>Ratings</th>\n",
       "      <th>Movie_ID</th>\n",
       "      <th>preprocess_txt</th>\n",
       "      <th>total_len</th>\n",
       "      <th>pos_count</th>\n",
       "      <th>neg_count</th>\n",
       "      <th>sentiment</th>\n",
       "    </tr>\n",
       "  </thead>\n",
       "  <tbody>\n",
       "    <tr>\n",
       "      <th>0</th>\n",
       "      <td>Action</td>\n",
       "      <td>The Shawshank Redemption</td>\n",
       "      <td>Chronicles the experiences of a formerly succe...</td>\n",
       "      <td>100.0</td>\n",
       "      <td>The Shawshank Redemption holds the Number 1 sp...</td>\n",
       "      <td>10</td>\n",
       "      <td>1</td>\n",
       "      <td>[shawshank, redemption, hold, number, spot, to...</td>\n",
       "      <td>274</td>\n",
       "      <td>45</td>\n",
       "      <td>12</td>\n",
       "      <td>0.12</td>\n",
       "    </tr>\n",
       "    <tr>\n",
       "      <th>1</th>\n",
       "      <td>Action</td>\n",
       "      <td>The Shawshank Redemption</td>\n",
       "      <td>Chronicles the experiences of a formerly succe...</td>\n",
       "      <td>101.0</td>\n",
       "      <td>However delightful as it is The Shawshank Rede...</td>\n",
       "      <td>10</td>\n",
       "      <td>1</td>\n",
       "      <td>[however, delightful, shawshank, redemption, a...</td>\n",
       "      <td>303</td>\n",
       "      <td>45</td>\n",
       "      <td>23</td>\n",
       "      <td>0.07</td>\n",
       "    </tr>\n",
       "    <tr>\n",
       "      <th>2</th>\n",
       "      <td>Action</td>\n",
       "      <td>The Shawshank Redemption</td>\n",
       "      <td>Chronicles the experiences of a formerly succe...</td>\n",
       "      <td>102.0</td>\n",
       "      <td>However delightful as it is The Shawshank Rede...</td>\n",
       "      <td>10</td>\n",
       "      <td>1</td>\n",
       "      <td>[however, delightful, shawshank, redemption, a...</td>\n",
       "      <td>303</td>\n",
       "      <td>45</td>\n",
       "      <td>23</td>\n",
       "      <td>0.07</td>\n",
       "    </tr>\n",
       "    <tr>\n",
       "      <th>3</th>\n",
       "      <td>Action</td>\n",
       "      <td>The Shawshank Redemption</td>\n",
       "      <td>Chronicles the experiences of a formerly succe...</td>\n",
       "      <td>103.0</td>\n",
       "      <td>\"The Shawshank Redemption\" is a cinematic gem ...</td>\n",
       "      <td>10</td>\n",
       "      <td>1</td>\n",
       "      <td>[shawshank, redemption, cinematic, gem, transc...</td>\n",
       "      <td>229</td>\n",
       "      <td>31</td>\n",
       "      <td>10</td>\n",
       "      <td>0.09</td>\n",
       "    </tr>\n",
       "    <tr>\n",
       "      <th>4</th>\n",
       "      <td>Action</td>\n",
       "      <td>The Shawshank Redemption</td>\n",
       "      <td>Chronicles the experiences of a formerly succe...</td>\n",
       "      <td>104.0</td>\n",
       "      <td>\"Hope is a good thing probably best of all &amp; g...</td>\n",
       "      <td>10</td>\n",
       "      <td>1</td>\n",
       "      <td>[hope, good, thing, probably, best, good, thin...</td>\n",
       "      <td>160</td>\n",
       "      <td>18</td>\n",
       "      <td>18</td>\n",
       "      <td>0.00</td>\n",
       "    </tr>\n",
       "  </tbody>\n",
       "</table>\n",
       "</div>"
      ],
      "text/plain": [
       "    Genre                 MovieName  \\\n",
       "0  Action  The Shawshank Redemption   \n",
       "1  Action  The Shawshank Redemption   \n",
       "2  Action  The Shawshank Redemption   \n",
       "3  Action  The Shawshank Redemption   \n",
       "4  Action  The Shawshank Redemption   \n",
       "\n",
       "                                            Overview  User_ID  \\\n",
       "0  Chronicles the experiences of a formerly succe...    100.0   \n",
       "1  Chronicles the experiences of a formerly succe...    101.0   \n",
       "2  Chronicles the experiences of a formerly succe...    102.0   \n",
       "3  Chronicles the experiences of a formerly succe...    103.0   \n",
       "4  Chronicles the experiences of a formerly succe...    104.0   \n",
       "\n",
       "                                             Reviews Ratings  Movie_ID  \\\n",
       "0  The Shawshank Redemption holds the Number 1 sp...      10         1   \n",
       "1  However delightful as it is The Shawshank Rede...      10         1   \n",
       "2  However delightful as it is The Shawshank Rede...      10         1   \n",
       "3  \"The Shawshank Redemption\" is a cinematic gem ...      10         1   \n",
       "4  \"Hope is a good thing probably best of all & g...      10         1   \n",
       "\n",
       "                                      preprocess_txt  total_len  pos_count  \\\n",
       "0  [shawshank, redemption, hold, number, spot, to...        274         45   \n",
       "1  [however, delightful, shawshank, redemption, a...        303         45   \n",
       "2  [however, delightful, shawshank, redemption, a...        303         45   \n",
       "3  [shawshank, redemption, cinematic, gem, transc...        229         31   \n",
       "4  [hope, good, thing, probably, best, good, thin...        160         18   \n",
       "\n",
       "   neg_count  sentiment  \n",
       "0         12       0.12  \n",
       "1         23       0.07  \n",
       "2         23       0.07  \n",
       "3         10       0.09  \n",
       "4         18       0.00  "
      ]
     },
     "execution_count": 211,
     "metadata": {},
     "output_type": "execute_result"
    }
   ],
   "source": [
    "#this function and this block of code returns the sentiment of the user and the amount of positive and negative words per review \n",
    "lemma = WordNetLemmatizer()\n",
    "stop_words = stopwords.words('english')\n",
    "def text_prep(x: str) -> list:\n",
    "     corp = str(x).lower() \n",
    "     corp = re.sub('[^a-zA-Z]+',' ', corp).strip() \n",
    "     tokens = word_tokenize(corp)\n",
    "     words = [t for t in tokens if t not in stop_words]\n",
    "     lemmatize = [lemma.lemmatize(w) for w in words]\n",
    "     return lemmatize\n",
    "preprocess_tag = [text_prep(i) for i in df['Reviews']]\n",
    "df[\"preprocess_txt\"] = preprocess_tag\n",
    "df['total_len'] = df['preprocess_txt'].map(lambda x: len(x))\n",
    "file = open('negative-words.txt', 'r')\n",
    "neg_words = file.read().split()\n",
    "file = open('positive-words.txt', 'r')\n",
    "pos_words = file.read().split()\n",
    "num_pos = df['preprocess_txt'].map(lambda x: len([i for i in x if i in pos_words]))\n",
    "df['pos_count'] = num_pos\n",
    "num_neg = df['preprocess_txt'].map(lambda x: len([i for i in x if i in neg_words]))\n",
    "df['neg_count'] = num_neg\n",
    "df['sentiment'] = round((df['pos_count'] - df['neg_count']) / df['total_len'], 2)\n",
    "df.head()\n"
   ]
  },
  {
   "cell_type": "code",
   "execution_count": 212,
   "metadata": {},
   "outputs": [
    {
     "data": {
      "text/html": [
       "<div>\n",
       "<style scoped>\n",
       "    .dataframe tbody tr th:only-of-type {\n",
       "        vertical-align: middle;\n",
       "    }\n",
       "\n",
       "    .dataframe tbody tr th {\n",
       "        vertical-align: top;\n",
       "    }\n",
       "\n",
       "    .dataframe thead th {\n",
       "        text-align: right;\n",
       "    }\n",
       "</style>\n",
       "<table border=\"1\" class=\"dataframe\">\n",
       "  <thead>\n",
       "    <tr style=\"text-align: right;\">\n",
       "      <th></th>\n",
       "      <th>Genre</th>\n",
       "      <th>MovieName</th>\n",
       "      <th>Overview</th>\n",
       "      <th>User_ID</th>\n",
       "      <th>Reviews</th>\n",
       "      <th>Ratings</th>\n",
       "      <th>Movie_ID</th>\n",
       "      <th>preprocess_txt</th>\n",
       "      <th>total_len</th>\n",
       "      <th>pos_count</th>\n",
       "      <th>neg_count</th>\n",
       "      <th>sentiment</th>\n",
       "      <th>Sentiment_Ratings</th>\n",
       "    </tr>\n",
       "  </thead>\n",
       "  <tbody>\n",
       "    <tr>\n",
       "      <th>0</th>\n",
       "      <td>Action</td>\n",
       "      <td>The Shawshank Redemption</td>\n",
       "      <td>Chronicles the experiences of a formerly succe...</td>\n",
       "      <td>100.0</td>\n",
       "      <td>The Shawshank Redemption holds the Number 1 sp...</td>\n",
       "      <td>10</td>\n",
       "      <td>1</td>\n",
       "      <td>[shawshank, redemption, hold, number, spot, to...</td>\n",
       "      <td>274</td>\n",
       "      <td>45</td>\n",
       "      <td>12</td>\n",
       "      <td>0.12</td>\n",
       "      <td>positive</td>\n",
       "    </tr>\n",
       "    <tr>\n",
       "      <th>1</th>\n",
       "      <td>Action</td>\n",
       "      <td>The Shawshank Redemption</td>\n",
       "      <td>Chronicles the experiences of a formerly succe...</td>\n",
       "      <td>101.0</td>\n",
       "      <td>However delightful as it is The Shawshank Rede...</td>\n",
       "      <td>10</td>\n",
       "      <td>1</td>\n",
       "      <td>[however, delightful, shawshank, redemption, a...</td>\n",
       "      <td>303</td>\n",
       "      <td>45</td>\n",
       "      <td>23</td>\n",
       "      <td>0.07</td>\n",
       "      <td>positive</td>\n",
       "    </tr>\n",
       "    <tr>\n",
       "      <th>2</th>\n",
       "      <td>Action</td>\n",
       "      <td>The Shawshank Redemption</td>\n",
       "      <td>Chronicles the experiences of a formerly succe...</td>\n",
       "      <td>102.0</td>\n",
       "      <td>However delightful as it is The Shawshank Rede...</td>\n",
       "      <td>10</td>\n",
       "      <td>1</td>\n",
       "      <td>[however, delightful, shawshank, redemption, a...</td>\n",
       "      <td>303</td>\n",
       "      <td>45</td>\n",
       "      <td>23</td>\n",
       "      <td>0.07</td>\n",
       "      <td>positive</td>\n",
       "    </tr>\n",
       "    <tr>\n",
       "      <th>3</th>\n",
       "      <td>Action</td>\n",
       "      <td>The Shawshank Redemption</td>\n",
       "      <td>Chronicles the experiences of a formerly succe...</td>\n",
       "      <td>103.0</td>\n",
       "      <td>\"The Shawshank Redemption\" is a cinematic gem ...</td>\n",
       "      <td>10</td>\n",
       "      <td>1</td>\n",
       "      <td>[shawshank, redemption, cinematic, gem, transc...</td>\n",
       "      <td>229</td>\n",
       "      <td>31</td>\n",
       "      <td>10</td>\n",
       "      <td>0.09</td>\n",
       "      <td>positive</td>\n",
       "    </tr>\n",
       "    <tr>\n",
       "      <th>4</th>\n",
       "      <td>Action</td>\n",
       "      <td>The Shawshank Redemption</td>\n",
       "      <td>Chronicles the experiences of a formerly succe...</td>\n",
       "      <td>104.0</td>\n",
       "      <td>\"Hope is a good thing probably best of all &amp; g...</td>\n",
       "      <td>10</td>\n",
       "      <td>1</td>\n",
       "      <td>[hope, good, thing, probably, best, good, thin...</td>\n",
       "      <td>160</td>\n",
       "      <td>18</td>\n",
       "      <td>18</td>\n",
       "      <td>0.00</td>\n",
       "      <td>neutral</td>\n",
       "    </tr>\n",
       "  </tbody>\n",
       "</table>\n",
       "</div>"
      ],
      "text/plain": [
       "    Genre                 MovieName  \\\n",
       "0  Action  The Shawshank Redemption   \n",
       "1  Action  The Shawshank Redemption   \n",
       "2  Action  The Shawshank Redemption   \n",
       "3  Action  The Shawshank Redemption   \n",
       "4  Action  The Shawshank Redemption   \n",
       "\n",
       "                                            Overview  User_ID  \\\n",
       "0  Chronicles the experiences of a formerly succe...    100.0   \n",
       "1  Chronicles the experiences of a formerly succe...    101.0   \n",
       "2  Chronicles the experiences of a formerly succe...    102.0   \n",
       "3  Chronicles the experiences of a formerly succe...    103.0   \n",
       "4  Chronicles the experiences of a formerly succe...    104.0   \n",
       "\n",
       "                                             Reviews Ratings  Movie_ID  \\\n",
       "0  The Shawshank Redemption holds the Number 1 sp...      10         1   \n",
       "1  However delightful as it is The Shawshank Rede...      10         1   \n",
       "2  However delightful as it is The Shawshank Rede...      10         1   \n",
       "3  \"The Shawshank Redemption\" is a cinematic gem ...      10         1   \n",
       "4  \"Hope is a good thing probably best of all & g...      10         1   \n",
       "\n",
       "                                      preprocess_txt  total_len  pos_count  \\\n",
       "0  [shawshank, redemption, hold, number, spot, to...        274         45   \n",
       "1  [however, delightful, shawshank, redemption, a...        303         45   \n",
       "2  [however, delightful, shawshank, redemption, a...        303         45   \n",
       "3  [shawshank, redemption, cinematic, gem, transc...        229         31   \n",
       "4  [hope, good, thing, probably, best, good, thin...        160         18   \n",
       "\n",
       "   neg_count  sentiment Sentiment_Ratings  \n",
       "0         12       0.12          positive  \n",
       "1         23       0.07          positive  \n",
       "2         23       0.07          positive  \n",
       "3         10       0.09          positive  \n",
       "4         18       0.00           neutral  "
      ]
     },
     "execution_count": 212,
     "metadata": {},
     "output_type": "execute_result"
    }
   ],
   "source": [
    "def categorize_movie_rating(sentiment):\n",
    "    if sentiment >0:\n",
    "        return \"positive\"; #3 means positve rating\n",
    "    elif sentiment == 0:\n",
    "        return \"neutral\"; #neutral\n",
    "    else:\n",
    "        return \"negative\"; #not liked rating\n",
    "     \n",
    "df['Sentiment_Ratings'] = df['sentiment'].apply(categorize_movie_rating)\n",
    "df.head()"
   ]
  },
  {
   "cell_type": "code",
   "execution_count": 213,
   "metadata": {},
   "outputs": [],
   "source": [
    "df['Reviews'] = df['Reviews'].apply(lambda x: remove_numbers(x))\n",
    "df['Reviews'] = df['Reviews'].apply(lambda x: remove_html_tags(x))\n",
    "df['Reviews'] = df['Reviews'].apply(lambda x: remove_symbols(x))\n"
   ]
  },
  {
   "cell_type": "code",
   "execution_count": 214,
   "metadata": {},
   "outputs": [],
   "source": [
    "from sklearn.feature_extraction.text import TfidfVectorizer\n",
    "from sklearn.ensemble import RandomForestClassifier\n",
    "from sklearn.metrics import accuracy_score, classification_report\n",
    "import en_core_web_sm\n",
    "import spacy"
   ]
  },
  {
   "cell_type": "markdown",
   "metadata": {},
   "source": [
    "What is spacy?\n",
    "\n",
    "spaCy is designed specifically for production use and helps you build applications that process and undertsand large volumes of text. It can be used to build information extraction or natural language understanding systems or to pre process text for deep learning. It provides advanced capabilities to conduct natural langauge preprocessing(NLP) on large volumes of texts at high speed. It hepls you build models and production applications that can underpim document analysis, chatbot capanilities and all other forms of text analysis."
   ]
  },
  {
   "cell_type": "markdown",
   "metadata": {},
   "source": [
    "What is en_core_web_sm?\n",
    "\n",
    "en_core_web_sm is a small English pipeline trained on written web text (blog,newn comments)that includes vocabulary syntax and entities, It is an Enligh language multi task Convolutionsla Neural Network CNN. Assigns context-spcific token vectors, POS tags , dependency parse and named entitites."
   ]
  },
  {
   "cell_type": "code",
   "execution_count": 215,
   "metadata": {},
   "outputs": [
    {
     "data": {
      "text/plain": [
       "<spacy.lang.en.English at 0x278cccc3c10>"
      ]
     },
     "execution_count": 215,
     "metadata": {},
     "output_type": "execute_result"
    }
   ],
   "source": [
    "nlp = en_core_web_sm.load()\n",
    "nlp"
   ]
  },
  {
   "cell_type": "code",
   "execution_count": 216,
   "metadata": {},
   "outputs": [],
   "source": [
    "#creating a function to pass each review one by one \n",
    "def preprocess(text):\n",
    "    doc = nlp(text)\n",
    "    filtered_tokens = []\n",
    "    for token in doc:\n",
    "        if token.is_stop or token.is_punct:\n",
    "            continue\n",
    "        filtered_tokens.append(token.lemma_)\n",
    "\n",
    "    return \" \".join(filtered_tokens)"
   ]
  },
  {
   "cell_type": "code",
   "execution_count": 217,
   "metadata": {},
   "outputs": [],
   "source": [
    "df['preprocessed_review'] = df['Reviews'].apply(preprocess)"
   ]
  },
  {
   "cell_type": "code",
   "execution_count": 218,
   "metadata": {},
   "outputs": [
    {
     "data": {
      "text/html": [
       "<div>\n",
       "<style scoped>\n",
       "    .dataframe tbody tr th:only-of-type {\n",
       "        vertical-align: middle;\n",
       "    }\n",
       "\n",
       "    .dataframe tbody tr th {\n",
       "        vertical-align: top;\n",
       "    }\n",
       "\n",
       "    .dataframe thead th {\n",
       "        text-align: right;\n",
       "    }\n",
       "</style>\n",
       "<table border=\"1\" class=\"dataframe\">\n",
       "  <thead>\n",
       "    <tr style=\"text-align: right;\">\n",
       "      <th></th>\n",
       "      <th>Genre</th>\n",
       "      <th>MovieName</th>\n",
       "      <th>Overview</th>\n",
       "      <th>User_ID</th>\n",
       "      <th>Reviews</th>\n",
       "      <th>Ratings</th>\n",
       "      <th>Movie_ID</th>\n",
       "      <th>preprocess_txt</th>\n",
       "      <th>total_len</th>\n",
       "      <th>pos_count</th>\n",
       "      <th>neg_count</th>\n",
       "      <th>sentiment</th>\n",
       "      <th>Sentiment_Ratings</th>\n",
       "      <th>preprocessed_review</th>\n",
       "    </tr>\n",
       "  </thead>\n",
       "  <tbody>\n",
       "    <tr>\n",
       "      <th>0</th>\n",
       "      <td>Action</td>\n",
       "      <td>The Shawshank Redemption</td>\n",
       "      <td>Chronicles the experiences of a formerly succe...</td>\n",
       "      <td>100.0</td>\n",
       "      <td>The Shawshank Redemption holds the Number  spo...</td>\n",
       "      <td>10</td>\n",
       "      <td>1</td>\n",
       "      <td>[shawshank, redemption, hold, number, spot, to...</td>\n",
       "      <td>274</td>\n",
       "      <td>45</td>\n",
       "      <td>12</td>\n",
       "      <td>0.12</td>\n",
       "      <td>positive</td>\n",
       "      <td>Shawshank Redemption hold number   spot Top- E...</td>\n",
       "    </tr>\n",
       "    <tr>\n",
       "      <th>1</th>\n",
       "      <td>Action</td>\n",
       "      <td>The Shawshank Redemption</td>\n",
       "      <td>Chronicles the experiences of a formerly succe...</td>\n",
       "      <td>101.0</td>\n",
       "      <td>However delightful as it is The Shawshank Rede...</td>\n",
       "      <td>10</td>\n",
       "      <td>1</td>\n",
       "      <td>[however, delightful, shawshank, redemption, a...</td>\n",
       "      <td>303</td>\n",
       "      <td>45</td>\n",
       "      <td>23</td>\n",
       "      <td>0.07</td>\n",
       "      <td>positive</td>\n",
       "      <td>delightful Shawshank Redemption allegory state...</td>\n",
       "    </tr>\n",
       "    <tr>\n",
       "      <th>2</th>\n",
       "      <td>Action</td>\n",
       "      <td>The Shawshank Redemption</td>\n",
       "      <td>Chronicles the experiences of a formerly succe...</td>\n",
       "      <td>102.0</td>\n",
       "      <td>However delightful as it is The Shawshank Rede...</td>\n",
       "      <td>10</td>\n",
       "      <td>1</td>\n",
       "      <td>[however, delightful, shawshank, redemption, a...</td>\n",
       "      <td>303</td>\n",
       "      <td>45</td>\n",
       "      <td>23</td>\n",
       "      <td>0.07</td>\n",
       "      <td>positive</td>\n",
       "      <td>delightful Shawshank Redemption allegory state...</td>\n",
       "    </tr>\n",
       "    <tr>\n",
       "      <th>3</th>\n",
       "      <td>Action</td>\n",
       "      <td>The Shawshank Redemption</td>\n",
       "      <td>Chronicles the experiences of a formerly succe...</td>\n",
       "      <td>103.0</td>\n",
       "      <td>\"The Shawshank Redemption\" is a cinematic gem ...</td>\n",
       "      <td>10</td>\n",
       "      <td>1</td>\n",
       "      <td>[shawshank, redemption, cinematic, gem, transc...</td>\n",
       "      <td>229</td>\n",
       "      <td>31</td>\n",
       "      <td>10</td>\n",
       "      <td>0.09</td>\n",
       "      <td>positive</td>\n",
       "      <td>Shawshank Redemption cinematic gem transcend b...</td>\n",
       "    </tr>\n",
       "    <tr>\n",
       "      <th>4</th>\n",
       "      <td>Action</td>\n",
       "      <td>The Shawshank Redemption</td>\n",
       "      <td>Chronicles the experiences of a formerly succe...</td>\n",
       "      <td>104.0</td>\n",
       "      <td>\"Hope is a good thing probably best of all  go...</td>\n",
       "      <td>10</td>\n",
       "      <td>1</td>\n",
       "      <td>[hope, good, thing, probably, best, good, thin...</td>\n",
       "      <td>160</td>\n",
       "      <td>18</td>\n",
       "      <td>18</td>\n",
       "      <td>0.00</td>\n",
       "      <td>neutral</td>\n",
       "      <td>Hope good thing probably good   good thing die...</td>\n",
       "    </tr>\n",
       "    <tr>\n",
       "      <th>5</th>\n",
       "      <td>SuperHero</td>\n",
       "      <td>The Dark Night</td>\n",
       "      <td>Set within a year after the events of Batman B...</td>\n",
       "      <td>105.0</td>\n",
       "      <td>Confidently directed, dark, brooding, and pack...</td>\n",
       "      <td>10</td>\n",
       "      <td>2</td>\n",
       "      <td>[confidently, directed, dark, brooding, packed...</td>\n",
       "      <td>32</td>\n",
       "      <td>4</td>\n",
       "      <td>3</td>\n",
       "      <td>0.03</td>\n",
       "      <td>positive</td>\n",
       "      <td>confidently direct dark brooding pack impressi...</td>\n",
       "    </tr>\n",
       "    <tr>\n",
       "      <th>6</th>\n",
       "      <td>SuperHero</td>\n",
       "      <td>The Dark Night</td>\n",
       "      <td>Set within a year after the events of Batman B...</td>\n",
       "      <td>106.0</td>\n",
       "      <td>Dark, yes, complex, ambitious. Christopher Nol...</td>\n",
       "      <td>10</td>\n",
       "      <td>2</td>\n",
       "      <td>[dark, yes, complex, ambitious, christopher, n...</td>\n",
       "      <td>87</td>\n",
       "      <td>12</td>\n",
       "      <td>10</td>\n",
       "      <td>0.02</td>\n",
       "      <td>positive</td>\n",
       "      <td>Dark yes complex ambitious Christopher Nolan c...</td>\n",
       "    </tr>\n",
       "    <tr>\n",
       "      <th>7</th>\n",
       "      <td>SuperHero</td>\n",
       "      <td>The Dark Night</td>\n",
       "      <td>Set within a year after the events of Batman B...</td>\n",
       "      <td>107.0</td>\n",
       "      <td>It is just what you want for the best movie. G...</td>\n",
       "      <td>10</td>\n",
       "      <td>2</td>\n",
       "      <td>[want, best, movie, great, story, great, actin...</td>\n",
       "      <td>21</td>\n",
       "      <td>5</td>\n",
       "      <td>3</td>\n",
       "      <td>0.10</td>\n",
       "      <td>positive</td>\n",
       "      <td>want good movie great story great act thrillin...</td>\n",
       "    </tr>\n",
       "    <tr>\n",
       "      <th>8</th>\n",
       "      <td>SuperHero</td>\n",
       "      <td>The Dark Night</td>\n",
       "      <td>Set within a year after the events of Batman B...</td>\n",
       "      <td>108.0</td>\n",
       "      <td>I couldnt believe \"The Dark knight\" could live...</td>\n",
       "      <td>10</td>\n",
       "      <td>2</td>\n",
       "      <td>[believe, dark, knight, could, live, hype, per...</td>\n",
       "      <td>70</td>\n",
       "      <td>16</td>\n",
       "      <td>5</td>\n",
       "      <td>0.16</td>\n",
       "      <td>positive</td>\n",
       "      <td>not believe Dark knight live hype s big surpri...</td>\n",
       "    </tr>\n",
       "    <tr>\n",
       "      <th>9</th>\n",
       "      <td>SuperHero</td>\n",
       "      <td>The Dark Night</td>\n",
       "      <td>Set within a year after the events of Batman B...</td>\n",
       "      <td>109.0</td>\n",
       "      <td>This movie is a work of art. The finest sequel...</td>\n",
       "      <td>10</td>\n",
       "      <td>2</td>\n",
       "      <td>[movie, work, art, finest, sequel, ever, made,...</td>\n",
       "      <td>48</td>\n",
       "      <td>11</td>\n",
       "      <td>3</td>\n",
       "      <td>0.17</td>\n",
       "      <td>positive</td>\n",
       "      <td>movie work art fine sequel not think movie lik...</td>\n",
       "    </tr>\n",
       "    <tr>\n",
       "      <th>10</th>\n",
       "      <td>SuperHero</td>\n",
       "      <td>The Dark Night</td>\n",
       "      <td>Set within a year after the events of Batman B...</td>\n",
       "      <td>110.0</td>\n",
       "      <td>Its hard to find what is wrong with a movie th...</td>\n",
       "      <td>7</td>\n",
       "      <td>2</td>\n",
       "      <td>[hard, find, wrong, movie, seems, well, crafte...</td>\n",
       "      <td>150</td>\n",
       "      <td>15</td>\n",
       "      <td>21</td>\n",
       "      <td>-0.04</td>\n",
       "      <td>negative</td>\n",
       "      <td>hard find wrong movie craft let start say Dark...</td>\n",
       "    </tr>\n",
       "    <tr>\n",
       "      <th>11</th>\n",
       "      <td>SuperHero</td>\n",
       "      <td>The Dark Night</td>\n",
       "      <td>Set within a year after the events of Batman B...</td>\n",
       "      <td>111.0</td>\n",
       "      <td>I just rented this from Netflix and forced mys...</td>\n",
       "      <td>7</td>\n",
       "      <td>2</td>\n",
       "      <td>[rented, netflix, forced, watch, till, end, dr...</td>\n",
       "      <td>84</td>\n",
       "      <td>6</td>\n",
       "      <td>11</td>\n",
       "      <td>-0.06</td>\n",
       "      <td>negative</td>\n",
       "      <td>rent Netflix force watch till end dreadful bor...</td>\n",
       "    </tr>\n",
       "    <tr>\n",
       "      <th>12</th>\n",
       "      <td>SuperHero</td>\n",
       "      <td>The Dark Night</td>\n",
       "      <td>Set within a year after the events of Batman B...</td>\n",
       "      <td>112.0</td>\n",
       "      <td>Another example of an over-hyped movie, but no...</td>\n",
       "      <td>5</td>\n",
       "      <td>2</td>\n",
       "      <td>[another, example, hyped, movie, extreme, say,...</td>\n",
       "      <td>76</td>\n",
       "      <td>13</td>\n",
       "      <td>3</td>\n",
       "      <td>0.13</td>\n",
       "      <td>positive</td>\n",
       "      <td>example hype movie extreme piece junk regard g...</td>\n",
       "    </tr>\n",
       "    <tr>\n",
       "      <th>13</th>\n",
       "      <td>SuperHero</td>\n",
       "      <td>The Dark Night</td>\n",
       "      <td>Set within a year after the events of Batman B...</td>\n",
       "      <td>113.0</td>\n",
       "      <td>I gave this film a one just to pull down the o...</td>\n",
       "      <td>3</td>\n",
       "      <td>2</td>\n",
       "      <td>[gave, film, one, pull, overall, score, film, ...</td>\n",
       "      <td>17</td>\n",
       "      <td>1</td>\n",
       "      <td>0</td>\n",
       "      <td>0.06</td>\n",
       "      <td>positive</td>\n",
       "      <td>give film pull overall score film not deserve ...</td>\n",
       "    </tr>\n",
       "    <tr>\n",
       "      <th>14</th>\n",
       "      <td>SuperHero</td>\n",
       "      <td>The Dark Night</td>\n",
       "      <td>Set within a year after the events of Batman B...</td>\n",
       "      <td>114.0</td>\n",
       "      <td>Heath Ledger was great in his role as a Joker ...</td>\n",
       "      <td>2</td>\n",
       "      <td>2</td>\n",
       "      <td>[heath, ledger, great, role, joker, doubt, ear...</td>\n",
       "      <td>30</td>\n",
       "      <td>2</td>\n",
       "      <td>3</td>\n",
       "      <td>-0.03</td>\n",
       "      <td>negative</td>\n",
       "      <td>Heath Ledger great role Joker doubt early depa...</td>\n",
       "    </tr>\n",
       "  </tbody>\n",
       "</table>\n",
       "</div>"
      ],
      "text/plain": [
       "        Genre                 MovieName  \\\n",
       "0      Action  The Shawshank Redemption   \n",
       "1      Action  The Shawshank Redemption   \n",
       "2      Action  The Shawshank Redemption   \n",
       "3      Action  The Shawshank Redemption   \n",
       "4      Action  The Shawshank Redemption   \n",
       "5   SuperHero            The Dark Night   \n",
       "6   SuperHero            The Dark Night   \n",
       "7   SuperHero            The Dark Night   \n",
       "8   SuperHero            The Dark Night   \n",
       "9   SuperHero            The Dark Night   \n",
       "10  SuperHero            The Dark Night   \n",
       "11  SuperHero            The Dark Night   \n",
       "12  SuperHero            The Dark Night   \n",
       "13  SuperHero            The Dark Night   \n",
       "14  SuperHero            The Dark Night   \n",
       "\n",
       "                                             Overview  User_ID  \\\n",
       "0   Chronicles the experiences of a formerly succe...    100.0   \n",
       "1   Chronicles the experiences of a formerly succe...    101.0   \n",
       "2   Chronicles the experiences of a formerly succe...    102.0   \n",
       "3   Chronicles the experiences of a formerly succe...    103.0   \n",
       "4   Chronicles the experiences of a formerly succe...    104.0   \n",
       "5   Set within a year after the events of Batman B...    105.0   \n",
       "6   Set within a year after the events of Batman B...    106.0   \n",
       "7   Set within a year after the events of Batman B...    107.0   \n",
       "8   Set within a year after the events of Batman B...    108.0   \n",
       "9   Set within a year after the events of Batman B...    109.0   \n",
       "10  Set within a year after the events of Batman B...    110.0   \n",
       "11  Set within a year after the events of Batman B...    111.0   \n",
       "12  Set within a year after the events of Batman B...    112.0   \n",
       "13  Set within a year after the events of Batman B...    113.0   \n",
       "14  Set within a year after the events of Batman B...    114.0   \n",
       "\n",
       "                                              Reviews Ratings  Movie_ID  \\\n",
       "0   The Shawshank Redemption holds the Number  spo...      10         1   \n",
       "1   However delightful as it is The Shawshank Rede...      10         1   \n",
       "2   However delightful as it is The Shawshank Rede...      10         1   \n",
       "3   \"The Shawshank Redemption\" is a cinematic gem ...      10         1   \n",
       "4   \"Hope is a good thing probably best of all  go...      10         1   \n",
       "5   Confidently directed, dark, brooding, and pack...      10         2   \n",
       "6   Dark, yes, complex, ambitious. Christopher Nol...      10         2   \n",
       "7   It is just what you want for the best movie. G...      10         2   \n",
       "8   I couldnt believe \"The Dark knight\" could live...      10         2   \n",
       "9   This movie is a work of art. The finest sequel...      10         2   \n",
       "10  Its hard to find what is wrong with a movie th...       7         2   \n",
       "11  I just rented this from Netflix and forced mys...       7         2   \n",
       "12  Another example of an over-hyped movie, but no...       5         2   \n",
       "13  I gave this film a one just to pull down the o...       3         2   \n",
       "14  Heath Ledger was great in his role as a Joker ...       2         2   \n",
       "\n",
       "                                       preprocess_txt  total_len  pos_count  \\\n",
       "0   [shawshank, redemption, hold, number, spot, to...        274         45   \n",
       "1   [however, delightful, shawshank, redemption, a...        303         45   \n",
       "2   [however, delightful, shawshank, redemption, a...        303         45   \n",
       "3   [shawshank, redemption, cinematic, gem, transc...        229         31   \n",
       "4   [hope, good, thing, probably, best, good, thin...        160         18   \n",
       "5   [confidently, directed, dark, brooding, packed...         32          4   \n",
       "6   [dark, yes, complex, ambitious, christopher, n...         87         12   \n",
       "7   [want, best, movie, great, story, great, actin...         21          5   \n",
       "8   [believe, dark, knight, could, live, hype, per...         70         16   \n",
       "9   [movie, work, art, finest, sequel, ever, made,...         48         11   \n",
       "10  [hard, find, wrong, movie, seems, well, crafte...        150         15   \n",
       "11  [rented, netflix, forced, watch, till, end, dr...         84          6   \n",
       "12  [another, example, hyped, movie, extreme, say,...         76         13   \n",
       "13  [gave, film, one, pull, overall, score, film, ...         17          1   \n",
       "14  [heath, ledger, great, role, joker, doubt, ear...         30          2   \n",
       "\n",
       "    neg_count  sentiment Sentiment_Ratings  \\\n",
       "0          12       0.12          positive   \n",
       "1          23       0.07          positive   \n",
       "2          23       0.07          positive   \n",
       "3          10       0.09          positive   \n",
       "4          18       0.00           neutral   \n",
       "5           3       0.03          positive   \n",
       "6          10       0.02          positive   \n",
       "7           3       0.10          positive   \n",
       "8           5       0.16          positive   \n",
       "9           3       0.17          positive   \n",
       "10         21      -0.04          negative   \n",
       "11         11      -0.06          negative   \n",
       "12          3       0.13          positive   \n",
       "13          0       0.06          positive   \n",
       "14          3      -0.03          negative   \n",
       "\n",
       "                                  preprocessed_review  \n",
       "0   Shawshank Redemption hold number   spot Top- E...  \n",
       "1   delightful Shawshank Redemption allegory state...  \n",
       "2   delightful Shawshank Redemption allegory state...  \n",
       "3   Shawshank Redemption cinematic gem transcend b...  \n",
       "4   Hope good thing probably good   good thing die...  \n",
       "5   confidently direct dark brooding pack impressi...  \n",
       "6   Dark yes complex ambitious Christopher Nolan c...  \n",
       "7   want good movie great story great act thrillin...  \n",
       "8   not believe Dark knight live hype s big surpri...  \n",
       "9   movie work art fine sequel not think movie lik...  \n",
       "10  hard find wrong movie craft let start say Dark...  \n",
       "11  rent Netflix force watch till end dreadful bor...  \n",
       "12  example hype movie extreme piece junk regard g...  \n",
       "13  give film pull overall score film not deserve ...  \n",
       "14  Heath Ledger great role Joker doubt early depa...  "
      ]
     },
     "execution_count": 218,
     "metadata": {},
     "output_type": "execute_result"
    }
   ],
   "source": [
    "df.head(15)"
   ]
  },
  {
   "cell_type": "code",
   "execution_count": 219,
   "metadata": {},
   "outputs": [
    {
     "data": {
      "text/html": [
       "<div>\n",
       "<style scoped>\n",
       "    .dataframe tbody tr th:only-of-type {\n",
       "        vertical-align: middle;\n",
       "    }\n",
       "\n",
       "    .dataframe tbody tr th {\n",
       "        vertical-align: top;\n",
       "    }\n",
       "\n",
       "    .dataframe thead th {\n",
       "        text-align: right;\n",
       "    }\n",
       "</style>\n",
       "<table border=\"1\" class=\"dataframe\">\n",
       "  <thead>\n",
       "    <tr style=\"text-align: right;\">\n",
       "      <th></th>\n",
       "      <th>Genre</th>\n",
       "      <th>MovieName</th>\n",
       "      <th>Overview</th>\n",
       "      <th>User_ID</th>\n",
       "      <th>Reviews</th>\n",
       "      <th>Ratings</th>\n",
       "      <th>Movie_ID</th>\n",
       "      <th>preprocess_txt</th>\n",
       "      <th>total_len</th>\n",
       "      <th>pos_count</th>\n",
       "      <th>neg_count</th>\n",
       "      <th>sentiment</th>\n",
       "      <th>Sentiment_Ratings</th>\n",
       "      <th>preprocessed_review</th>\n",
       "    </tr>\n",
       "  </thead>\n",
       "  <tbody>\n",
       "    <tr>\n",
       "      <th>0</th>\n",
       "      <td>Action</td>\n",
       "      <td>The Shawshank Redemption</td>\n",
       "      <td>Chronicles the experiences of a formerly succe...</td>\n",
       "      <td>100.0</td>\n",
       "      <td>The Shawshank Redemption holds the Number  spo...</td>\n",
       "      <td>10</td>\n",
       "      <td>1</td>\n",
       "      <td>[shawshank, redemption, hold, number, spot, to...</td>\n",
       "      <td>274</td>\n",
       "      <td>45</td>\n",
       "      <td>12</td>\n",
       "      <td>0.12</td>\n",
       "      <td>2</td>\n",
       "      <td>Shawshank Redemption hold number   spot Top- E...</td>\n",
       "    </tr>\n",
       "    <tr>\n",
       "      <th>1</th>\n",
       "      <td>Action</td>\n",
       "      <td>The Shawshank Redemption</td>\n",
       "      <td>Chronicles the experiences of a formerly succe...</td>\n",
       "      <td>101.0</td>\n",
       "      <td>However delightful as it is The Shawshank Rede...</td>\n",
       "      <td>10</td>\n",
       "      <td>1</td>\n",
       "      <td>[however, delightful, shawshank, redemption, a...</td>\n",
       "      <td>303</td>\n",
       "      <td>45</td>\n",
       "      <td>23</td>\n",
       "      <td>0.07</td>\n",
       "      <td>2</td>\n",
       "      <td>delightful Shawshank Redemption allegory state...</td>\n",
       "    </tr>\n",
       "    <tr>\n",
       "      <th>2</th>\n",
       "      <td>Action</td>\n",
       "      <td>The Shawshank Redemption</td>\n",
       "      <td>Chronicles the experiences of a formerly succe...</td>\n",
       "      <td>102.0</td>\n",
       "      <td>However delightful as it is The Shawshank Rede...</td>\n",
       "      <td>10</td>\n",
       "      <td>1</td>\n",
       "      <td>[however, delightful, shawshank, redemption, a...</td>\n",
       "      <td>303</td>\n",
       "      <td>45</td>\n",
       "      <td>23</td>\n",
       "      <td>0.07</td>\n",
       "      <td>2</td>\n",
       "      <td>delightful Shawshank Redemption allegory state...</td>\n",
       "    </tr>\n",
       "    <tr>\n",
       "      <th>3</th>\n",
       "      <td>Action</td>\n",
       "      <td>The Shawshank Redemption</td>\n",
       "      <td>Chronicles the experiences of a formerly succe...</td>\n",
       "      <td>103.0</td>\n",
       "      <td>\"The Shawshank Redemption\" is a cinematic gem ...</td>\n",
       "      <td>10</td>\n",
       "      <td>1</td>\n",
       "      <td>[shawshank, redemption, cinematic, gem, transc...</td>\n",
       "      <td>229</td>\n",
       "      <td>31</td>\n",
       "      <td>10</td>\n",
       "      <td>0.09</td>\n",
       "      <td>2</td>\n",
       "      <td>Shawshank Redemption cinematic gem transcend b...</td>\n",
       "    </tr>\n",
       "    <tr>\n",
       "      <th>4</th>\n",
       "      <td>Action</td>\n",
       "      <td>The Shawshank Redemption</td>\n",
       "      <td>Chronicles the experiences of a formerly succe...</td>\n",
       "      <td>104.0</td>\n",
       "      <td>\"Hope is a good thing probably best of all  go...</td>\n",
       "      <td>10</td>\n",
       "      <td>1</td>\n",
       "      <td>[hope, good, thing, probably, best, good, thin...</td>\n",
       "      <td>160</td>\n",
       "      <td>18</td>\n",
       "      <td>18</td>\n",
       "      <td>0.00</td>\n",
       "      <td>1</td>\n",
       "      <td>Hope good thing probably good   good thing die...</td>\n",
       "    </tr>\n",
       "    <tr>\n",
       "      <th>5</th>\n",
       "      <td>SuperHero</td>\n",
       "      <td>The Dark Night</td>\n",
       "      <td>Set within a year after the events of Batman B...</td>\n",
       "      <td>105.0</td>\n",
       "      <td>Confidently directed, dark, brooding, and pack...</td>\n",
       "      <td>10</td>\n",
       "      <td>2</td>\n",
       "      <td>[confidently, directed, dark, brooding, packed...</td>\n",
       "      <td>32</td>\n",
       "      <td>4</td>\n",
       "      <td>3</td>\n",
       "      <td>0.03</td>\n",
       "      <td>2</td>\n",
       "      <td>confidently direct dark brooding pack impressi...</td>\n",
       "    </tr>\n",
       "    <tr>\n",
       "      <th>6</th>\n",
       "      <td>SuperHero</td>\n",
       "      <td>The Dark Night</td>\n",
       "      <td>Set within a year after the events of Batman B...</td>\n",
       "      <td>106.0</td>\n",
       "      <td>Dark, yes, complex, ambitious. Christopher Nol...</td>\n",
       "      <td>10</td>\n",
       "      <td>2</td>\n",
       "      <td>[dark, yes, complex, ambitious, christopher, n...</td>\n",
       "      <td>87</td>\n",
       "      <td>12</td>\n",
       "      <td>10</td>\n",
       "      <td>0.02</td>\n",
       "      <td>2</td>\n",
       "      <td>Dark yes complex ambitious Christopher Nolan c...</td>\n",
       "    </tr>\n",
       "    <tr>\n",
       "      <th>7</th>\n",
       "      <td>SuperHero</td>\n",
       "      <td>The Dark Night</td>\n",
       "      <td>Set within a year after the events of Batman B...</td>\n",
       "      <td>107.0</td>\n",
       "      <td>It is just what you want for the best movie. G...</td>\n",
       "      <td>10</td>\n",
       "      <td>2</td>\n",
       "      <td>[want, best, movie, great, story, great, actin...</td>\n",
       "      <td>21</td>\n",
       "      <td>5</td>\n",
       "      <td>3</td>\n",
       "      <td>0.10</td>\n",
       "      <td>2</td>\n",
       "      <td>want good movie great story great act thrillin...</td>\n",
       "    </tr>\n",
       "    <tr>\n",
       "      <th>8</th>\n",
       "      <td>SuperHero</td>\n",
       "      <td>The Dark Night</td>\n",
       "      <td>Set within a year after the events of Batman B...</td>\n",
       "      <td>108.0</td>\n",
       "      <td>I couldnt believe \"The Dark knight\" could live...</td>\n",
       "      <td>10</td>\n",
       "      <td>2</td>\n",
       "      <td>[believe, dark, knight, could, live, hype, per...</td>\n",
       "      <td>70</td>\n",
       "      <td>16</td>\n",
       "      <td>5</td>\n",
       "      <td>0.16</td>\n",
       "      <td>2</td>\n",
       "      <td>not believe Dark knight live hype s big surpri...</td>\n",
       "    </tr>\n",
       "    <tr>\n",
       "      <th>9</th>\n",
       "      <td>SuperHero</td>\n",
       "      <td>The Dark Night</td>\n",
       "      <td>Set within a year after the events of Batman B...</td>\n",
       "      <td>109.0</td>\n",
       "      <td>This movie is a work of art. The finest sequel...</td>\n",
       "      <td>10</td>\n",
       "      <td>2</td>\n",
       "      <td>[movie, work, art, finest, sequel, ever, made,...</td>\n",
       "      <td>48</td>\n",
       "      <td>11</td>\n",
       "      <td>3</td>\n",
       "      <td>0.17</td>\n",
       "      <td>2</td>\n",
       "      <td>movie work art fine sequel not think movie lik...</td>\n",
       "    </tr>\n",
       "    <tr>\n",
       "      <th>10</th>\n",
       "      <td>SuperHero</td>\n",
       "      <td>The Dark Night</td>\n",
       "      <td>Set within a year after the events of Batman B...</td>\n",
       "      <td>110.0</td>\n",
       "      <td>Its hard to find what is wrong with a movie th...</td>\n",
       "      <td>7</td>\n",
       "      <td>2</td>\n",
       "      <td>[hard, find, wrong, movie, seems, well, crafte...</td>\n",
       "      <td>150</td>\n",
       "      <td>15</td>\n",
       "      <td>21</td>\n",
       "      <td>-0.04</td>\n",
       "      <td>0</td>\n",
       "      <td>hard find wrong movie craft let start say Dark...</td>\n",
       "    </tr>\n",
       "    <tr>\n",
       "      <th>11</th>\n",
       "      <td>SuperHero</td>\n",
       "      <td>The Dark Night</td>\n",
       "      <td>Set within a year after the events of Batman B...</td>\n",
       "      <td>111.0</td>\n",
       "      <td>I just rented this from Netflix and forced mys...</td>\n",
       "      <td>7</td>\n",
       "      <td>2</td>\n",
       "      <td>[rented, netflix, forced, watch, till, end, dr...</td>\n",
       "      <td>84</td>\n",
       "      <td>6</td>\n",
       "      <td>11</td>\n",
       "      <td>-0.06</td>\n",
       "      <td>0</td>\n",
       "      <td>rent Netflix force watch till end dreadful bor...</td>\n",
       "    </tr>\n",
       "    <tr>\n",
       "      <th>12</th>\n",
       "      <td>SuperHero</td>\n",
       "      <td>The Dark Night</td>\n",
       "      <td>Set within a year after the events of Batman B...</td>\n",
       "      <td>112.0</td>\n",
       "      <td>Another example of an over-hyped movie, but no...</td>\n",
       "      <td>5</td>\n",
       "      <td>2</td>\n",
       "      <td>[another, example, hyped, movie, extreme, say,...</td>\n",
       "      <td>76</td>\n",
       "      <td>13</td>\n",
       "      <td>3</td>\n",
       "      <td>0.13</td>\n",
       "      <td>2</td>\n",
       "      <td>example hype movie extreme piece junk regard g...</td>\n",
       "    </tr>\n",
       "    <tr>\n",
       "      <th>13</th>\n",
       "      <td>SuperHero</td>\n",
       "      <td>The Dark Night</td>\n",
       "      <td>Set within a year after the events of Batman B...</td>\n",
       "      <td>113.0</td>\n",
       "      <td>I gave this film a one just to pull down the o...</td>\n",
       "      <td>3</td>\n",
       "      <td>2</td>\n",
       "      <td>[gave, film, one, pull, overall, score, film, ...</td>\n",
       "      <td>17</td>\n",
       "      <td>1</td>\n",
       "      <td>0</td>\n",
       "      <td>0.06</td>\n",
       "      <td>2</td>\n",
       "      <td>give film pull overall score film not deserve ...</td>\n",
       "    </tr>\n",
       "    <tr>\n",
       "      <th>14</th>\n",
       "      <td>SuperHero</td>\n",
       "      <td>The Dark Night</td>\n",
       "      <td>Set within a year after the events of Batman B...</td>\n",
       "      <td>114.0</td>\n",
       "      <td>Heath Ledger was great in his role as a Joker ...</td>\n",
       "      <td>2</td>\n",
       "      <td>2</td>\n",
       "      <td>[heath, ledger, great, role, joker, doubt, ear...</td>\n",
       "      <td>30</td>\n",
       "      <td>2</td>\n",
       "      <td>3</td>\n",
       "      <td>-0.03</td>\n",
       "      <td>0</td>\n",
       "      <td>Heath Ledger great role Joker doubt early depa...</td>\n",
       "    </tr>\n",
       "  </tbody>\n",
       "</table>\n",
       "</div>"
      ],
      "text/plain": [
       "        Genre                 MovieName  \\\n",
       "0      Action  The Shawshank Redemption   \n",
       "1      Action  The Shawshank Redemption   \n",
       "2      Action  The Shawshank Redemption   \n",
       "3      Action  The Shawshank Redemption   \n",
       "4      Action  The Shawshank Redemption   \n",
       "5   SuperHero            The Dark Night   \n",
       "6   SuperHero            The Dark Night   \n",
       "7   SuperHero            The Dark Night   \n",
       "8   SuperHero            The Dark Night   \n",
       "9   SuperHero            The Dark Night   \n",
       "10  SuperHero            The Dark Night   \n",
       "11  SuperHero            The Dark Night   \n",
       "12  SuperHero            The Dark Night   \n",
       "13  SuperHero            The Dark Night   \n",
       "14  SuperHero            The Dark Night   \n",
       "\n",
       "                                             Overview  User_ID  \\\n",
       "0   Chronicles the experiences of a formerly succe...    100.0   \n",
       "1   Chronicles the experiences of a formerly succe...    101.0   \n",
       "2   Chronicles the experiences of a formerly succe...    102.0   \n",
       "3   Chronicles the experiences of a formerly succe...    103.0   \n",
       "4   Chronicles the experiences of a formerly succe...    104.0   \n",
       "5   Set within a year after the events of Batman B...    105.0   \n",
       "6   Set within a year after the events of Batman B...    106.0   \n",
       "7   Set within a year after the events of Batman B...    107.0   \n",
       "8   Set within a year after the events of Batman B...    108.0   \n",
       "9   Set within a year after the events of Batman B...    109.0   \n",
       "10  Set within a year after the events of Batman B...    110.0   \n",
       "11  Set within a year after the events of Batman B...    111.0   \n",
       "12  Set within a year after the events of Batman B...    112.0   \n",
       "13  Set within a year after the events of Batman B...    113.0   \n",
       "14  Set within a year after the events of Batman B...    114.0   \n",
       "\n",
       "                                              Reviews Ratings  Movie_ID  \\\n",
       "0   The Shawshank Redemption holds the Number  spo...      10         1   \n",
       "1   However delightful as it is The Shawshank Rede...      10         1   \n",
       "2   However delightful as it is The Shawshank Rede...      10         1   \n",
       "3   \"The Shawshank Redemption\" is a cinematic gem ...      10         1   \n",
       "4   \"Hope is a good thing probably best of all  go...      10         1   \n",
       "5   Confidently directed, dark, brooding, and pack...      10         2   \n",
       "6   Dark, yes, complex, ambitious. Christopher Nol...      10         2   \n",
       "7   It is just what you want for the best movie. G...      10         2   \n",
       "8   I couldnt believe \"The Dark knight\" could live...      10         2   \n",
       "9   This movie is a work of art. The finest sequel...      10         2   \n",
       "10  Its hard to find what is wrong with a movie th...       7         2   \n",
       "11  I just rented this from Netflix and forced mys...       7         2   \n",
       "12  Another example of an over-hyped movie, but no...       5         2   \n",
       "13  I gave this film a one just to pull down the o...       3         2   \n",
       "14  Heath Ledger was great in his role as a Joker ...       2         2   \n",
       "\n",
       "                                       preprocess_txt  total_len  pos_count  \\\n",
       "0   [shawshank, redemption, hold, number, spot, to...        274         45   \n",
       "1   [however, delightful, shawshank, redemption, a...        303         45   \n",
       "2   [however, delightful, shawshank, redemption, a...        303         45   \n",
       "3   [shawshank, redemption, cinematic, gem, transc...        229         31   \n",
       "4   [hope, good, thing, probably, best, good, thin...        160         18   \n",
       "5   [confidently, directed, dark, brooding, packed...         32          4   \n",
       "6   [dark, yes, complex, ambitious, christopher, n...         87         12   \n",
       "7   [want, best, movie, great, story, great, actin...         21          5   \n",
       "8   [believe, dark, knight, could, live, hype, per...         70         16   \n",
       "9   [movie, work, art, finest, sequel, ever, made,...         48         11   \n",
       "10  [hard, find, wrong, movie, seems, well, crafte...        150         15   \n",
       "11  [rented, netflix, forced, watch, till, end, dr...         84          6   \n",
       "12  [another, example, hyped, movie, extreme, say,...         76         13   \n",
       "13  [gave, film, one, pull, overall, score, film, ...         17          1   \n",
       "14  [heath, ledger, great, role, joker, doubt, ear...         30          2   \n",
       "\n",
       "    neg_count  sentiment  Sentiment_Ratings  \\\n",
       "0          12       0.12                  2   \n",
       "1          23       0.07                  2   \n",
       "2          23       0.07                  2   \n",
       "3          10       0.09                  2   \n",
       "4          18       0.00                  1   \n",
       "5           3       0.03                  2   \n",
       "6          10       0.02                  2   \n",
       "7           3       0.10                  2   \n",
       "8           5       0.16                  2   \n",
       "9           3       0.17                  2   \n",
       "10         21      -0.04                  0   \n",
       "11         11      -0.06                  0   \n",
       "12          3       0.13                  2   \n",
       "13          0       0.06                  2   \n",
       "14          3      -0.03                  0   \n",
       "\n",
       "                                  preprocessed_review  \n",
       "0   Shawshank Redemption hold number   spot Top- E...  \n",
       "1   delightful Shawshank Redemption allegory state...  \n",
       "2   delightful Shawshank Redemption allegory state...  \n",
       "3   Shawshank Redemption cinematic gem transcend b...  \n",
       "4   Hope good thing probably good   good thing die...  \n",
       "5   confidently direct dark brooding pack impressi...  \n",
       "6   Dark yes complex ambitious Christopher Nolan c...  \n",
       "7   want good movie great story great act thrillin...  \n",
       "8   not believe Dark knight live hype s big surpri...  \n",
       "9   movie work art fine sequel not think movie lik...  \n",
       "10  hard find wrong movie craft let start say Dark...  \n",
       "11  rent Netflix force watch till end dreadful bor...  \n",
       "12  example hype movie extreme piece junk regard g...  \n",
       "13  give film pull overall score film not deserve ...  \n",
       "14  Heath Ledger great role Joker doubt early depa...  "
      ]
     },
     "execution_count": 219,
     "metadata": {},
     "output_type": "execute_result"
    }
   ],
   "source": [
    "from sklearn.preprocessing import LabelEncoder\n",
    "label = LabelEncoder()\n",
    "df['Sentiment_Ratings'] = label.fit_transform(df['Sentiment_Ratings'])\n",
    "df.head(15)"
   ]
  },
  {
   "cell_type": "code",
   "execution_count": 220,
   "metadata": {},
   "outputs": [],
   "source": [
    "X_train,X_test, y_train,y_test = train_test_split(df['preprocessed_review'],df['Sentiment_Ratings'],test_size= 0.25,random_state= 42,stratify= df['Sentiment_Ratings'])\n",
    "#stratify can be usefull when dealing with imbalenced datasets to ensure that the training and test datasets habe the same proportion of class labels as the input dataset "
   ]
  },
  {
   "cell_type": "code",
   "execution_count": 221,
   "metadata": {},
   "outputs": [
    {
     "name": "stdout",
     "output_type": "stream",
     "text": [
      "Shape of X_train:  (2938,)\n",
      "Shape of test:  (980,)\n"
     ]
    }
   ],
   "source": [
    "print(\"Shape of X_train: \",X_train.shape)\n",
    "print(\"Shape of test: \",X_test.shape)"
   ]
  },
  {
   "cell_type": "markdown",
   "metadata": {},
   "source": [
    "Term frequency Inverse document frequency vectorizer is a statistical formula to convert text documents into vectors based on the relevancy of the word. It is based on the bag of the words models to create a matrix containing the information about less relevant and most relevant words in the document."
   ]
  },
  {
   "cell_type": "code",
   "execution_count": 222,
   "metadata": {},
   "outputs": [],
   "source": [
    "v = TfidfVectorizer()\n",
    "\n",
    "X_train_cv = v.fit_transform(X_train)\n",
    "X_test_cv = v.transform(X_test)"
   ]
  },
  {
   "cell_type": "markdown",
   "metadata": {},
   "source": [
    "Random forests are for supervided machine learning where there is a labeled target variable. Random forest can be used for solving regression(numeric target variable) and classification (categorical target variable) problems. Random forests are an ensemble method mean they combine predictions from other models. The advantage of this algorithm is it prevents overfitting and is more accurate in predictions"
   ]
  },
  {
   "cell_type": "code",
   "execution_count": 223,
   "metadata": {},
   "outputs": [
    {
     "data": {
      "text/html": [
       "<style>#sk-container-id-1 {color: black;background-color: white;}#sk-container-id-1 pre{padding: 0;}#sk-container-id-1 div.sk-toggleable {background-color: white;}#sk-container-id-1 label.sk-toggleable__label {cursor: pointer;display: block;width: 100%;margin-bottom: 0;padding: 0.3em;box-sizing: border-box;text-align: center;}#sk-container-id-1 label.sk-toggleable__label-arrow:before {content: \"▸\";float: left;margin-right: 0.25em;color: #696969;}#sk-container-id-1 label.sk-toggleable__label-arrow:hover:before {color: black;}#sk-container-id-1 div.sk-estimator:hover label.sk-toggleable__label-arrow:before {color: black;}#sk-container-id-1 div.sk-toggleable__content {max-height: 0;max-width: 0;overflow: hidden;text-align: left;background-color: #f0f8ff;}#sk-container-id-1 div.sk-toggleable__content pre {margin: 0.2em;color: black;border-radius: 0.25em;background-color: #f0f8ff;}#sk-container-id-1 input.sk-toggleable__control:checked~div.sk-toggleable__content {max-height: 200px;max-width: 100%;overflow: auto;}#sk-container-id-1 input.sk-toggleable__control:checked~label.sk-toggleable__label-arrow:before {content: \"▾\";}#sk-container-id-1 div.sk-estimator input.sk-toggleable__control:checked~label.sk-toggleable__label {background-color: #d4ebff;}#sk-container-id-1 div.sk-label input.sk-toggleable__control:checked~label.sk-toggleable__label {background-color: #d4ebff;}#sk-container-id-1 input.sk-hidden--visually {border: 0;clip: rect(1px 1px 1px 1px);clip: rect(1px, 1px, 1px, 1px);height: 1px;margin: -1px;overflow: hidden;padding: 0;position: absolute;width: 1px;}#sk-container-id-1 div.sk-estimator {font-family: monospace;background-color: #f0f8ff;border: 1px dotted black;border-radius: 0.25em;box-sizing: border-box;margin-bottom: 0.5em;}#sk-container-id-1 div.sk-estimator:hover {background-color: #d4ebff;}#sk-container-id-1 div.sk-parallel-item::after {content: \"\";width: 100%;border-bottom: 1px solid gray;flex-grow: 1;}#sk-container-id-1 div.sk-label:hover label.sk-toggleable__label {background-color: #d4ebff;}#sk-container-id-1 div.sk-serial::before {content: \"\";position: absolute;border-left: 1px solid gray;box-sizing: border-box;top: 0;bottom: 0;left: 50%;z-index: 0;}#sk-container-id-1 div.sk-serial {display: flex;flex-direction: column;align-items: center;background-color: white;padding-right: 0.2em;padding-left: 0.2em;position: relative;}#sk-container-id-1 div.sk-item {position: relative;z-index: 1;}#sk-container-id-1 div.sk-parallel {display: flex;align-items: stretch;justify-content: center;background-color: white;position: relative;}#sk-container-id-1 div.sk-item::before, #sk-container-id-1 div.sk-parallel-item::before {content: \"\";position: absolute;border-left: 1px solid gray;box-sizing: border-box;top: 0;bottom: 0;left: 50%;z-index: -1;}#sk-container-id-1 div.sk-parallel-item {display: flex;flex-direction: column;z-index: 1;position: relative;background-color: white;}#sk-container-id-1 div.sk-parallel-item:first-child::after {align-self: flex-end;width: 50%;}#sk-container-id-1 div.sk-parallel-item:last-child::after {align-self: flex-start;width: 50%;}#sk-container-id-1 div.sk-parallel-item:only-child::after {width: 0;}#sk-container-id-1 div.sk-dashed-wrapped {border: 1px dashed gray;margin: 0 0.4em 0.5em 0.4em;box-sizing: border-box;padding-bottom: 0.4em;background-color: white;}#sk-container-id-1 div.sk-label label {font-family: monospace;font-weight: bold;display: inline-block;line-height: 1.2em;}#sk-container-id-1 div.sk-label-container {text-align: center;}#sk-container-id-1 div.sk-container {/* jupyter's `normalize.less` sets `[hidden] { display: none; }` but bootstrap.min.css set `[hidden] { display: none !important; }` so we also need the `!important` here to be able to override the default hidden behavior on the sphinx rendered scikit-learn.org. See: https://github.com/scikit-learn/scikit-learn/issues/21755 */display: inline-block !important;position: relative;}#sk-container-id-1 div.sk-text-repr-fallback {display: none;}</style><div id=\"sk-container-id-1\" class=\"sk-top-container\"><div class=\"sk-text-repr-fallback\"><pre>RandomForestClassifier()</pre><b>In a Jupyter environment, please rerun this cell to show the HTML representation or trust the notebook. <br />On GitHub, the HTML representation is unable to render, please try loading this page with nbviewer.org.</b></div><div class=\"sk-container\" hidden><div class=\"sk-item\"><div class=\"sk-estimator sk-toggleable\"><input class=\"sk-toggleable__control sk-hidden--visually\" id=\"sk-estimator-id-1\" type=\"checkbox\" checked><label for=\"sk-estimator-id-1\" class=\"sk-toggleable__label sk-toggleable__label-arrow\">RandomForestClassifier</label><div class=\"sk-toggleable__content\"><pre>RandomForestClassifier()</pre></div></div></div></div></div>"
      ],
      "text/plain": [
       "RandomForestClassifier()"
      ]
     },
     "execution_count": 223,
     "metadata": {},
     "output_type": "execute_result"
    }
   ],
   "source": [
    "RFC_model = RandomForestClassifier()\n",
    "RFC_model.fit(X_train_cv,y_train)"
   ]
  },
  {
   "cell_type": "code",
   "execution_count": 224,
   "metadata": {},
   "outputs": [],
   "source": [
    "y_pred = RFC_model.predict(X_test_cv)"
   ]
  },
  {
   "cell_type": "code",
   "execution_count": 225,
   "metadata": {},
   "outputs": [
    {
     "name": "stdout",
     "output_type": "stream",
     "text": [
      "0.7948979591836735\n"
     ]
    }
   ],
   "source": [
    "print(accuracy_score(y_test,y_pred))"
   ]
  },
  {
   "cell_type": "markdown",
   "metadata": {},
   "source": [
    "Understanding CLassication reports\n",
    "\n",
    "Precision : Accuracy of positive predictions\n",
    "\n",
    "Recall : Fraction of positives that were correctly identified.\n",
    "\n",
    "F1 score: F1 score is the weighted harmonic mean of the precision and recall such that the best score is 1.0 and the worst is 0.0.\n",
    "\n",
    "Support : support is the number of actual occurances of the class in the specified dataset."
   ]
  },
  {
   "cell_type": "code",
   "execution_count": 226,
   "metadata": {},
   "outputs": [
    {
     "name": "stdout",
     "output_type": "stream",
     "text": [
      "              precision    recall  f1-score   support\n",
      "\n",
      "           0       0.97      0.40      0.57       258\n",
      "           1       0.95      0.30      0.45        61\n",
      "           2       0.77      1.00      0.87       661\n",
      "\n",
      "    accuracy                           0.79       980\n",
      "   macro avg       0.90      0.56      0.63       980\n",
      "weighted avg       0.83      0.79      0.76       980\n",
      "\n"
     ]
    }
   ],
   "source": [
    "print(classification_report(y_test,y_pred))"
   ]
  },
  {
   "cell_type": "code",
   "execution_count": 227,
   "metadata": {},
   "outputs": [
    {
     "data": {
      "text/html": [
       "<div>\n",
       "<style scoped>\n",
       "    .dataframe tbody tr th:only-of-type {\n",
       "        vertical-align: middle;\n",
       "    }\n",
       "\n",
       "    .dataframe tbody tr th {\n",
       "        vertical-align: top;\n",
       "    }\n",
       "\n",
       "    .dataframe thead th {\n",
       "        text-align: right;\n",
       "    }\n",
       "</style>\n",
       "<table border=\"1\" class=\"dataframe\">\n",
       "  <thead>\n",
       "    <tr style=\"text-align: right;\">\n",
       "      <th></th>\n",
       "      <th>Genre</th>\n",
       "      <th>MovieName</th>\n",
       "      <th>Overview</th>\n",
       "      <th>User_ID</th>\n",
       "      <th>Reviews</th>\n",
       "      <th>Ratings</th>\n",
       "      <th>Movie_ID</th>\n",
       "      <th>preprocess_txt</th>\n",
       "      <th>total_len</th>\n",
       "      <th>pos_count</th>\n",
       "      <th>neg_count</th>\n",
       "      <th>sentiment</th>\n",
       "      <th>Sentiment_Ratings</th>\n",
       "      <th>preprocessed_review</th>\n",
       "    </tr>\n",
       "  </thead>\n",
       "  <tbody>\n",
       "    <tr>\n",
       "      <th>0</th>\n",
       "      <td>Action</td>\n",
       "      <td>The Shawshank Redemption</td>\n",
       "      <td>Chronicles the experiences of a formerly succe...</td>\n",
       "      <td>100.0</td>\n",
       "      <td>The Shawshank Redemption holds the Number  spo...</td>\n",
       "      <td>10</td>\n",
       "      <td>1</td>\n",
       "      <td>[shawshank, redemption, hold, number, spot, to...</td>\n",
       "      <td>274</td>\n",
       "      <td>45</td>\n",
       "      <td>12</td>\n",
       "      <td>0.12</td>\n",
       "      <td>2</td>\n",
       "      <td>Shawshank Redemption hold number   spot Top- E...</td>\n",
       "    </tr>\n",
       "    <tr>\n",
       "      <th>1</th>\n",
       "      <td>Action</td>\n",
       "      <td>The Shawshank Redemption</td>\n",
       "      <td>Chronicles the experiences of a formerly succe...</td>\n",
       "      <td>101.0</td>\n",
       "      <td>However delightful as it is The Shawshank Rede...</td>\n",
       "      <td>10</td>\n",
       "      <td>1</td>\n",
       "      <td>[however, delightful, shawshank, redemption, a...</td>\n",
       "      <td>303</td>\n",
       "      <td>45</td>\n",
       "      <td>23</td>\n",
       "      <td>0.07</td>\n",
       "      <td>2</td>\n",
       "      <td>delightful Shawshank Redemption allegory state...</td>\n",
       "    </tr>\n",
       "    <tr>\n",
       "      <th>2</th>\n",
       "      <td>Action</td>\n",
       "      <td>The Shawshank Redemption</td>\n",
       "      <td>Chronicles the experiences of a formerly succe...</td>\n",
       "      <td>102.0</td>\n",
       "      <td>However delightful as it is The Shawshank Rede...</td>\n",
       "      <td>10</td>\n",
       "      <td>1</td>\n",
       "      <td>[however, delightful, shawshank, redemption, a...</td>\n",
       "      <td>303</td>\n",
       "      <td>45</td>\n",
       "      <td>23</td>\n",
       "      <td>0.07</td>\n",
       "      <td>2</td>\n",
       "      <td>delightful Shawshank Redemption allegory state...</td>\n",
       "    </tr>\n",
       "    <tr>\n",
       "      <th>3</th>\n",
       "      <td>Action</td>\n",
       "      <td>The Shawshank Redemption</td>\n",
       "      <td>Chronicles the experiences of a formerly succe...</td>\n",
       "      <td>103.0</td>\n",
       "      <td>\"The Shawshank Redemption\" is a cinematic gem ...</td>\n",
       "      <td>10</td>\n",
       "      <td>1</td>\n",
       "      <td>[shawshank, redemption, cinematic, gem, transc...</td>\n",
       "      <td>229</td>\n",
       "      <td>31</td>\n",
       "      <td>10</td>\n",
       "      <td>0.09</td>\n",
       "      <td>2</td>\n",
       "      <td>Shawshank Redemption cinematic gem transcend b...</td>\n",
       "    </tr>\n",
       "    <tr>\n",
       "      <th>4</th>\n",
       "      <td>Action</td>\n",
       "      <td>The Shawshank Redemption</td>\n",
       "      <td>Chronicles the experiences of a formerly succe...</td>\n",
       "      <td>104.0</td>\n",
       "      <td>\"Hope is a good thing probably best of all  go...</td>\n",
       "      <td>10</td>\n",
       "      <td>1</td>\n",
       "      <td>[hope, good, thing, probably, best, good, thin...</td>\n",
       "      <td>160</td>\n",
       "      <td>18</td>\n",
       "      <td>18</td>\n",
       "      <td>0.00</td>\n",
       "      <td>1</td>\n",
       "      <td>Hope good thing probably good   good thing die...</td>\n",
       "    </tr>\n",
       "  </tbody>\n",
       "</table>\n",
       "</div>"
      ],
      "text/plain": [
       "    Genre                 MovieName  \\\n",
       "0  Action  The Shawshank Redemption   \n",
       "1  Action  The Shawshank Redemption   \n",
       "2  Action  The Shawshank Redemption   \n",
       "3  Action  The Shawshank Redemption   \n",
       "4  Action  The Shawshank Redemption   \n",
       "\n",
       "                                            Overview  User_ID  \\\n",
       "0  Chronicles the experiences of a formerly succe...    100.0   \n",
       "1  Chronicles the experiences of a formerly succe...    101.0   \n",
       "2  Chronicles the experiences of a formerly succe...    102.0   \n",
       "3  Chronicles the experiences of a formerly succe...    103.0   \n",
       "4  Chronicles the experiences of a formerly succe...    104.0   \n",
       "\n",
       "                                             Reviews Ratings  Movie_ID  \\\n",
       "0  The Shawshank Redemption holds the Number  spo...      10         1   \n",
       "1  However delightful as it is The Shawshank Rede...      10         1   \n",
       "2  However delightful as it is The Shawshank Rede...      10         1   \n",
       "3  \"The Shawshank Redemption\" is a cinematic gem ...      10         1   \n",
       "4  \"Hope is a good thing probably best of all  go...      10         1   \n",
       "\n",
       "                                      preprocess_txt  total_len  pos_count  \\\n",
       "0  [shawshank, redemption, hold, number, spot, to...        274         45   \n",
       "1  [however, delightful, shawshank, redemption, a...        303         45   \n",
       "2  [however, delightful, shawshank, redemption, a...        303         45   \n",
       "3  [shawshank, redemption, cinematic, gem, transc...        229         31   \n",
       "4  [hope, good, thing, probably, best, good, thin...        160         18   \n",
       "\n",
       "   neg_count  sentiment  Sentiment_Ratings  \\\n",
       "0         12       0.12                  2   \n",
       "1         23       0.07                  2   \n",
       "2         23       0.07                  2   \n",
       "3         10       0.09                  2   \n",
       "4         18       0.00                  1   \n",
       "\n",
       "                                 preprocessed_review  \n",
       "0  Shawshank Redemption hold number   spot Top- E...  \n",
       "1  delightful Shawshank Redemption allegory state...  \n",
       "2  delightful Shawshank Redemption allegory state...  \n",
       "3  Shawshank Redemption cinematic gem transcend b...  \n",
       "4  Hope good thing probably good   good thing die...  "
      ]
     },
     "execution_count": 227,
     "metadata": {},
     "output_type": "execute_result"
    }
   ],
   "source": [
    "df.head()"
   ]
  },
  {
   "cell_type": "code",
   "execution_count": 228,
   "metadata": {},
   "outputs": [],
   "source": [
    "models = []\n",
    "from sklearn.linear_model import LogisticRegression\n",
    "from  sklearn.tree import DecisionTreeClassifier\n",
    "from sklearn.feature_extraction.text import CountVectorizer\n",
    "models.append(('Logistic Regression',LogisticRegression()))\n",
    "models.append(('Random Forest Classifier',RandomForestClassifier()))\n",
    "models.append(('Decision Tree Classifier',DecisionTreeClassifier()))"
   ]
  },
  {
   "cell_type": "code",
   "execution_count": 229,
   "metadata": {},
   "outputs": [],
   "source": [
    "#Using the countervector function in sklearn, we create a bag of words with a maximum of 1 0.000 words.... \n",
    "vectorizer = CountVectorizer(max_features=10000)\n",
    "\n",
    "# we convert our train data to deature vector matrix\n",
    "train_x = vectorizer.fit_transform(X_train)"
   ]
  },
  {
   "cell_type": "code",
   "execution_count": 230,
   "metadata": {},
   "outputs": [
    {
     "data": {
      "text/plain": [
       "<2938x10000 sparse matrix of type '<class 'numpy.int64'>'\n",
       "\twith 210061 stored elements in Compressed Sparse Row format>"
      ]
     },
     "execution_count": 230,
     "metadata": {},
     "output_type": "execute_result"
    }
   ],
   "source": [
    "train_x"
   ]
  },
  {
   "cell_type": "code",
   "execution_count": 231,
   "metadata": {},
   "outputs": [],
   "source": [
    "#since our machine learningg algorithm requires an array for the trainnning process we convert it to an array.\n",
    "train_x = train_x.toarray()\n",
    "train_y = y_train"
   ]
  },
  {
   "cell_type": "code",
   "execution_count": 232,
   "metadata": {},
   "outputs": [
    {
     "data": {
      "text/plain": [
       "2938"
      ]
     },
     "execution_count": 232,
     "metadata": {},
     "output_type": "execute_result"
    }
   ],
   "source": [
    "train_y.shape[0]"
   ]
  },
  {
   "cell_type": "code",
   "execution_count": 233,
   "metadata": {},
   "outputs": [],
   "source": [
    "test_result = vectorizer.transform(X_test)\n",
    "test_result = test_result.toarray()"
   ]
  },
  {
   "cell_type": "code",
   "execution_count": 234,
   "metadata": {},
   "outputs": [
    {
     "data": {
      "text/plain": [
       "(980, 10000)"
      ]
     },
     "execution_count": 234,
     "metadata": {},
     "output_type": "execute_result"
    }
   ],
   "source": [
    "test_result.shape"
   ]
  },
  {
   "cell_type": "code",
   "execution_count": 235,
   "metadata": {},
   "outputs": [],
   "source": [
    "from sklearn.metrics import f1_score,accuracy_score"
   ]
  },
  {
   "cell_type": "code",
   "execution_count": 236,
   "metadata": {},
   "outputs": [
    {
     "name": "stderr",
     "output_type": "stream",
     "text": [
      "C:\\Users\\mohit\\AppData\\Roaming\\Python\\Python311\\site-packages\\sklearn\\linear_model\\_logistic.py:458: ConvergenceWarning: lbfgs failed to converge (status=1):\n",
      "STOP: TOTAL NO. of ITERATIONS REACHED LIMIT.\n",
      "\n",
      "Increase the number of iterations (max_iter) or scale the data as shown in:\n",
      "    https://scikit-learn.org/stable/modules/preprocessing.html\n",
      "Please also refer to the documentation for alternative solver options:\n",
      "    https://scikit-learn.org/stable/modules/linear_model.html#logistic-regression\n",
      "  n_iter_i = _check_optimize_result(\n"
     ]
    },
    {
     "name": "stdout",
     "output_type": "stream",
     "text": [
      "Logistic Regression Accuracy Score :  0.8438775510204082\n",
      "Logistic Regression F1 Score :  0.8354956289103121\n",
      "Random Forest Classifier Accuracy Score :  0.810204081632653\n",
      "Random Forest Classifier F1 Score :  0.7843570990850371\n",
      "Decision Tree Classifier Accuracy Score :  0.746938775510204\n",
      "Decision Tree Classifier F1 Score :  0.7478381223171412\n"
     ]
    }
   ],
   "source": [
    "for name, model in models:\n",
    "\n",
    "    \n",
    "    model.fit(train_x, train_y)\n",
    "    test_pred = model.predict(test_result)\n",
    "    print(name ,'Accuracy Score : ',accuracy_score(y_test, test_pred))\n",
    "    print(name ,'F1 Score : ',f1_score(y_test, test_pred, average='weighted'))"
   ]
  },
  {
   "cell_type": "markdown",
   "metadata": {},
   "source": [
    "------------------------------------------------------------------------------------------------------------------------------------------------------------------------------------------------------------------------------------------------------------------------------------------------------------------------------------------------------------------------------------------------------------------------------------------------------------------------------------------------------------------------------------------------------------------------------------------------------------------------------------------------------------------------------------------------------------------------------------------------------------------------------------------------------------------------------------------------------------------------------------------------------------------------------------------------\n",
    "------------------------------------------------------------------------------------------------------------------------------------------------------------------------------------------------------------------------------------------------------------------------------------------------------------------------------------------------------------------------------------------------------------------------------------------------------------------------------------------------------------------------------------------------------------------------------------------------------------------------------------------------------------------------------------------------------------------------------------------------------------------------------------------------------------------------------------------------------------------------------------------------------------------------------------------------------------------------------------------------------------------------------------------------------------------------------------------------------------------------------------------------------------------------------------------------------------------------------------------------------------------------------------------------------------------------------------------------------------------------------------------------------------------------------------------------------------------------------------------------------------------------------------------------------------------------------------------------------------------------------------------------------------------------------------------------------------------------------------------------------------------------------------------------------------------------------------------------------------------------------------------------------------------------------------------------------------------------------------------------------------------------------------------------------------------------------------------------------------------------------------------------------------------------------------------------------------------------------------------------------------------------------------------------------------------------------------------------------------------------------------------------------------------------------------------------------------------------------------------------------------------------------------------------------------------------------------------------------------------------------------------------------------------------------------------------------------------------------------------------------------------------------------------------------------------------------------------------------------------------------------------------------------------------------------------------------------------------------------------------------------------------------------------------------------------------------------------------------------------------------------------------------------------------------------------------------------------------------------------------------------------------------------------------------------------------------------------------------------------------------------------------------------------------------------------------------------------------------------------------------------------------------------------------------------------------------------------------------------------------------------------------------------------------------------------------------------------------------------------------------------------------------------------------------------------------------------------------------------------------------------------------------------------------------------------------------------------------------------------------------------------------------------------------------------------------------------------------------------------------------------------------------------------------------------------------------------------------------------------------------------------------------------------------------------------------------------------------------------------------------------------------------------------------------------------------------------------------------------------------------------------------------------------------------------------------------------------------------------------------------------------------------------------------------------------------------------------------------------------------------------------------------------------------------------------------------------------------------------------------------------------------------------------------------------------------------------------------------------------------------------------------------------------------------------------------------------------------------------------------------------------------------------------------------------------------------------------------------------------------------------------------------------------------------------------------------------------------------------------------------------------------------------------------------------------------------------------------------------------------------------------------------------------------------------------------------------------------------------------------------------------------------------------------------------------------------------------------------------------------------------------------------------------------------------------------------------------------------------------------------------------------------------------------------------------------------------------------------------------------------------------------------------------------------------------------------------------------------------------------------------------------------------------------------------------------------------------------------------------------------------------------------------------------------------------------------------------------------------------------------------------------------------------------------------------------------------------------------------------------------------------------------------------------------------------------------------------------------------------------------------------------------------------------------------------------------------------------------------------------------------------------------------------------------------------------------------------------------------------------------------------------------------------------------------------------------------------------------------------------------------------------------------------------------------------------------------------------------------------------------------------------------------------------------------------------------------------------------------------------------------------------------------------------------------------------------------------------------------------------------------------------------------------------------------------------------------------------------------------------------------------------------------------------------------------------------------------------------------------------------------------------------------------------------------------------------------------------------------------------------------------------------------------------------------------------------------------------------------------------------------------------------------------------------------------------------------------------------------------------------------------------------------------------------------------------------------------------------------------------------------------------------------------------------------------------------------------------------------------------------------------------------------------------------------------------------------------------------------------------------------------------------------------------------------------------------------------------------------------------------------------------------------------------------------------------------------------------------------------------------------------------------------------------------------------------------------------------------------------------------------------------------------------------------------------------------------------------------------------------------------------------------------------------------------------------------------------------------------------------------------------------------------------------------------------------------------------------------------------------------------------------------------------------------------------------------------------------------------------------------------------------------------------------------------------------------------------------------------------------------------------------------------------------------------------------------------------------------------------------------------------------------------------------------------------------------------------------------------------------------------------------------------------------------------------------------------------------------------------------------------------------------------------------------------------------------------------------------------------------------------------------------------------------------------------------------------------------------------------------------------------------------------------------------------------------------------------------------------------------------------------------------------------------------------------------------------------------------------------------------------------------------------------------------------------------------------------------------------------------------------------------------------------------------------------------------------------------------------------------------------------------------------------------------------------------------------------------------------------------------------------------------------------------------------------------------------------------------------------------------------------------------------------------------------------------------------------------------------------------------------------------------------------------------------------------------------------------------------------------------------------------------------------------------------------------------------------------------------------------------------------------------------------------------------------------------------------------------------------------------------------------------------------------------------------------------------------------------------------------------------------------------------------------------------------------------------------------------------------------------------------------------------------------------------------------------------------------------------------------------------------------------------------------------------------------------------------------------------------------------------------------------------------------------------------------------------------------------------------------------------------------------------------------------------------------------------------------------------------------------------------------------------------------------------------------------------------------------------------------------------------------------------------------------------------------------------------------------------------------------------------------------------------------------------------------------------------------------------------------------------------------------------------------------------------------------------------------------------------------------------------------------------------------------------------------------------------------------------------------------------------------------------------------------------------------------------------------------------------------------------------------------------------------------------------------------------------------------------------------------------------------------------------------------------------------------------------------------------------------------------------------------------------------------------------------------------------------------------------------------------------------------------------------------------------------------------------------------------------------------------------------------------------------------------------------------------------------------------------------------------------------------------------------------------------------------------------------------------------------------------------------------------------------------------------------------------------------------------------------------------------------------------------------------------------------------------------------------------------------------------------------------------------------------------------------------------------------------------------------------------------------------------------------------------------------------------------------------------------------------------------------------------------------------------------------------------------------------------------------------------------------------------------------------------------------------------------------------------------------------------------------------------------------------------------------------------------------------------------------------------------------------------------------------------------------------------------------------------------------------------------------------------------------------------------------------------------------------------------------------------------------------------------------------------------------------------------------------------------------------------------------------------------------------------------------------------------------------------------------------------------------------------------------------------------------------------------------------------------------------------------------------------------------------------------------------------------------------------------------------------------------------------------------------------------------------------------------------------------------------------------------------------------------------------------------------------------------------------------------------------------------------------------------------------------------------------------------------------------------------------------------------------------------------------------------------------------------------------------------------------------------------------------------------------------------------------------------------------------------------------------------------------------------------------------------------------------------------------------------------------------------------------------------------------------------------------------------------------------------------------------------------------------------------------------------------------------------------------------------------------------------------------------------------------------------------------------------------------------------------------------------------------------------------------------------------------------------------------------------------------------------------------------------------------------------------------------------------------------------------------------------------------------------------------------------------------------------------------------------------------------------------------------------------------------------------------------------------------------------------------------------------------------------------------------------------------------------------------------------------------------------------------------------------------------------------------------------------------------------------------------------------------------------------------------------------------------------------------------------------------------------------------------------------------------------------------------------------------------------------------------------------------------------------------------------------------------------------------------------------------------------------------------------------------------------------------------------------------------------------------------------------------------------------------------------------------------------------------------------------------------------------------------------------------------------------------------------------------------------------------------------------------------------------------------------------------------------------------------------------------------------------------------------------------------------------------------------------------------------------------------------------------------------------------------------------------------------------------------------------------------------------------------------------------------------------------------------------------------------------------------------------------------------------------------------------------------------------------------------------------------------------------------------------------------------------------------------------------------------------------------------------------------------------------------------------------------------------------------------------------------------------------------------------------------------------------------------------------------------------------------------------------------------------------------------------------------------------------------------------------------------------------------------------------------------------------------------------------------------------------------------------------------------------------------------------------------------------------------------------------------------------------------------------------------------------------------------------------------------------------------------------------------------------------------------------------------------------------------------------------------------------------------------------------------------------------------------------------------------------------------------------------------------------------------------------------------------------------------------------------------------------------------------------------------------------------------------------------------------------------------------------------------------------------------------------------------------------------------------------------------------------------------------------------------------------------------------------------------------------------------------------------------------------------------------------------------------------------------------------------------------------------------------------------------------------------------------------------------------------------------------------------------------------------------------------------------------------------------------------------------------------------------------------------------------------------------------------------------------------------------------------------------------------------------------------------------------------------------------------------------------------------------------------------------------------------------------------------------------------------------------------------------------------------------------------------------------------------------------------------------------------------------------------------------------------------------------------------------------------------------------------------------------------------------------------------------------------------------------------------------------------------------------------------------------------------------------------------------------------------------------------------------------------------------------------------------------------------------------------------------------------------------------------------------------------------------------------------------------------------------------------------------------------------------------------------------------------------------------------------------------------------------------------------------------------------------------------------------------------------------------------------------------------------------------------------------------------------------------------------------------------------------------------------------------------------------------------------------------------------------------------------------------------------------------------------------------------------------------------------------------------------------------------------------------------------------------------------------------------------------------------------------------------------------------------------------------------------------------------------------------------------------------------------------------------------------------------------------------------------------------------------------------------------------------------------------------------------------------------------------------------------------------------------------------------------------------------------------------------------------------------------------------------------------------------------------------------------------------------------------------------------------------------------------------------------------------------------------------------------------------------------------------------------------------------------------------------------------------------------------------------------------------------------------------------------------------------------------------------------------------------------------------------------------------------------------------------------------------------------------------------------------------------------------------------------------------------------------------------------------------------------------------------------------------------------------------------------------------------------------------------------------------------------------------------------------------------------------------------------------------------------------------------------------------------------------------------------------------------------------------------------------------------------------------------------------------------------------------------------------------------------------------------------------------------------------------------------------------------------------------------------------------------------------------------------------------------------------------------------------------------------------------------------------------------------------------------------------------------------------------------------------------------------------------------------------------------------------------------------------------------------------------------------------------------------------------------------------------------------------------------------------------------------------------------------------------------------------------------------------------------------------------------------------------------------------------------------------------------------------------------------------------------------------------------------------------------------------------------------------------------------------------------------------------------------------------------------------------------------------------------------------------------------------------------------------------------------------------------------------------------------------------------------------------------------------------------------------------------------------------------------------------------------------------------------------------------------------------------------------------------------------------------------------------------------------------------------------------------------------------------------------------------------------------------------------------------------------------------------------------------------------------------------------------------------------------------------------------------------------------------------------------------------------------------------------------------------------------------------------------------------------------------------------------------------------------------------------------------------------------------------------------------------------------------------------------------------------------------------------------------------------------------------------------------------------------------------------------------------------------------------------------------------------------------------------------------------------------------------------------------------------------------------------------------------------------------------------------------------------------------------------------------------------------------------------------------------------------------------------------------------------------------------------------------------------------------------------------------------------------------------------------------------------------------------------------------------------------------------------------------------------------------------------------------------------------------------------------------------------------------------------------------------------------------------------------------------------------------------------------------------------------------------------------------------------------------------------------------------------------------------------------------------------------------------------------------------------------------------------------------------------------------------------------------------------------------------------------------------------------------------------------------------------------------------------------------------------------------------------------------------------------------------------------------------------------------------------------------------------------------------------------------------------------------------------------------------------------------------------------------------------------------------------------------------------------------------------------------------------------------------------------------------------------------------------------------------------------------------------------------------------------------------------------------------------------------------------------------------------------------------------------------------------------------------------------------------------------------------------------------------------------------------------------------------------------------------------------------------------------------------------------------------------------------------------------------------------------------------------------------------------------------------------------------------------------------------------------------------------------------------------------------------------------------------------------------------------------------------------------------------------------------------------------------------------------------------------------------------------------------------------------------------------------------------------------------------------------------------------------------------------------------------------------------------------------------------------------------------------------------------------------------------------------------------------------------------------------------------------------------------------------------------------------------------------------------------------------------------------------------------------------------------------------------------------------------------------------------------------------------------------------------------------------------------------------------------------------------------------------------------------------------------------------------------------------------------------------------------------------------------------------------------------------------------------------------------------------------------------------------------------------------------------------------------------------------------------------------------------------------------------------------------------------------------------------------------------------------------------------------------------------------------------------------------------------------------------------------------------------------------------------------------------------------------------------------------------------------------------------------------------------------------------------------------------------------------------------------------------------------------------------------------------------------------------------------------------------------------------------------------------------------------------------------------------------------------------------------------------------------------------------------------------------------------------------------------------------------------------------------------------------------------------------------------------------------------------------------------------------------------------------------------------------------------------------------------------------------------------------------------------------------------------------------------------------------------------------------------------------------------------------------------------------------------------------------------------------------------------------------------------------------------------------------------------------------------------------------------------------------------------------------------------------------------------------------------------------------------------------------------------------------------------------------------------------------------------------------------------------------------------------------------------------------------------------------------------------------------------------------------------------------------------------------------------------------------------------------------------------------------------------------------------------------------------------------------------------------------------------------------------------------------------------------------------------------------------------------------------------------------------------------------------------------------------------------------------------------------------------------------------------------------------------------------------------------------------------------------------------------------------------------------------------------------------------------------------------------------------------------------------------------------------------------------------------------------------------------------------------------------------------------------------------------------------------------------------------------------------------------------------------------------------------------------------------------------------------------------------------------------------------------------------------------------------------------------------------------------------------------------------------------------------------------------------------------------------------------------------------------------------------------------------------------------------------------------------------------------------------------------------------------------------------------------------------------------------------------------------------------------------------------------------------------------------------------------------------------------------------------------------------------------------------------------------------------------------------------------------------------------------------------------------------------------------------------------------------------------------------------------------------------------------------------------------------------------------------------------------------------------------------------------------------------------------------------------------------------------------------------------------------------------------------------------------------------------------------------------------------------------------------------------------------------------------------------------------------------------------------------------------------------------------------------------------------------------------------------------------------------------------------------------------------------------------------------------------------------------------------------------------------------------------------------------------------------------------------------------------------------------------------------------------------------------------------------------------------------------------------------------------------------------------------------------------------------------------------------------------------------------------------------------------------------------------------------------------------------------------------------------------------------------------------------------------------------------------------------------------------------------------------------------------------------------------------------------------------------------------------------------------------------------------------------------------------------------------------------------------------------------------------------------------------------------------------------------------------------------------------------------------------------------------------------------------------------------------------------------------------------------------------------------------------------------------------"
   ]
  },
  {
   "cell_type": "markdown",
   "metadata": {},
   "source": [
    "------------------------------------------------------------------------------------------------------------------------------------------------------------------------------------------------------------------------------------------------------------------------------------------------------------------------------------------------------------------------------------------------------------------------------------------------------------------------------------------------------------------------------------------------------------------------------------------------------------------------------------------------------------------------------------------------------------------------------------------------------------------------------------------------------------------------------------------------------------------------------------------------------------------------------------------------\n",
    "------------------------------------------------------------------------------------------------------------------------------------------------------------------------------------------------------------------------------------------------------------------------------------------------------------------------------------------------------------------------------------------------------------------------------------------------------------------------------------------------------------------------------------------------------------------------------------------------------------------------------------------------------------------------------------------------------------------------------------------------------------------------------------------------------------------------------------------------------------------------------------------------------------------------------------------------------------------------------------------------------------------------------------------------------------------------------------------------------------------------------------------------------------------------------------------------------------------------------------------------------------------------------------------------------------------------------------------------------------------------------------------------------------------------------------------------------------------------------------------------------------------------------------------------------------------------------------------------------------------------------------------------------------------------------------------------------------------------------------------------------------------------------------------------------------------------------------------------------------------------------------------------------------------------------------------------------------------------------------------------------------------------------------------------------------------------------------------------------------------------------------------------------------------------------------------------------------------------------------------------------------------------------------------------------------------------------------------------------------------------------------------------------------------------------------------------------------------------------------------------------------------------------------------------------------------------------------------------------------------------------------------------------------------------------------------------------------------------------------------------------------------------------------------------------------------------------------------------------------------------------------------------------------------------------------------------------------------------------------------------------------------------------------------------------------------------------------------------------------------------------------------------------------------------------------------------------------------------------------------------------------------------------------------------------------------------------------------------------------------------------------------------------------------------------------------------------------------------------------------------------------------------------------------------------------------------------------------------------------------------------------------------------------------------------------------------------------------------------------------------------------------------------------------------------------------------------------------------------------------------------------------------------------------------------------------------------------------------------------------------------------------------------------------------------------------------------------------------------------------------------------------------------------------------------------------------------------------------------------------------------------------------------------------------------------------------------------------------------------------------------------------------------------------------------------------------------------------------------------------------------------------------------------------------------------------------------------------------------------------------------------------------------------------------------------------------------------------------------------------------------------------------------------------------------------------------------------------------------------------------------------------------------------------------------------------------------------------------------------------------------------------------------------------------------------------------------------------------------------------------------------------------------------------------------------------------------------------------------------------------------------------------------------------------------------------------------------------------------------------------------------------------------------------------------------------------------------------------------------------------------------------------------------------------------------------------------------------------------------------------------------------------------------------------------------------------------------------------------------------------------------------------------------------------------------------------------------------------------------------------------------------------------------------------------------------------------------------------------------------------------------------------------------------------------------------------------------------------------------------------------------------------------------------------------------------------------------------------------------------------------------------------------------------------------------------------------------------------------------------------------------------------------------------------------------------------------------------------------------------------------------------------------------------------------------------------------------------------------------------------------------------------------------------------------------------------------------------------------------------------------------------------------------------------------------------------------------------------------------------------------------------------------------------------------------------------------------------------------------------------------------------------------------------------------------------------------------------------------------------------------------------------------------------------------------------------------------------------------------------------------------------------------------------------------------------------------------------------------------------------------------------------------------------------------------------------------------------------------------------------------------------------------------------------------------------------------------------------------------------------------------------------------------------------------------------------------------------------------------------------------------------------------------------------------------------------------------------------------------------------------------------------------------------------------------------------------------------------------------------------------------------------------------------------------------------------------------------------------------------------------------------------------------------------------------------------------------------------------------------------------------------------------------------------------------------------------------------------------------------------------------------------------------------------------------------------------------------------------------------------------------------------------------------------------------------------------------------------------------------------------------------------------------------------------------------------------------------------------------------------------------------------------------------------------------------------------------------------------------------------------------------------------------------------------------------------------------------------------------------------------------------------------------------------------------------------------------------------------------------------------------------------------------------------------------------------------------------------------------------------------------------------------------------------------------------------------------------------------------------------------------------------------------------------------------------------------------------------------------------------------------------------------------------------------------------------------------------------------------------------------------------------------------------------------------------------------------------------------------------------------------------------------------------------------------------------------------------------------------------------------------------------------------------------------------------------------------------------------------------------------------------------------------------------------------------------------------------------------------------------------------------------------------------------------------------------------------------------------------------------------------------------------------------------------------------------------------------------------------------------------------------------------------------------------------------------------------------------------------------------------------------------------------------------------------------------------------------------------------------------------------------------------------------------------------------------------------------------------------------------------------------------------------------------------------------------------------------------------------------------------------------------------------------------------------------------------------------------------------------------------------------------------------------------------------------------------------------------------------------------------------------------------------------------------------------------------------------------------------------------------------------------------------------------------------------------------------------------------------------------------------------------------------------------------------------------------------------------------------------------------------------------------------------------------------------------------------------------------------------------------------------------------------------------------------------------------------------------------------------------------------------------------------------------------------------------------------------------------------------------------------------------------------------------------------------------------------------------------------------------------------------------------------------------------------------------------------------------------------------------------------------------------------------------------------------------------------------------------------------------------------------------------------------------------------------------------------------------------------------------------------------------------------------------------------------------------------------------------------------------------------------------------------------------------------------------------------------------------------------------------------------------------------------------------------------------------------------------------------------------------------------------------------------------------------------------------------------------------------------------------------------------------------------------------------------------------------------------------------------------------------------------------------------------------------------------------------------------------------------------------------------------------------------------------------------------------------------------------------------------------------------------------------------------------------------------------------------------------------------------------------------------------------------------------------------------------------------------------------------------------------------------------------------------------------------------------------------------------------------------------------------------------------------------------------------------------------------------------------------------------------------------------------------------------------------------------------------------------------------------------------------------------------------------------------------------------------------------------------------------------------------------------------------------------------------------------------------------------------------------------------------------------------------------------------------------------------------------------------------------------------------------------------------------------------------------------------------------------------------------------------------------------------------------------------------------------------------------------------------------------------------------------------------------------------------------------------------------------------------------------------------------------------------------------------------------------------------------------------------------------------------------------------------------------------------------------------------------------------------------------------------------------------------------------------------------------------------------------------------------------------------------------------------------------------------------------------------------------------------------------------------------------------------------------------------------------------------------------------------------------------------------------------------------------------------------------------------------------------------------------------------------------------------------------------------------------------------------------------------------------------------------------------------------------------------------------------------------------------------------------------------------------------------------------------------------------------------------------------------------------------------------------------------------------------------------------------------------------------------------------------------------------------------------------------------------------------------------------------------------------------------------------------------------------------------------------------------------------------------------------------------------------------------------------------------------------------------------------------------------------------------------------------------------------------------------------------------------------------------------------------------------------------------------------------------------------------------------------------------------------------------------------------------------------------------------------------------------------------------------------------------------------------------------------------------------------------------------------------------------------------------------------------------------------------------------------------------------------------------------------------------------------------------------------------------------------------------------------------------------------------------------------------------------------------------------------------------------------------------------------------------------------------------------------------------------------------------------------------------------------------------------------------------------------------------------------------------------------------------------------------------------------------------------------------------------------------------------------------------------------------------------------------------------------------------------------------------------------------------------------------------------------------------------------------------------------------------------------------------------------------------------------------------------------------------------------------------------------------------------------------------------------------------------------------------------------------------------------------------------------------------------------------------------------------------------------------------------------------------------------------------------------------------------------------------------------------------------------------------------------------------------------------------------------------------------------------------------------------------------------------------------------------------------------------------------------------------------------------------------------------------------------------------------------------------------------------------------------------------------------------------------------------------------------------------------------------------------------------------------------------------------------------------------------------------------------------------------------------------------------------------------------------------------------------------------------------------------------------------------------------------------------------------------------------------------------------------------------------------------------------------------------------------------------------------------------------------------------------------------------------------------------------------------------------------------------------------------------------------------------------------------------------------------------------------------------------------------------------------------------------------------------------------------------------------------------------------------------------------------------------------------------------------------------------------------------------------------------------------------------------------------------------------------------------------------------------------------------------------------------------------------------------------------------------------------------------------------------------------------------------------------------------------------------------------------------------------------------------------------------------------------------------------------------------------------------------------------------------------------------------------------------------------------------------------------------------------------------------------------------------------------------------------------------------------------------------------------------------------------------------------------------------------------------------------------------------------------------------------------------------------------------------------------------------------------------------------------------------------------------------------------------------------------------------------------------------------------------------------------------------------------------------------------------------------------------------------------------------------------------------------------------------------------------------------------------------------------------------------------------------------------------------------------------------------------------------------------------------------------------------------------------------------------------------------------------------------------------------------------------------------------------------------------------------------------------------------------------------------------------------------------------------------------------------------------------------------------------------------------------------------------------------------------------------------------------------------------------------------------------------------------------------------------------------------------------------------------------------------------------------------------------------------------------------------------------------------------------------------------------------------------------------------------------------------------------------------------------------------------------------------------------------------------------------------------------------------------------------------------------------------------------------------------------------------------------------------------------------------------------------------------------------------------------------------------------------------------------------------------------------------------------------------------------------------------------------------------------------------------------------------------------------------------------------------------------------------------------------------------------------------------------------------------------------------------------------------------------------------------------------------------------------------------------------------------------------------------------------------------------------------------------------------------------------------------------------------------------------------------------------------------------------------------------------------------------------------------------------------------------------------------------------------------------------------------------------------------------------------------------------------------------------------------------------------------------------------------------------------------------------------------------------------------------------------------------------------------------------------------------------------------------------------------------------------------------------------------------------------------------------------------------------------------------------------------------------------------------------------------------------------------------------------------------------------------------------------------------------------------------------------------------------------------------------------------------------------------------------------------------------------------------------------------------------------------------------------------------------------------------------------------------------------------------------------------------------------------------------------------------------------------------------------------------------------------------------------------------------------------------------------------------------------------------------------------------------------------------------------------------------------------------------------------------------------------------------------------------------------------------------------------------------------------------------------------------------------------------------------------------------------------------------------------------------------------------------------------------------------------------------------------------------------------------------------------------------------------------------------------------------------------------------------------------------------------------------------------------------------------------------------------------------------------------------------------------------------------------------------------------------------------------------------------------------------------------------------------------------------------------------------------------------------------------------------------------------------------------------------------------------------------------------------------------------------------------------------------------------------------------------------------------------------------------------------------------------------------------------------------------------------------------------------------------------------------------------------------------------------------------------------------------------------------------------------------------------------------------------------------------------------------------------------------------------------------------------------------------------------------------------------------------------------------------------------------------------------------------------------------------------------------------------------------------------------------------------------------------------------------------------------------------------------------------------------------------------------------------------------------------------------------------------------------------------------------------------------------------------------------------------------------------------------------------------------------------------------------------------------------------------------------------------------------------------------------------------------------------------------------------------------------------------------------------------------------------------------------------------------------------------------------------------------------------------------------------------------------------------------------------------------------------------------------------------------------------------------------------------------------------------------------------------------------------------------------------------------------------------------------------------------------------------------------------------------------------------------------------------------------------------------------------------------------------------------------------------------------------------------------------------------------------------------------------------------------------------------------------------------------------------------------------------------------------------------------------------------------------------------------------------------------------------------------------------------------------------------------------------------------------------------------------------------------------------------------------------------------------------------------------------------------------------------------------------------------------------------------------------------------------------------------------------------------------------------------------------------------------------------------------------------------------------------------------------------------------------------------------------------------------------------------------------------------------------------------------------------------------------------------------------------------------------------------------------------------------------------------------------------------------------------------------------------------------------------------------------------------------------------------------------------------------------------------------------------------------------------------------------------------------------------------------------------------------------------------------------------------------------------------------------------------------------------------------------------------------------------------------------------------------------------------------------------------------------------------------------------------------------------------------------------------------------------------------------------------------------------------------------------------------------------------------------------------------------------------------------------------------------------------------------------------------------------------------------------------------------------------------------------------------------------------------------------------------------------------------------------------------------------------------------------------------------------------------------------------------------------------------------------------------------------------------------------------------------------------------------------------------------------------------------------------------------------------------------------------------------------------------------------------------------------------------------------------------------------------------------------------------------------------------------------------------------------------------------------------------------------------------------------------------------------------------------------------------------------------------------------------------------------------------------------------------------------------------------------------------------------------------------------------------------------------------------------------------------------------------------------------------------------------------------------------------------------------------------------------------------------------------------------------------------------------------------------------------------------------------------------------------------------------------------------------------------------------------------------------------------------------------------------------------------------------------------------------------------------------------------------------------------------------------------------------------------------------------------------------------------------------------------------------------------------------------------------------------------------------------------------------------------------------------------------------------------------------------------------------------------------------------------------------------------------------------------------------------------------------------------------------------------------------------------------------------------------------------------------------------------------------------------------------------------------------------------------------------------------------------------------------------------------------------------------------------------------------------------------------------------------------------------------------------------------------------------------------------------------------------------------------------------------------------------------------------------------------------------------------------------------------------------------------------------------------------------------------------------------------------------------------------------------------------------------------------------------------------------------------------------------------------------------------------------------------------------------------------------------------------------------------------------------------------------------------------------------------------------------------------------------------------------------------------------------------------------------------------------------------------------------------------------------------------------------------------------------------------------------------------------------------------------------------------------------------------------------------------------------------------------------------------------------------------------------------------------------------------------------------------------------------------------------------------------------------------------------------------------------------------------------------------------------------------------------------------------------------------------------------------------------------------------------------------------------------------------------------------------------------------------------------------------------------------------------------------------------------------------------------------------------------------------------------------------------------------------------------------------------------------------------------------------------------------------------------------------------------------------------------------------------------------------------------------------------------------------------------------------------------------------------------------------------------------------------------------------------------------------------------------------------------------------------------------------------------------------------------------------------------------------------------------------------------------------------------------------------------------------------------------------------------------------------------------------------------------------------------------------------------------------------------------------------------------------------------------------------------------------------------------------------------------------------------------------------------------------------------------------------------------------------------------------------------------------------------------------------------------------------------------------------------------------------------------------------------------------------------------------------------------------------------------------------------------------------------------------------------------------------------------------------------------------------------------------------------------------------------------------------------------------------------------------------------------------------------------------------------------------------------------------------------------------------------------------------------------------------------------------------------------------------------------------------------------------------------------------------------------------------------------------------------"
   ]
  },
  {
   "cell_type": "markdown",
   "metadata": {},
   "source": [
    "------------------------------------------------------------------------------------------------------------------------------------------------------------------------------------------------------------------------------------------------------------------------------------------------------------------------------------------------------------------------------------------------------------------------------------------------------------------------------------------------------------------------------------------------------------------------------------------------------------------------------------------------------------------------------------------------------------------------------------------------------------------------------------------------------------------------------------------------------------------------------------------------------------------------------------------------\n",
    "------------------------------------------------------------------------------------------------------------------------------------------------------------------------------------------------------------------------------------------------------------------------------------------------------------------------------------------------------------------------------------------------------------------------------------------------------------------------------------------------------------------------------------------------------------------------------------------------------------------------------------------------------------------------------------------------------------------------------------------------------------------------------------------------------------------------------------------------------------------------------------------------------------------------------------------------------------------------------------------------------------------------------------------------------------------------------------------------------------------------------------------------------------------------------------------------------------------------------------------------------------------------------------------------------------------------------------------------------------------------------------------------------------------------------------------------------------------------------------------------------------------------------------------------------------------------------------------------------------------------------------------------------------------------------------------------------------------------------------------------------------------------------------------------------------------------------------------------------------------------------------------------------------------------------------------------------------------------------------------------------------------------------------------------------------------------------------------------------------------------------------------------------------------------------------------------------------------------------------------------------------------------------------------------------------------------------------------------------------------------------------------------------------------------------------------------------------------------------------------------------------------------------------------------------------------------------------------------------------------------------------------------------------------------------------------------------------------------------------------------------------------------------------------------------------------------------------------------------------------------------------------------------------------------------------------------------------------------------------------------------------------------------------------------------------------------------------------------------------------------------------------------------------------------------------------------------------------------------------------------------------------------------------------------------------------------------------------------------------------------------------------------------------------------------------------------------------------------------------------------------------------------------------------------------------------------------------------------------------------------------------------------------------------------------------------------------------------------------------------------------------------------------------------------------------------------------------------------------------------------------------------------------------------------------------------------------------------------------------------------------------------------------------------------------------------------------------------------------------------------------------------------------------------------------------------------------------------------------------------------------------------------------------------------------------------------------------------------------------------------------------------------------------------------------------------------------------------------------------------------------------------------------------------------------------------------------------------------------------------------------------------------------------------------------------------------------------------------------------------------------------------------------------------------------------------------------------------------------------------------------------------------------------------------------------------------------------------------------------------------------------------------------------------------------------------------------------------------------------------------------------------------------------------------------------------------------------------------------------------------------------------------------------------------------------------------------------------------------------------------------------------------------------------------------------------------------------------------------------------------------------------------------------------------------------------------------------------------------------------------------------------------------------------------------------------------------------------------------------------------------------------------------------------------------------------------------------------------------------------------------------------------------------------------------------------------------------------------------------------------------------------------------------------------------------------------------------------------------------------------------------------------------------------------------------------------------------------------------------------------------------------------------------------------------------------------------------------------------------------------------------------------------------------------------------------------------------------------------------------------------------------------------------------------------------------------------------------------------------------------------------------------------------------------------------------------------------------------------------------------------------------------------------------------------------------------------------------------------------------------------------------------------------------------------------------------------------------------------------------------------------------------------------------------------------------------------------------------------------------------------------------------------------------------------------------------------------------------------------------------------------------------------------------------------------------------------------------------------------------------------------------------------------------------------------------------------------------------------------------------------------------------------------------------------------------------------------------------------------------------------------------------------------------------------------------------------------------------------------------------------------------------------------------------------------------------------------------------------------------------------------------------------------------------------------------------------------------------------------------------------------------------------------------------------------------------------------------------------------------------------------------------------------------------------------------------------------------------------------------------------------------------------------------------------------------------------------------------------------------------------------------------------------------------------------------------------------------------------------------------------------------------------------------------------------------------------------------------------------------------------------------------------------------------------------------------------------------------------------------------------------------------------------------------------------------------------------------------------------------------------------------------------------------------------------------------------------------------------------------------------------------------------------------------------------------------------------------------------------------------------------------------------------------------------------------------------------------------------------------------------------------------------------------------------------------------------------------------------------------------------------------------------------------------------------------------------------------------------------------------------------------------------------------------------------------------------------------------------------------------------------------------------------------------------------------------------------------------------------------------------------------------------------------------------------------------------------------------------------------------------------------------------------------------------------------------------------------------------------------------------------------------------------------------------------------------------------------------------------------------------------------------------------------------------------------------------------------------------------------------------------------------------------------------------------------------------------------------------------------------------------------------------------------------------------------------------------------------------------------------------------------------------------------------------------------------------------------------------------------------------------------------------------------------------------------------------------------------------------------------------------------------------------------------------------------------------------------------------------------------------------------------------------------------------------------------------------------------------------------------------------------------------------------------------------------------------------------------------------------------------------------------------------------------------------------------------------------------------------------------------------------------------------------------------------------------------------------------------------------------------------------------------------------------------------------------------------------------------------------------------------------------------------------------------------------------------------------------------------------------------------------------------------------------------------------------------------------------------------------------------------------------------------------------------------------------------------------------------------------------------------------------------------------------------------------------------------------------------------------------------------------------------------------------------------------------------------------------------------------------------------------------------------------------------------------------------------------------------------------------------------------------------------------------------------------------------------------------------------------------------------------------------------------------------------------------------------------------------------------------------------------------------------------------------------------------------------------------------------------------------------------------------------------------------------------------------------------------------------------------------------------------------------------------------------------------------------------------------------------------------------------------------------------------------------------------------------------------------------------------------------------------------------------------------------------------------------------------------------------------------------------------------------------------------------------------------------------------------------------------------------------------------------------------------------------------------------------------------------------------------------------------------------------------------------------------------------------------------------------------------------------------------------------------------------------------------------------------------------------------------------------------------------------------------------------------------------------------------------------------------------------------------------------------------------------------------------------------------------------------------------------------------------------------------------------------------------------------------------------------------------------------------------------------------------------------------------------------------------------------------------------------------------------------------------------------------------------------------------------------------------------------------------------------------------------------------------------------------------------------------------------------------------------------------------------------------------------------------------------------------------------------------------------------------------------------------------------------------------------------------------------------------------------------------------------------------------------------------------------------------------------------------------------------------------------------------------------------------------------------------------------------------------------------------------------------------------------------------------------------------------------------------------------------------------------------------------------------------------------------------------------------------------------------------------------------------------------------------------------------------------------------------------------------------------------------------------------------------------------------------------------------------------------------------------------------------------------------------------------------------------------------------------------------------------------------------------------------------------------------------------------------------------------------------------------------------------------------------------------------------------------------------------------------------------------------------------------------------------------------------------------------------------------------------------------------------------------------------------------------------------------------------------------------------------------------------------------------------------------------------------------------------------------------------------------------------------------------------------------------------------------------------------------------------------------------------------------------------------------------------------------------------------------------------------------------------------------------------------------------------------------------------------------------------------------------------------------------------------------------------------------------------------------------------------------------------------------------------------------------------------------------------------------------------------------------------------------------------------------------------------------------------------------------------------------------------------------------------------------------------------------------------------------------------------------------------------------------------------------------------------------------------------------------------------------------------------------------------------------------------------------------------------------------------------------------------------------------------------------------------------------------------------------------------------------------------------------------------------------------------------------------------------------------------------------------------------------------------------------------------------------------------------------------------------------------------------------------------------------------------------------------------------------------------------------------------------------------------------------------------------------------------------------------------------------------------------------------------------------------------------------------------------------------------------------------------------------------------------------------------------------------------------------------------------------------------------------------------------------------------------------------------------------------------------------------------------------------------------------------------------------------------------------------------------------------------------------------------------------------------------------------------------------------------------------------------------------------------------------------------------------------------------------------------------------------------------------------------------------------------------------------------------------------------------------------------------------------------------------------------------------------------------------------------------------------------------------------------------------------------------------------------------------------------------------------------------------------------------------------------------------------------------------------------------------------------------------------------------------------------------------------------------------------------------------------------------------------------------------------------------------------------------------------------------------------------------------------------------------------------------------------------------------------------------------------------------------------------------------------------------------------------------------------------------------------------------------------------------------------------------------------------------------------------------------------------------------------------------------------------------------------------------------------------------------------------------------------------------------------------------------------------------------------------------------------------------------------------------------------------------------------------------------------------------------------------------------------------------------------------------------------------------------------------------------------------------------------------------------------------------------------------------------------------------------------------------------------------------------------------------------------------------------------------------------------------------------------------------------------------------------------------------------------------------------------------------------------------------------------------------------------------------------------------------------------------------------------------------------------------------------------------------------------------------------------------------------------------------------------------------------------------------------------------------------------------------------------------------------------------------------------------------------------------------------------------------------------------------------------------------------------------------------------------------------------------------------------------------------------------------------------------------------------------------------------------------------------------------------------------------------------------------------------------------------------------------------------------------------------------------------------------------------------------------------------------------------------------------------------------------------------------------------------------------------------------------------------------------------------------------------------------------------------------------------------------------------------------------------------------------------------------------------------------------------------------------------------------------------------------------------------------------------------------------------------------------------------------------------------------------------------------------------------------------------------------------------------------------------------------------------------------------------------------------------------------------------------------------------------------------------------------------------------------------------------------------------------------------------------------------------------------------------------------------------------------------------------------------------------------------------------------------------------------------------------------------------------------------------------------------------------------------------------------------------------------------------------------------------------------------------------------------------------------------------------------------------------------------------------------------------------------------------------------------------------------------------------------------------------------------------------------------------------------------------------------------------------------------------------------------------------------------------------------------------------------------------------------------------------------------------------------------------------------------------------------------------------------------------------------------------------------------------------------------------------------------------------------------------------------------------------------------------------------------------------------------------------------------------------------------------------------------------------------------------------------------------------------------------------------------------------------------------------------------------------------------------------------------------------------------------------------------------------------------------------------------------------------------------------------------------------------------------------------------------------------------------------------------------------------------------------------------------------------------------------------------------------------------------------------------------------------------------------------------------------------------------------------------------------------------------------------------------------------------------------------------------------------------------------------------------------------------------------------------------------------------------------------------------------------------------------------------------------------------------------------------------------------------------------------------------------------------------------------------------------------------------------------------------------------------------------------------------------------------------------------------------------------------------------------------------------------------------------------------------------------------------------------------------------------------------------------------------------------------------------------------------------------------------------------------------------------------------------------------------------------------------------------------------------------------------------------------------------------------------------------------------------------------------------------------------------------------------------------------------------------------------------------------------------------------------------------------------------------------------------------------------------------------------------------------------------------------------------------------------------------------------------------------------------------------------------------------------------------------------------------------------------------------------------------------------------------------------------------------------------------------------------------------------------------------------------------------------------------------------------------------------------------------------------------------------------------------------------------------------------------------------------------------------------------------------------------------------------------------------------------------------------------------------------------------------------------------------------------------------------------------------------------------------------------------------------------------------------------------------------------------------------------------------------------------------------------------------------------------------------------------------------------------------------------------------------------------------------------------------------------------------------------------------------------------------------------------------------------------------------------------------------------------------------------------------------------------------------------------------------------------------------------------------------------------------------------------------------------------------------------------------------------------------------------------------------------------------------------------------------------------------------------------------------------------------------------------------------------------------------------------------------------------------------------------------------------------------------------------------------------------------------------------------------------------------------------------------------------------------------------------------------------------------------------------------------------------------------------------------------------------------------------------------------------------------------------------------------------------------------------------------------------------------------------------------------------------------------------------------------------------------------------------------------------------------------------------------------------------------------------------------------------------------------------------------------------------------------------------------------------------------------------------------------------------------------------------------------------------------------------------------------------------------------------------------------------------------------------------------------------------------------------------------------------------------------------------------------------------------------------------------------------------------------------------------------------------------------------------------------------------------------------------------------------------------------------------------------------------------------------------------------------------------------------------------------------------------------------------------------------------------------------------------------------------------------------------------------------------------------------------------------------------------------------------------------------------------------------------------------------------------------------------------------------------------------------------------------------------------------------------------------------------------------------------------------------------------------------------------------------------------------------------------------------------------------------------------------------------------------------------------------------------------------------------------------------------------------------------------------------------------------------------------------------------------------------------------------------------------------------------------------------------------------------------------------------------------------------------------------------------------------------------------------------------------------------------------------------------------------------------------------------------------------------------------------------------------------------------------------------------------------------------------------------------------------------------------------------------------------------------------------------------------------------------------------------------------------------------------------------------------------------------------------------------------------------------------------------------------------------------------------------------------------------------------------------------------------------------------------------------------------------------------------------------------------------------------------------------------------------------------------------------------------------------------------------------------------------------------------------------------------------------------------------------------------------------------------------------------------------------------------------------------------------------------------------------------------------------------------------------------------------------------------------------------------------------------------------------------------------------------------------------------------------------------------------------------------------------------------------------------------------------------------------------------------------------------------------------------------------------------------------------------------------------------------------------------------------------------------------------------------------------------------------------------------------------------------------------------------------------------------------------------------------------------------------------------------------------------------------------------------------------------------------------------------------------------------------------------------------------------------------------------------------------------------------------------------------------------------------------------------------------------------------------------------------------------------------------------------------------------------------------------------------------------------------------------------------------------------------------------------------------------------------------------------------------------------------------------------------------------------------------------------------------------------------------------------------------------------------------------------------------------------------------------------------------------------------------------------------------------------------------------------------------------------------------------------------------------------------------------------------------------------------------------------------------------------------------------------------------------------------------------------------------------------------------------------------------------------------------------------------------------------------------------------------------------------------------------------------------------------------------------------------------------------------------------------------------------------------------------------------------------------------------------------------------------------------------------------------------------------------------------------------------------------------------------------------------------------------------------------------------------------------------------------------------------------------------------------------------------------------------------------------------------------------------------------------------------------------------------------------------------------------------------------------------------------------------------------------------------------------------------------------------------------------------------------------------------------------------------------------------------------------------------------------------------------------------------------------------------------------------------------------------------------------------------------------------------------------------------------------------------------------------------------------------------------------------------------------------------------------------------------------------------------------------------------------------------------------------------------------------------------------------------------------------------------------------------------------------------------------------------------------------------------------------------------------------------------------------------------------------------------------------------------------------------------------------------------------------------------------------------------------------------------------------------------------------------------------------------------------------------------------------------------------------------------------------------------------------------------------------------------------------------------------------------------------------------------------------------------------------------------------------------------------------------------------------------------------------------------"
   ]
  },
  {
   "cell_type": "markdown",
   "metadata": {},
   "source": [
    "------------------------------------------------------------------------------------------------------------------------------------------------------------------------------------------------------------------------------------------------------------------------------------------------------------------------------------------------------------------------------------------------------------------------------------------------------------------------------------------------------------------------------------------------------------------------------------------------------------------------------------------------------------------------------------------------------------------------------------------------------------------------------------------------------------------------------------------------------------------------------------------------------------------------------------------------\n",
    "------------------------------------------------------------------------------------------------------------------------------------------------------------------------------------------------------------------------------------------------------------------------------------------------------------------------------------------------------------------------------------------------------------------------------------------------------------------------------------------------------------------------------------------------------------------------------------------------------------------------------------------------------------------------------------------------------------------------------------------------------------------------------------------------------------------------------------------------------------------------------------------------------------------------------------------------------------------------------------------------------------------------------------------------------------------------------------------------------------------------------------------------------------------------------------------------------------------------------------------------------------------------------------------------------------------------------------------------------------------------------------------------------------------------------------------------------------------------------------------------------------------------------------------------------------------------------------------------------------------------------------------------------------------------------------------------------------------------------------------------------------------------------------------------------------------------------------------------------------------------------------------------------------------------------------------------------------------------------------------------------------------------------------------------------------------------------------------------------------------------------------------------------------------------------------------------------------------------------------------------------------------------------------------------------------------------------------------------------------------------------------------------------------------------------------------------------------------------------------------------------------------------------------------------------------------------------------------------------------------------------------------------------------------------------------------------------------------------------------------------------------------------------------------------------------------------------------------------------------------------------------------------------------------------------------------------------------------------------------------------------------------------------------------------------------------------------------------------------------------------------------------------------------------------------------------------------------------------------------------------------------------------------------------------------------------------------------------------------------------------------------------------------------------------------------------------------------------------------------------------------------------------------------------------------------------------------------------------------------------------------------------------------------------------------------------------------------------------------------------------------------------------------------------------------------------------------------------------------------------------------------------------------------------------------------------------------------------------------------------------------------------------------------------------------------------------------------------------------------------------------------------------------------------------------------------------------------------------------------------------------------------------------------------------------------------------------------------------------------------------------------------------------------------------------------------------------------------------------------------------------------------------------------------------------------------------------------------------------------------------------------------------------------------------------------------------------------------------------------------------------------------------------------------------------------------------------------------------------------------------------------------------------------------------------------------------------------------------------------------------------------------------------------------------------------------------------------------------------------------------------------------------------------------------------------------------------------------------------------------------------------------------------------------------------------------------------------------------------------------------------------------------------------------------------------------------------------------------------------------------------------------------------------------------------------------------------------------------------------------------------------------------------------------------------------------------------------------------------------------------------------------------------------------------------------------------------------------------------------------------------------------------------------------------------------------------------------------------------------------------------------------------------------------------------------------------------------------------------------------------------------------------------------------------------------------------------------------------------------------------------------------------------------------------------------------------------------------------------------------------------------------------------------------------------------------------------------------------------------------------------------------------------------------------------------------------------------------------------------------------------------------------------------------------------------------------------------------------------------------------------------------------------------------------------------------------------------------------------------------------------------------------------------------------------------------------------------------------------------------------------------------------------------------------------------------------------------------------------------------------------------------------------------------------------------------------------------------------------------------------------------------------------------------------------------------------------------------------------------------------------------------------------------------------------------------------------------------------------------------------------------------------------------------------------------------------------------------------------------------------------------------------------------------------------------------------------------------------------------------------------------------------------------------------------------------------------------------------------------------------------------------------------------------------------------------------------------------------------------------------------------------------------------------------------------------------------------------------------------------------------------------------------------------------------------------------------------------------------------------------------------------------------------------------------------------------------------------------------------------------------------------------------------------------------------------------------------------------------------------------------------------------------------------------------------------------------------------------------------------------------------------------------------------------------------------------------------------------------------------------------------------------------------------------------------------------------------------------------------------------------------------------------------------------------------------------------------------------------------------------------------------------------------------------------------------------------------------------------------------------------------------------------------------------------------------------------------------------------------------------------------------------------------------------------------------------------------------------------------------------------------------------------------------------------------------------------------------------------------------------------------------------------------------------------------------------------------------------------------------------------------------------------------------------------------------------------------------------------------------------------------------------------------------------------------------------------------------------------------------------------------------------------------------------------------------------------------------------------------------------------------------------------------------------------------------------------------------------------------------------------------------------------------------------------------------------------------------------------------------------------------------------------------------------------------------------------------------------------------------------------------------------------------------------------------------------------------------------------------------------------------------------------------------------------------------------------------------------------------------------------------------------------------------------------------------------------------------------------------------------------------------------------------------------------------------------------------------------------------------------------------------------------------------------------------------------------------------------------------------------------------------------------------------------------------------------------------------------------------------------------------------------------------------------------------------------------------------------------------------------------------------------------------------------------------------------------------------------------------------------------------------------------------------------------------------------------------------------------------------------------------------------------------------------------------------------------------------------------------------------------------------------------------------------------------------------------------------------------------------------------------------------------------------------------------------------------------------------------------------------------------------------------------------------------------------------------------------------------------------------------------------------------------------------------------------------------------------------------------------------------------------------------------------------------------------------------------------------------------------------------------------------------------------------------------------------------------------------------------------------------------------------------------------------------------------------------------------------------------------------------------------------------------------------------------------------------------------------------------------------------------------------------------------------------------------------------------------------------------------------------------------------------------------------------------------------------------------------------------------------------------------------------------------------------------------------------------------------------------------------------------------------------------------------------------------------------------------------------------------------------------------------------------------------------------------------------------------------------------------------------------------------------------------------------------------------------------------------------------------------------------------------------------------------------------------------------------------------------------------------------------------------------------------------------------------------------------------------------------------------------------------------------------------------------------------------------------------------------------------------------------------------------------------------------------------------------------------------------------------------------------------------------------------------------------------------------------------------------------------------------------------------------------------------------------------------------------------------------------------------------------------------------------------------------------------------------------------------------------------------------------------------------------------------------------------------------------------------------------------------------------------------------------------------------------------------------------------------------------------------------------------------------------------------------------------------------------------------------------------------------------------------------------------------------------------------------------------------------------------------------------------------------------------------------------------------------------------------------------------------------------------------------------------------------------------------------------------------------------------------------------------------------------------------------------------------------------------------------------------------------------------------------------------------------------------------------------------------------------------------------------------------------------------------------------------------------------------------------------------------------------------------------------------------------------------------------------------------------------------------------------------------------------------------------------------------------------------------------------------------------------------------------------------------------------------------------------------------------------------------------------------------------------------------------------------------------------------------------------------------------------------------------------------------------------------------------------------------------------------------------------------------------------------------------------------------------------------------------------------------------------------------------------------------------------------------------------------------------------------------------------------------------------------------------------------------------------------------------------------------------------------------------------------------------------------------------------------------------------------------------------------------------------------------------------------------------------------------------------------------------------------------------------------------------------------------------------------------------------------------------------------------------------------------------------------------------------------------------------------------------------------------------------------------------------------------------------------------------------------------------------------------------------------------------------------------------------------------------------------------------------------------------------------------------------------------------------------------------------------------------------------------------------------------------------------------------------------------------------------------------------------------------------------------------------------------------------------------------------------------------------------------------------------------------------------------------------------------------------------------------------------------------------------------------------------------------------------------------------------------------------------------------------------------------------------------------------------------------------------------------------------------------------------------------------------------------------------------------------------------------------------------------------------------------------------------------------------------------------------------------------------------------------------------------------------------------------------------------------------------------------------------------------------------------------------------------------------------------------------------------------------------------------------------------------------------------------------------------------------------------------------------------------------------------------------------------------------------------------------------------------------------------------------------------------------------------------------------------------------------------------------------------------------------------------------------------------------------------------------------------------------------------------------------------------------------------------------------------------------------------------------------------------------------------------------------------------------------------------------------------------------------------------------------------------------------------------------------------------------------------------------------------------------------------------------------------------------------------------------------------------------------------------------------------------------------------------------------------------------------------------------------------------------------------------------------------------------------------------------------------------------------------------------------------------------------------------------------------------------------------------------------------------------------------------------------------------------------------------------------------------------------------------------------------------------------------------------------------------------------------------------------------------------------------------------------------------------------------------------------------------------------------------------------------------------------------------------------------------------------------------------------------------------------------------------------------------------------------------------------------------------------------------------------------------------------------------------------------------------------------------------------------------------------------------------------------------------------------------------------------------------------------------------------------------------------------------------------------------------------------------------------------------------------------------------------------------------------------------------------------------------------------------------------------------------------------------------------------------------------------------------------------------------------------------------------------------------------------------------------------------------------------------------------------------------------------------------------------------------------------------------------------------------------------------------------------------------------------------------------------------------------------------------------------------------------------------------------------------------------------------------------------------------------------------------------------------------------------------------------------------------------------------------------------------------------------------------------------------------------------------------------------------------------------------------------------------------------------------------------------------------------------------------------------------------------------------------------------------------------------------------------------------------------------------------------------------------------------------------------------------------------------------------------------------------------------------------------------------------------------------------------------------------------------------------------------------------------------------------------------------------------------------------------------------------------------------------------------------------------------------------------------------------------------------------------------------------------------------------------------------------------------------------------------------------------------------------------------------------------------------------------------------------------------------------------------------------------------------------------------------------------------------------------------------------------------------------------------------------------------------------------------------------------------------------------------------------------------------------------------------------------------------------------------------------------------------------------------------------------------------------------------------------------------------------------------------------------------------------------------------------------------------------------------------------------------------------------------------------------------------------------------------------------------------------------------------------------------------------------------------------------------------------------------------------------------------------------------------------------------------------------------------------------------------------------------------------------------------------------------------------------------------------------------------------------------------------------------------------------------------------------------------------------------------------------------------------------------------------------------------------------------------------------------------------------------------------------------------------------------------------------------------------------------------------------------------------------------------------------------------------------------------------------------------------------------------------------------------------------------------------------------------------------------------------------------------------------------------------------------------------------------------------------------------------------------------------------------------------------------------------------------------------------------------------------------------------------------------------------------------------------------------------------------------------------------------------------------------------------------------------------------------------------------------------------------------------------------------------------------------------------------------------------------------------------------------------------------------------------------------------------------------------------------------------------------------------------------------------------------------------------------------------------------------------------------------------------------------------------------------------------------------------------------------------------------------------------------------------------------------------------------------------------------------------------------------------------------------------------------------------------------------------------------------------------------------------------------------------------------------------------------------------------------------------------------------------------------------------------------------------------------------------------------------------------------------------------------------------------------------------------------------------------------------------------------------------------------------------------------------------------------------------------------------------------------------------------------------------------------------------------------------------------------------------------------------------------------------------------------------------------------------------------------------------------------------------------------------------------------------------------------------------------------------------------------------------------------------------------------------------------------------------------------------------------------------------------------------------------------------------------------------------------------------------------------------------------------------------------------------------------------------------------------------------------------------------------------------------------------------------------------------------------------------------------------------------------------------------------------------------------------------------------------------------------------------------------------------------------------------------------------------------------------------------------------------------------------------------------------------------------------------------------------------------------------------------------------------------------------------------------------------------------------------------------------------------------------------------------------------------------------------------------------------------------------------------------------------------------------------------------------------------------------------------------------------------------------------------------------------------------------------------------------------------------------------------------------------------------------------------------------------------------------------------------------------------------------------------------------------------------------------------------------------------------------------------------------------------------------------------------------------------------------------------------------------------------------------------------------------------------------------------------------------------------------------------------------------------------------------------------------------------------------------------------------------------------------------------------------------------------------------------------------------------------------------------------------------------------------------------------------------------------------------------------------------------------------------------------------------------------------------------------------------------------------------------------------------------------------------------------------------------------------------------------------------------------------------------------------------------------------------------------------------------------------------------------------------------------------------------------------------------------------------------------------------------------------------------------------------------------------------------------------------------------------------------------------------------------------------------------------------------------------------------------------------------------------------------------------------------------------------------------------------------------------------------------------------------------------------------------------------------------------------------------------------------------------------------------------------------------------------------------------------------------------------------------------------------------------------------------------------------------------------------------------------------------------------------------------------------------------------------------------------------------------------------------------------------------------------------------------------------------------------------------------------------------------------------------------------------------------------------------------------------------------------------------------------------------------------------------------------------------------------------------------------------------------------------------------------------------------------------------------------------------------------------------------------------------------------------------------------------------------------------------------------------------------------------------------------------------------------------------------------------------------------------------------------------------------------------------------------------------------------------------------------------------------------------------------------------------------------------------------------------------------------------------------------------------------------------------------------------------------------------------------------------------------------------------------------------------------------------------------------------------------------------------------------------------------------------------------------------------------------------------------------------------------------------------------------------------------------------------------------------------------------------------------------------------------------------------------------------------------------------------------------------------------------------------------------------------------------------------------------------------------------------------------------------------------------------------------------------------------------------------------------------------------------------------------------------------------------------------------------------------------------------------------------------------------------------------------------------------------------------------------------------------------------------------------------------------------------------------------------------------------------------------------------------------------------------------------------------------------------------------------------------------------------------------------------------------------------------------------------------------------------------------------------------------------------------------------------------------------------------------------------------------------------------------------------------------------------------------------------------------------------------------------------------------------------------------------------------------------------------------------------------------------------------------------------------------------------------------------------------------------------------------------------------------------------------------------------------------------------------------------------------------------------------------------------------------------------------------------------------------------------------------------------------------------------------------------------------------------------------------------------------------------------------------------------------------------------------------------------------------------------------------------------------------------------------------------------------------------------------------------------------------------------------------------------------------------------------------------------------------------------------------------------------------------------------------------------------------------------------------------------------------------------------------------------------------------------------------------------------------------------------------------------------------------------------------------------------------------------------------------------------------------------------------------------------------------------------------------------------------------------------------------------------------------------------------------------------------------------------------------------------------------------------------------------------------------------------------------------------------------------------------------------------------------------------------------------------------------------------------------------------------------------------------------------------------------------------------------------------------------------------------------------------------------------------------------------------------------------------------------------------------------------------------------------------------------------------------------------------------------------------------------------------------------------------------------------------------------------------------------------------------------------------------------------------------------------------------------------------------------------------------------------------------------------------------------------------------------------------------------------------------------------------------------------------------------------------------------------------------------------------------------------------------------------------------------------------------------------------------------------------------------------------------------------------------------------------------------------------------------------------------"
   ]
  },
  {
   "cell_type": "markdown",
   "metadata": {},
   "source": [
    "------------------------------------------------------------------------------------------------------------------------------------------------------------------------------------------------------------------------------------------------------------------------------------------------------------------------------------------------------------------------------------------------------------------------------------------------------------------------------------------------------------------------------------------------------------------------------------------------------------------------------------------------------------------------------------------------------------------------------------------------------------------------------------------------------------------------------------------------------------------------------------------------------------------------------------------------\n",
    "------------------------------------------------------------------------------------------------------------------------------------------------------------------------------------------------------------------------------------------------------------------------------------------------------------------------------------------------------------------------------------------------------------------------------------------------------------------------------------------------------------------------------------------------------------------------------------------------------------------------------------------------------------------------------------------------------------------------------------------------------------------------------------------------------------------------------------------------------------------------------------------------------------------------------------------------------------------------------------------------------------------------------------------------------------------------------------------------------------------------------------------------------------------------------------------------------------------------------------------------------------------------------------------------------------------------------------------------------------------------------------------------------------------------------------------------------------------------------------------------------------------------------------------------------------------------------------------------------------------------------------------------------------------------------------------------------------------------------------------------------------------------------------------------------------------------------------------------------------------------------------------------------------------------------------------------------------------------------------------------------------------------------------------------------------------------------------------------------------------------------------------------------------------------------------------------------------------------------------------------------------------------------------------------------------------------------------------------------------------------------------------------------------------------------------------------------------------------------------------------------------------------------------------------------------------------------------------------------------------------------------------------------------------------------------------------------------------------------------------------------------------------------------------------------------------------------------------------------------------------------------------------------------------------------------------------------------------------------------------------------------------------------------------------------------------------------------------------------------------------------------------------------------------------------------------------------------------------------------------------------------------------------------------------------------------------------------------------------------------------------------------------------------------------------------------------------------------------------------------------------------------------------------------------------------------------------------------------------------------------------------------------------------------------------------------------------------------------------------------------------------------------------------------------------------------------------------------------------------------------------------------------------------------------------------------------------------------------------------------------------------------------------------------------------------------------------------------------------------------------------------------------------------------------------------------------------------------------------------------------------------------------------------------------------------------------------------------------------------------------------------------------------------------------------------------------------------------------------------------------------------------------------------------------------------------------------------------------------------------------------------------------------------------------------------------------------------------------------------------------------------------------------------------------------------------------------------------------------------------------------------------------------------------------------------------------------------------------------------------------------------------------------------------------------------------------------------------------------------------------------------------------------------------------------------------------------------------------------------------------------------------------------------------------------------------------------------------------------------------------------------------------------------------------------------------------------------------------------------------------------------------------------------------------------------------------------------------------------------------------------------------------------------------------------------------------------------------------------------------------------------------------------------------------------------------------------------------------------------------------------------------------------------------------------------------------------------------------------------------------------------------------------------------------------------------------------------------------------------------------------------------------------------------------------------------------------------------------------------------------------------------------------------------------------------------------------------------------------------------------------------------------------------------------------------------------------------------------------------------------------------------------------------------------------------------------------------------------------------------------------------------------------------------------------------------------------------------------------------------------------------------------------------------------------------------------------------------------------------------------------------------------------------------------------------------------------------------------------------------------------------------------------------------------------------------------------------------------------------------------------------------------------------------------------------------------------------------------------------------------------------------------------------------------------------------------------------------------------------------------------------------------------------------------------------------------------------------------------------------------------------------------------------------------------------------------------------------------------------------------------------------------------------------------------------------------------------------------------------------------------------------------------------------------------------------------------------------------------------------------------------------------------------------------------------------------------------------------------------------------------------------------------------------------------------------------------------------------------------------------------------------------------------------------------------------------------------------------------------------------------------------------------------------------------------------------------------------------------------------------------------------------------------------------------------------------------------------------------------------------------------------------------------------------------------------------------------------------------------------------------------------------------------------------------------------------------------------------------------------------------------------------------------------------------------------------------------------------------------------------------------------------------------------------------------------------------------------------------------------------------------------------------------------------------------------------------------------------------------------------------------------------------------------------------------------------------------------------------------------------------------------------------------------------------------------------------------------------------------------------------------------------------------------------------------------------------------------------------------------------------------------------------------------------------------------------------------------------------------------------------------------------------------------------------------------------------------------------------------------------------------------------------------------------------------------------------------------------------------------------------------------------------------------------------------------------------------------------------------------------------------------------------------------------------------------------------------------------------------------------------------------------------------------------------------------------------------------------------------------------------------------------------------------------------------------------------------------------------------------------------------------------------------------------------------------------------------------------------------------------------------------------------------------------------------------------------------------------------------------------------------------------------------------------------------------------------------------------------------------------------------------------------------------------------------------------------------------------------------------------------------------------------------------------------------------------------------------------------------------------------------------------------------------------------------------------------------------------------------------------------------------------------------------------------------------------------------------------------------------------------------------------------------------------------------------------------------------------------------------------------------------------------------------------------------------------------------------------------------------------------------------------------------------------------------------------------------------------------------------------------------------------------------------------------------------------------------------------------------------------------------------------------------------------------------------------------------------------------------------------------------------------------------------------------------------------------------------------------------------------------------------------------------------------------------------------------------------------------------------------------------------------------------------------------------------------------------------------------------------------------------------------------------------------------------------------------------------------------------------------------------------------------------------------------------------------------------------------------------------------------------------------------------------------------------------------------------------------------------------------------------------------------------------------------------------------------------------------------------------------------------------------------------------------------------------------------------------------------------------------------------------------------------------------------------------------------------------------------------------------------------------------------------------------------------------------------------------------------------------------------------------------------------------------------------------------------------------------------------------------------------------------------------------------------------------------------------------------------------------------------------------------------------------------------------------------------------------------------------------------------------------------------------------------------------------------------------------------------------------------------------------------------------------------------------------------------------------------------------------------------------------------------------------------------------------------------------------------------------------------------------------------------------------------------------------------------------------------------------------------------------------------------------------------------------------------------------------------------------------------------------------------------------------------------------------------------------------------------------------------------------------------------------------------------------------------------------------------------------------------------------------------------------------------------------------------------------------------------------------------------------------------------------------------------------------------------------------------------------------------------------------------------------------------------------------------------------------------------------------------------------------------------------------------------------------------------------------------------------------------------------------------------------------------------------------------------------------------------------------------------------------------------------------------------------------------------------------------------------------------------------------------------------------------------------------------------------------------------------------------------------------------------------------------------------------------------------------------------------------------------------------------------------------------------------------------------------------------------------------------------------------------------------------------------------------------------------------------------------------------------------------------------------------------------------------------------------------------------------------------------------------------------------------------------------------------------------------------------------------------------------------------------------------------------------------------------------------------------------------------------------------------------------------------------------------------------------------------------------------------------------------------------------------------------------------------------------------------------------------------------------------------------------------------------------------------------------------------------------------------------------------------------------------------------------------------------------------------------------------------------------------------------------------------------------------------------------------------------------------------------------------------------------------------------------------------------------------------------------------------------------------------------------------------------------------------------------------------------------------------------------------------------------------------------------------------------------------------------------------------------------------------------------------------------------------------------------------------------------------------------------------------------------------------------------------------------------------------------------------------------------------------------------------------------------------------------------------------------------------------------------------------------------------------------------------------------------------------------------------------------------------------------------------------------------------------------------------------------------------------------------------------------------------------------------------------------------------------------------------------------------------------------------------------------------------------------------------------------------------------------------------------------------------------------------------------------------------------------------------------------------------------------------------------------------------------------------------------------------------------------------------------------------------------------------------------------------------------------------------------------------------------------------------------------------------------------------------------------------------------------------------------------------------------------------------------------------------------------------------------------------------------------------------------------------------------------------------------------------------------------------------------------------------------------------------------------------------------------------------------------------------------------------------------------------------------------------------------------------------------------------------------------------------------------------------------------------------------------------------------------------------------------------------------------------------------------------------------------------------------------------------------------------------------------------------------------------------------------------------------------------------------------------------------------------------------------------------------------------------------------------------------------------------------------------------------------------------------------------------------------------------------------------------------------------------------------------------------------------------------------------------------------------------------------------------------------------------------------------------------------------------------------------------------------------------------------------------------------------------------------------------------------------------------------------------------------------------------------------------------------------------------------------------------------------------------------------------------------------------------------------------------------------------------------------------------------------------------------------------------------------------------------------------------------------------------------------------------------------------------------------------------------------------------------------------------------------------------------------------------------------------------------------------------------------------------------------------------------------------------------------------------------------------------------------------------------------------------------------------------------------------------------------------------------------------------------------------------------------------------------------------------------------------------------------------------------------------------------------------------------------------------------------------------------------------------------------------------------------------------------------------------------------------------------------------------------------------------------------------------------------------------------------------------------------------------------------------------------------------------------------------------------------------------------------------------------------------------------------------------------------------------------------------------------------------------------------------------------------------------------------------------------------------------------------------------------------------------------------------------------------------------------------------------------------------------------------------------------------------------------------------------------------------------------------------------------------------------------------------------------------------------------------------------------------------------------------------------------------------------------------------------------------------------------------------------------------------------------------------------------------------------------------------------------------------------------------------------------------------------------------------------------------------------------------------------------------------------------------------------------------------------------------------------------------------------------------------------------------------------------------------------------------------------------------------------------------------------------------------------------------------------------------------------------------------------------------------------------------------------------------------------------------------------------------------------------------------------------------------------------------------------------------------------------------------------------------------------------------------------------------------------------------------------------------------------------------------------------------------------------------------------------------------------------------------------------------------------------------------------------------------------------------------------------------------------------------------------------------------------------------------------------------------------------------------------------------------------------------------------------------------------------------------------------------------------------------------------------------------------------------------------------------------------------------------------------------------------------------------------------------------------------------------------------------------------------------------------------------------------------------------------------------------------------------------------------------------------------------------------------------------------------------------------------------------------------------------------------------------------------------------------------------------------------------------------------------------------------------------------------------------------------------------------------------------------------------------------------------------------------------------------------------------------------------------------------------------------------------------------------------------------------------------------------------------------------------------------------------------------------------------------------------------------------------------------------------------------------------------------------------------------------------------------------------------------------------------------------------------------------------------------------------------------------------------------------------------------------------------------------------------------------------------------------------------------------------------------------------------------------------------------------------------------------------------------------------------------------------------------------------------------------------------------------------------------------------------------------------------------------------------------------------------------------------------------------------------------------------------------------------------------------------------------------------------------------------------------------------------------------------------------------------------------------------------------------------------------------------------------------------------------------------------------------------------------------------------------------------------------------------------------------------------------------------------------------------------------------------------------------------------------------------------------------------------------------------------------------------------------------------------------------------------------------------------------------------------------------------------------------------------------------------------------------------------------------------------------------------------------------------------------------------------------------------------------------------------------------------------------------------------------------------------------------------------------------------------------------------------------------------------------------------------------------------------------------------------------------------------------------------------------------------------------------------------------------------------------------------------------------------------------------------------------------------------------------------------------------------------------------------------------------------------------------------------------------------------------------------------------------------------------------------------------------------------------------------------------------------------------------------------------------------------------------------------------------------------------------------------------------------------------------------------------------------------------------------------------------------------------------------------------------------------------------------------------------------------------------------------------------------------------------------------------------------------------------------------------------------------------------------------------------------------------------------------------------------------------------------------------------------------------------------------------------------------------------------------------------------------------------------------------------------------------------------------------------------------------------------------------------------------------------------------------------------------------------------------------------------------------------------------------------------------------------------------------------------------------------------------------------------------------------------------------------------------------------------------------------------------------------------------------------------------------------------------------------------------------------------------------------------------------------------------------------------------------------------------------------------------------------------------------------------------------------------------------------------------------------------------------------------------------------------------------------------------------------------------------------------------------------------------------------------------------------------------------------------------------------------------------------------------------------------------------------------------------------------------------------------------------------------------------------------------------------------------------------------------------------------------------------------------------------------------------------------------------------------------------------------------------------------------------------------------------------------------------------------------------------------------------------------------------------------------------------------------------------------------------------------------------------------------------------------------------------------------------------------------------------------------------------------------------------------------------------------------------------------------------------------------------------------------------------------------------------------------------------------------------------------------------------------------------------------------------------------------------------------------------------------------------------------------------------------------------------------------------------------------------------------------------------------------------------------------------------------------------------------------------------------------------------------------------------------------------------------------------------------------------------------------------------------------------------------------------------------------------------------------------------------------------------------------------------------------------------------------------------------------------------------------------------------------------------------------------------------------------------------------------------------------------------------------------------------------------------------------------------------------------------------------------------------------------------------------------------------------------------------------------------------------------------------------------------------------------------------------------------------------------------------------------------------------------------------------------------------------------------------------------------------------------------------------------------------------------------------------------------------------------------------------------------------------------------------------------------------------------------------------------------------------------------------------------------------------------------------------------------------------------------------------------------------------------------------------------------------------------------------------------------------------------------------------------------------------------------------------------------------------------------------------------------------------------------------------------------------------------------------------------------------------------------------------------------------------------------------------------------------------------------------------------------------------------------------------------------------------------------------------------------------------------------------------------------------------------------------------------------------------------------------------------------------------------------------------------------------------------------------------------------------------------------------------------------------------------------------------------------------------------------------------------------------------------------------------------------------------------------------------------------------------------------------------------------------------------------------------------------------------------------------------------------------------------------------------------------------------------------------------------------------------------------------------------------------------------------------------------------------------------------------------------------------------------------------------------------------------------------------------------------------------------------------------------------------------------------------------------------------------------------------------------------------------------------------------------------------------------------------------------------------------------------------------------------------------------------------------------------------------------------------------------------------------------------------------------------------------------------------------------------------------------------------------------------------------------------------------------------------------------------------------------------------------------------------------------------------------------------------------------------------------------------------------------------------------------------------------------------------------------------------------------------------------------------------------------------------------------------------------------------------------------------------------------------------------------------------------------------------------------------------------------------------------------------------------------------------------------------------------------------------------------------------------------------------------------------------------------------------------------------------------------------------------------------------------------------------------------------------------------------------------------------------------------------------------------------------------------------------------------------------------------------------------------------------------------------------------------------------------------------------------------------------------------------------------------------------------------------------------------------------------------------------------------------------------------------------------------------------------------------------------------------------------------------------------------------------------------------------------------------------------------------------------------------------------------------------------------------------------------------------------------------------------------------------------------------------------------------------------------------------------------------------------------------------------------------------------------------------------------"
   ]
  },
  {
   "cell_type": "markdown",
   "metadata": {},
   "source": [
    "------------------------------------------------------------------------------------------------------------------------------------------------------------------------------------------------------------------------------------------------------------------------------------------------------------------------------------------------------------------------------------------------------------------------------------------------------------------------------------------------------------------------------------------------------------------------------------------------------------------------------------------------------------------------------------------------------------------------------------------------------------------------------------------------------------------------------------------------------------------------------------------------------------------------------------------------\n",
    "------------------------------------------------------------------------------------------------------------------------------------------------------------------------------------------------------------------------------------------------------------------------------------------------------------------------------------------------------------------------------------------------------------------------------------------------------------------------------------------------------------------------------------------------------------------------------------------------------------------------------------------------------------------------------------------------------------------------------------------------------------------------------------------------------------------------------------------------------------------------------------------------------------------------------------------------------------------------------------------------------------------------------------------------------------------------------------------------------------------------------------------------------------------------------------------------------------------------------------------------------------------------------------------------------------------------------------------------------------------------------------------------------------------------------------------------------------------------------------------------------------------------------------------------------------------------------------------------------------------------------------------------------------------------------------------------------------------------------------------------------------------------------------------------------------------------------------------------------------------------------------------------------------------------------------------------------------------------------------------------------------------------------------------------------------------------------------------------------------------------------------------------------------------------------------------------------------------------------------------------------------------------------------------------------------------------------------------------------------------------------------------------------------------------------------------------------------------------------------------------------------------------------------------------------------------------------------------------------------------------------------------------------------------------------------------------------------------------------------------------------------------------------------------------------------------------------------------------------------------------------------------------------------------------------------------------------------------------------------------------------------------------------------------------------------------------------------------------------------------------------------------------------------------------------------------------------------------------------------------------------------------------------------------------------------------------------------------------------------------------------------------------------------------------------------------------------------------------------------------------------------------------------------------------------------------------------------------------------------------------------------------------------------------------------------------------------------------------------------------------------------------------------------------------------------------------------------------------------------------------------------------------------------------------------------------------------------------------------------------------------------------------------------------------------------------------------------------------------------------------------------------------------------------------------------------------------------------------------------------------------------------------------------------------------------------------------------------------------------------------------------------------------------------------------------------------------------------------------------------------------------------------------------------------------------------------------------------------------------------------------------------------------------------------------------------------------------------------------------------------------------------------------------------------------------------------------------------------------------------------------------------------------------------------------------------------------------------------------------------------------------------------------------------------------------------------------------------------------------------------------------------------------------------------------------------------------------------------------------------------------------------------------------------------------------------------------------------------------------------------------------------------------------------------------------------------------------------------------------------------------------------------------------------------------------------------------------------------------------------------------------------------------------------------------------------------------------------------------------------------------------------------------------------------------------------------------------------------------------------------------------------------------------------------------------------------------------------------------------------------------------------------------------------------------------------------------------------------------------------------------------------------------------------------------------------------------------------------------------------------------------------------------------------------------------------------------------------------------------------------------------------------------------------------------------------------------------------------------------------------------------------------------------------------------------------------------------------------------------------------------------------------------------------------------------------------------------------------------------------------------------------------------------------------------------------------------------------------------------------------------------------------------------------------------------------------------------------------------------------------------------------------------------------------------------------------------------------------------------------------------------------------------------------------------------------------------------------------------------------------------------------------------------------------------------------------------------------------------------------------------------------------------------------------------------------------------------------------------------------------------------------------------------------------------------------------------------------------------------------------------------------------------------------------------------------------------------------------------------------------------------------------------------------------------------------------------------------------------------------------------------------------------------------------------------------------------------------------------------------------------------------------------------------------------------------------------------------------------------------------------------------------------------------------------------------------------------------------------------------------------------------------------------------------------------------------------------------------------------------------------------------------------------------------------------------------------------------------------------------------------------------------------------------------------------------------------------------------------------------------------------------------------------------------------------------------------------------------------------------------------------------------------------------------------------------------------------------------------------------------------------------------------------------------------------------------------------------------------------------------------------------------------------------------------------------------------------------------------------------------------------------------------------------------------------------------------------------------------------------------------------------------------------------------------------------------------------------------------------------------------------------------------------------------------------------------------------------------------------------------------------------------------------------------------------------------------------------------------------------------------------------------------------------------------------------------------------------------------------------------------------------------------------------------------------------------------------------------------------------------------------------------------------------------------------------------------------------------------------------------------------------------------------------------------------------------------------------------------------------------------------------------------------------------------------------------------------------------------------------------------------------------------------------------------------------------------------------------------------------------------------------------------------------------------------------------------------------------------------------------------------------------------------------------------------------------------------------------------------------------------------------------------------------------------------------------------------------------------------------------------------------------------------------------------------------------------------------------------------------------------------------------------------------------------------------------------------------------------------------------------------------------------------------------------------------------------------------------------------------------------------------------------------------------------------------------------------------------------------------------------------------------------------------------------------------------------------------------------------------------------------------------------------------------------------------------------------------------------------------------------------------------------------------------------------------------------------------------------------------------------------------------------------------------------------------------------------------------------------------------------------------------------------------------------------------------------------------------------------------------------------------------------------------------------------------------------------------------------------------------------------------------------------------------------------------------------------------------------------------------------------------------------------------------------------------------------------------------------------------------------------------------------------------------------------------------------------------------------------------------------------------------------------------------------------------------------------------------------------------------------------------------------------------------------------------------------------------------------------------------------------------------------------------------------------------------------------------------------------------------------------------------------------------------------------------------------------------------------------------------------------------------------------------------------------------------------------------------------------------------------------------------------------------------------------------------------------------------------------------------------------------------------------------------------------------------------------------------------------------------------------------------------------------------------------------------------------------------------------------------------------------------------------------------------------------------------------------------------------------------------------------------------------------------------------------------------------------------------------------------------------------------------------------------------------------------------------------------------------------------------------------------------------------------------------------------------------------------------------------------------------------------------------------------------------------------------------------------------------------------------------------------------------------------------------------------------------------------------------------------------------------------------------------------------------------------------------------------------------------------------------------------------------------------------------------------------------------------------------------------------------------------------------------------------------------------------------------------------------------------------------------------------------------------------------------------------------------------------------------------------------------------------------------------------------------------------------------------------------------------------------------------------------------------------------------------------------------------------------------------------------------------------------------------------------------------------------------------------------------------------------------------------------------------------------------------------------------------------------------------------------------------------------------------------------------------------------------------------------------------------------------------------------------------------------------------------------------------------------------------------------------------------------------------------------------------------------------------------------------------------------------------------------------------------------------------------------------------------------------------------------------------------------------------------------------------------------------------------------------------------------------------------------------------------------------------------------------------------------------------------------------------------------------------------------------------------------------------------------------------------------------------------------------------------------------------------------------------------------------------------------------------------------------------------------------------------------------------------------------------------------------------------------------------------------------------------------------------------------------------------------------------------------------------------------------------------------------------------------------------------------------------------------------------------------------------------------------------------------------------------------------------------------------------------------------------------------------------------------------------------------------------------------------------------------------------------------------------------------------------------------------------------------------------------------------------------------------------------------------------------------------------------------------------------------------------------------------------------------------------------------------------------------------------------------------------------------------------------------------------------------------------------------------------------------------------------------------------------------------------------------------------------------------------------------------------------------------------------------------------------------------------------------------------------------------------------------------------------------------------------------------------------------------------------------------------------------------------------------------------------------------------------------------------------------------------------------------------------------------------------------------------------------------------------------------------------------------------------------------------------------------------------------------------------------------------------------------------------------------------------------------------------------------------------------------------------------------------------------------------------------------------------------------------------------------------------------------------------------------------------------------------------------------------------------------------------------------------------------------------------------------------------------------------------------------------------------------------------------------------------------------------------------------------------------------------------------------------------------------------------------------------------------------------------------------------------------------------------------------------------------------------------------------------------------------------------------------------------------------------------------------------------------------------------------------------------------------------------------------------------------------------------------------------------------------------------------------------------------------------------------------------------------------------------------------------------------------------------------------------------------------------------------------------------------------------------------------------------------------------------------------------------------------------------------------------------------------------------------------------------------------------------------------------------------------------------------------------------------------------------------------------------------------------------------------------------------------------------------------------------------------------------------------------------------------------------------------------------------------------------------------------------------------------------------------------------------------------------------------------------------------------------------------------------------------------------------------------------------------------------------------------------------------------------------------------------------------------------------------------------------------------------------------------------------------------------------------------------------------------------------------------------------------------------------------------------------------------------------------------------------------------------------------------------------------------------------------------------------------------------------------------------------------------------------------------------------------------------------------------------------------------------------------------------------------------------------------------------------------------------------------------------------------------------------------------------------------------------------------------------------------------------------------------------------------------------------------------------------------------------------------------------------------------------------------------------------------------------------------------------------------------------------------------------------------------------------------------------------------------------------------------------------------------------------------------------------------------------------------------------------------------------------------------------------------------------------------------------------------------------------------------------------------------------------------------------------------------------------------------------------------------------------------------------------------------------------------------------------------------------------------------------------------------------------------------------------------------------------------------------------------------------------------------------------------------------------------------------------------------------------------------------------------------------------------------------------------------------------------------------------------------------------------------------------------------------------------------------------------------------------------------------------------------------------------------------------------------------------------------------------------------------------------------------------------------------------------------------------------------------------------------------------------------------------------------------------------------------------------------------------------------------------------------------------------------------------------------------------------------------------------------------------------------------------------------------------------------------------------------------------------------------------------------------------------------------------------------------------------------------------------------------------------------------------------------------------------------------------------------------------------------------------------------------------------------------------------------------------------------------------------------------------------------------------------------------------------------------------------------------------------------------------------------------------------------------------------------------------------------------------------------------------------------------------------------------------------------------------------------------------------------------------------------------------------------------------------------------------------------------------------------------------------------------------------------------------------------------------------------------------------------------------------------------------------------------------------------------------------------------------------------------------------------------------------------------------------------------------------------------------------------------------------------------------------------------------------------------------------------------------------------------------------------------------------------------------------------------------------------------------------------------------------------------------------------------------------------------------------------------------------------------------------------------------------------------------------------------------------------------------------------------------------------------------------------------------------------------------------------------------------------------------------------------------------------------------------------------------------------------------------------------------------------------------------------------------------------------------------------------------------------------------------------------------------------------------------------------------------------------------------------------------------------------------------------------------------------------------------------------------------------------------------------------------------------------------------------------------------------------------------------------------------------------------------------------------------------------------------------------------------------------------------------------------------------------------------------------------------------------------------------------------------------------------------------------------------------------------------------------------------------------------------------------------------------------------------------------------------------------------------------------------------------------------------------------------------------------------------------------------------------------------------------------------------------------------------------------------------------------------------------------------------------------------------------------------------------------------------------------------------------------------------------------------------------------------------------------------------------------------------------------------------------------------------------------------------------------------------------------------------------------------------------------------------------------------------------------------------------------------------------------------------------------------------------------------------------------------------------------------------------------------------------------------------------------------------------------------------------------------------------------------------------------------------------------------------------------------------------------------------------------------------------------------------------------------------------------------------------------------------------------------------------------------------------------------------------------------------------------------------------------------------------------------------------------------------------------------------------------------------------------------------------------------------------------------------------------------------------------------------------------------------------------------------------------------------------------------------------------------------------------------------------------------------------------------------------------------------------------------------------------------------------------------------------------------------------------------------------------------------------------------------------------------------------------------------------------------------------------------------------------------------------------------------------------------------------------------------------------------------------------------------------------------------------------------------------------------------------------------------------------------------------------------------------------------------------------------------------------------------------------------------------------------------------------------------------------------------------------------------------------------------------------------------------------------------------------------------------------------------------------------------------------------------------------------------------------------------------------------------------------------------------------------------------------------------------------------------------------------------------------------------------------------------------------------------------------------------------------------------------------------------------------------------------------------------------------------------------------------------------------------------------------------------------------------------------------------------------------------------------------------------------------------------------------------------------------------------------------------------------------------------------------------------------------------------------------------------------------------------------------------------------------------------------------------------------------------------------------------------------------------------------------------------------------------------------------------------------------------------------------------------------------------------------------------------------------------------------------------------------------------------------------------------------------------------------------------------------------------------------------------------------------------------------------------------------------------------------------------------------------------------------------------------------------------------------------------------------------------------------------------------------------------------------------------------------------------------------------------------------------------------------------------------------------------------------------------------------------------------------------------------------------------------------------------------------------------------------------------------------------------------------------------------------------------------------------------------------------------------------------------------------------------------------------------------------------------------------------------------------------------------------------------------------------------------------------------------------------------------------------------------------------------------------------------------------------------------------------------------------------------------------------------------------------------------------------------------------------------------------------------------------------------------------------------------------------------------------------------------------------------------------------------------------------------------------------------------------------------------------------------------------------------------------------------------------------------------------------------------------------------------------------------------------------------------------------------------------------------------------------------------------------------------------------------------------------------------------------------------------------------------------------------------------------------------------------------------------------------------------------------------------------------------------------------------------------------------------------------------------------------------------------------------------------------------------------------------------------------------------------------------------------------------------------------------------------------------------------------------------------------------------------------------------------------------------------------------------------------------------------------------------------------------------------------------------------------------------------------------------------------------------------------------------------------------------------------------------------------------------------------------------------------------------------------------------------------------------------------------------------------------------------------------------------------------------------------------------------------------------------------------------------------------------------------------------------------------------------------------------------------------------------------------------------------------------------------------------------------------------------------------------------------------------------------------------------------------------------------------------------------------------------------------------------------------------------------------------------------------------------------------------------------------------------------------------------------------------------------------------------------------------------------------------------------------------------------------------------------------------------------------------------------------------------------------------------------------------------------------------------------------------------------------------------------------------------------------------------------------------------------------------------------------------------------------------------------------------------------------------------------------------------------------------------------------------------------------------------------------------------------------------------------------------------------------------------------------------------------------------------------------------------------------------------------------------------------------------------------------------------------------------------------------------------------------------------------------------------------------------------------------------------------------------------------------------------------------------------------------------------------------------------------------------------------------------------------------------------------------------------------------------------------------------------------------------------------------------------------------------------------------------------------------------------------------------------------------------------------------------------------------------------------------------------------------------------------------------------------------------------------------------------------------------------------------------------------------------------------------------------------------------------------------------------------------------------------------------------------------------------------------------------------------------------------------------------------------------------------------------------------------------------------------------------------------------------------------------------------------------------------------------------------------------------------------------"
   ]
  },
  {
   "cell_type": "code",
   "execution_count": 237,
   "metadata": {},
   "outputs": [
    {
     "data": {
      "text/html": [
       "<div>\n",
       "<style scoped>\n",
       "    .dataframe tbody tr th:only-of-type {\n",
       "        vertical-align: middle;\n",
       "    }\n",
       "\n",
       "    .dataframe tbody tr th {\n",
       "        vertical-align: top;\n",
       "    }\n",
       "\n",
       "    .dataframe thead th {\n",
       "        text-align: right;\n",
       "    }\n",
       "</style>\n",
       "<table border=\"1\" class=\"dataframe\">\n",
       "  <thead>\n",
       "    <tr style=\"text-align: right;\">\n",
       "      <th></th>\n",
       "      <th>Genre</th>\n",
       "      <th>MovieName</th>\n",
       "      <th>Overview</th>\n",
       "      <th>User_ID</th>\n",
       "      <th>Reviews</th>\n",
       "      <th>Ratings</th>\n",
       "      <th>Movie_ID</th>\n",
       "      <th>preprocess_txt</th>\n",
       "      <th>total_len</th>\n",
       "      <th>pos_count</th>\n",
       "      <th>neg_count</th>\n",
       "      <th>sentiment</th>\n",
       "      <th>Sentiment_Ratings</th>\n",
       "      <th>preprocessed_review</th>\n",
       "    </tr>\n",
       "  </thead>\n",
       "  <tbody>\n",
       "    <tr>\n",
       "      <th>0</th>\n",
       "      <td>Action</td>\n",
       "      <td>The Shawshank Redemption</td>\n",
       "      <td>Chronicles the experiences of a formerly succe...</td>\n",
       "      <td>100.0</td>\n",
       "      <td>The Shawshank Redemption holds the Number  spo...</td>\n",
       "      <td>10</td>\n",
       "      <td>1</td>\n",
       "      <td>[shawshank, redemption, hold, number, spot, to...</td>\n",
       "      <td>274</td>\n",
       "      <td>45</td>\n",
       "      <td>12</td>\n",
       "      <td>0.12</td>\n",
       "      <td>2</td>\n",
       "      <td>Shawshank Redemption hold number   spot Top- E...</td>\n",
       "    </tr>\n",
       "    <tr>\n",
       "      <th>1</th>\n",
       "      <td>Action</td>\n",
       "      <td>The Shawshank Redemption</td>\n",
       "      <td>Chronicles the experiences of a formerly succe...</td>\n",
       "      <td>101.0</td>\n",
       "      <td>However delightful as it is The Shawshank Rede...</td>\n",
       "      <td>10</td>\n",
       "      <td>1</td>\n",
       "      <td>[however, delightful, shawshank, redemption, a...</td>\n",
       "      <td>303</td>\n",
       "      <td>45</td>\n",
       "      <td>23</td>\n",
       "      <td>0.07</td>\n",
       "      <td>2</td>\n",
       "      <td>delightful Shawshank Redemption allegory state...</td>\n",
       "    </tr>\n",
       "    <tr>\n",
       "      <th>2</th>\n",
       "      <td>Action</td>\n",
       "      <td>The Shawshank Redemption</td>\n",
       "      <td>Chronicles the experiences of a formerly succe...</td>\n",
       "      <td>102.0</td>\n",
       "      <td>However delightful as it is The Shawshank Rede...</td>\n",
       "      <td>10</td>\n",
       "      <td>1</td>\n",
       "      <td>[however, delightful, shawshank, redemption, a...</td>\n",
       "      <td>303</td>\n",
       "      <td>45</td>\n",
       "      <td>23</td>\n",
       "      <td>0.07</td>\n",
       "      <td>2</td>\n",
       "      <td>delightful Shawshank Redemption allegory state...</td>\n",
       "    </tr>\n",
       "    <tr>\n",
       "      <th>3</th>\n",
       "      <td>Action</td>\n",
       "      <td>The Shawshank Redemption</td>\n",
       "      <td>Chronicles the experiences of a formerly succe...</td>\n",
       "      <td>103.0</td>\n",
       "      <td>\"The Shawshank Redemption\" is a cinematic gem ...</td>\n",
       "      <td>10</td>\n",
       "      <td>1</td>\n",
       "      <td>[shawshank, redemption, cinematic, gem, transc...</td>\n",
       "      <td>229</td>\n",
       "      <td>31</td>\n",
       "      <td>10</td>\n",
       "      <td>0.09</td>\n",
       "      <td>2</td>\n",
       "      <td>Shawshank Redemption cinematic gem transcend b...</td>\n",
       "    </tr>\n",
       "    <tr>\n",
       "      <th>4</th>\n",
       "      <td>Action</td>\n",
       "      <td>The Shawshank Redemption</td>\n",
       "      <td>Chronicles the experiences of a formerly succe...</td>\n",
       "      <td>104.0</td>\n",
       "      <td>\"Hope is a good thing probably best of all  go...</td>\n",
       "      <td>10</td>\n",
       "      <td>1</td>\n",
       "      <td>[hope, good, thing, probably, best, good, thin...</td>\n",
       "      <td>160</td>\n",
       "      <td>18</td>\n",
       "      <td>18</td>\n",
       "      <td>0.00</td>\n",
       "      <td>1</td>\n",
       "      <td>Hope good thing probably good   good thing die...</td>\n",
       "    </tr>\n",
       "  </tbody>\n",
       "</table>\n",
       "</div>"
      ],
      "text/plain": [
       "    Genre                 MovieName  \\\n",
       "0  Action  The Shawshank Redemption   \n",
       "1  Action  The Shawshank Redemption   \n",
       "2  Action  The Shawshank Redemption   \n",
       "3  Action  The Shawshank Redemption   \n",
       "4  Action  The Shawshank Redemption   \n",
       "\n",
       "                                            Overview  User_ID  \\\n",
       "0  Chronicles the experiences of a formerly succe...    100.0   \n",
       "1  Chronicles the experiences of a formerly succe...    101.0   \n",
       "2  Chronicles the experiences of a formerly succe...    102.0   \n",
       "3  Chronicles the experiences of a formerly succe...    103.0   \n",
       "4  Chronicles the experiences of a formerly succe...    104.0   \n",
       "\n",
       "                                             Reviews Ratings  Movie_ID  \\\n",
       "0  The Shawshank Redemption holds the Number  spo...      10         1   \n",
       "1  However delightful as it is The Shawshank Rede...      10         1   \n",
       "2  However delightful as it is The Shawshank Rede...      10         1   \n",
       "3  \"The Shawshank Redemption\" is a cinematic gem ...      10         1   \n",
       "4  \"Hope is a good thing probably best of all  go...      10         1   \n",
       "\n",
       "                                      preprocess_txt  total_len  pos_count  \\\n",
       "0  [shawshank, redemption, hold, number, spot, to...        274         45   \n",
       "1  [however, delightful, shawshank, redemption, a...        303         45   \n",
       "2  [however, delightful, shawshank, redemption, a...        303         45   \n",
       "3  [shawshank, redemption, cinematic, gem, transc...        229         31   \n",
       "4  [hope, good, thing, probably, best, good, thin...        160         18   \n",
       "\n",
       "   neg_count  sentiment  Sentiment_Ratings  \\\n",
       "0         12       0.12                  2   \n",
       "1         23       0.07                  2   \n",
       "2         23       0.07                  2   \n",
       "3         10       0.09                  2   \n",
       "4         18       0.00                  1   \n",
       "\n",
       "                                 preprocessed_review  \n",
       "0  Shawshank Redemption hold number   spot Top- E...  \n",
       "1  delightful Shawshank Redemption allegory state...  \n",
       "2  delightful Shawshank Redemption allegory state...  \n",
       "3  Shawshank Redemption cinematic gem transcend b...  \n",
       "4  Hope good thing probably good   good thing die...  "
      ]
     },
     "execution_count": 237,
     "metadata": {},
     "output_type": "execute_result"
    }
   ],
   "source": [
    "df.head()"
   ]
  },
  {
   "cell_type": "code",
   "execution_count": 238,
   "metadata": {},
   "outputs": [],
   "source": [
    "df = df.drop(columns= ['preprocessed_review'])"
   ]
  },
  {
   "cell_type": "code",
   "execution_count": 239,
   "metadata": {},
   "outputs": [
    {
     "data": {
      "text/plain": [
       "Genre                0\n",
       "MovieName            0\n",
       "Overview             0\n",
       "User_ID              0\n",
       "Reviews              0\n",
       "Ratings              0\n",
       "Movie_ID             0\n",
       "preprocess_txt       0\n",
       "total_len            0\n",
       "pos_count            0\n",
       "neg_count            0\n",
       "sentiment            0\n",
       "Sentiment_Ratings    0\n",
       "dtype: int64"
      ]
     },
     "execution_count": 239,
     "metadata": {},
     "output_type": "execute_result"
    }
   ],
   "source": [
    "df.isnull().sum()"
   ]
  },
  {
   "cell_type": "code",
   "execution_count": 240,
   "metadata": {},
   "outputs": [
    {
     "data": {
      "text/plain": [
       "\"Chronicles the experiences of a formerly successful banker as a prisoner in the gloomy jailhouse of Shawshank after being found guilty of a crime he did not commit. The film portrays the man's unique way of dealing with his new, torturous life; along the way he befriends a number of fellow prisoners, most notably a wise long-term inmate named Red.\""
      ]
     },
     "execution_count": 240,
     "metadata": {},
     "output_type": "execute_result"
    }
   ],
   "source": [
    "df['Overview'][0]"
   ]
  },
  {
   "cell_type": "code",
   "execution_count": 241,
   "metadata": {},
   "outputs": [],
   "source": [
    "df['Overview']= df['Overview'].apply(lambda x:x.split())"
   ]
  },
  {
   "cell_type": "code",
   "execution_count": 242,
   "metadata": {},
   "outputs": [],
   "source": [
    "df['Genre']= df['Genre'].apply(lambda x:x.split())"
   ]
  },
  {
   "cell_type": "code",
   "execution_count": 243,
   "metadata": {},
   "outputs": [
    {
     "data": {
      "text/html": [
       "<div>\n",
       "<style scoped>\n",
       "    .dataframe tbody tr th:only-of-type {\n",
       "        vertical-align: middle;\n",
       "    }\n",
       "\n",
       "    .dataframe tbody tr th {\n",
       "        vertical-align: top;\n",
       "    }\n",
       "\n",
       "    .dataframe thead th {\n",
       "        text-align: right;\n",
       "    }\n",
       "</style>\n",
       "<table border=\"1\" class=\"dataframe\">\n",
       "  <thead>\n",
       "    <tr style=\"text-align: right;\">\n",
       "      <th></th>\n",
       "      <th>Genre</th>\n",
       "      <th>MovieName</th>\n",
       "      <th>Overview</th>\n",
       "      <th>User_ID</th>\n",
       "      <th>Reviews</th>\n",
       "      <th>Ratings</th>\n",
       "      <th>Movie_ID</th>\n",
       "      <th>preprocess_txt</th>\n",
       "      <th>total_len</th>\n",
       "      <th>pos_count</th>\n",
       "      <th>neg_count</th>\n",
       "      <th>sentiment</th>\n",
       "      <th>Sentiment_Ratings</th>\n",
       "    </tr>\n",
       "  </thead>\n",
       "  <tbody>\n",
       "    <tr>\n",
       "      <th>0</th>\n",
       "      <td>[Action]</td>\n",
       "      <td>The Shawshank Redemption</td>\n",
       "      <td>[Chronicles, the, experiences, of, a, formerly...</td>\n",
       "      <td>100.0</td>\n",
       "      <td>The Shawshank Redemption holds the Number  spo...</td>\n",
       "      <td>10</td>\n",
       "      <td>1</td>\n",
       "      <td>[shawshank, redemption, hold, number, spot, to...</td>\n",
       "      <td>274</td>\n",
       "      <td>45</td>\n",
       "      <td>12</td>\n",
       "      <td>0.12</td>\n",
       "      <td>2</td>\n",
       "    </tr>\n",
       "    <tr>\n",
       "      <th>1</th>\n",
       "      <td>[Action]</td>\n",
       "      <td>The Shawshank Redemption</td>\n",
       "      <td>[Chronicles, the, experiences, of, a, formerly...</td>\n",
       "      <td>101.0</td>\n",
       "      <td>However delightful as it is The Shawshank Rede...</td>\n",
       "      <td>10</td>\n",
       "      <td>1</td>\n",
       "      <td>[however, delightful, shawshank, redemption, a...</td>\n",
       "      <td>303</td>\n",
       "      <td>45</td>\n",
       "      <td>23</td>\n",
       "      <td>0.07</td>\n",
       "      <td>2</td>\n",
       "    </tr>\n",
       "    <tr>\n",
       "      <th>2</th>\n",
       "      <td>[Action]</td>\n",
       "      <td>The Shawshank Redemption</td>\n",
       "      <td>[Chronicles, the, experiences, of, a, formerly...</td>\n",
       "      <td>102.0</td>\n",
       "      <td>However delightful as it is The Shawshank Rede...</td>\n",
       "      <td>10</td>\n",
       "      <td>1</td>\n",
       "      <td>[however, delightful, shawshank, redemption, a...</td>\n",
       "      <td>303</td>\n",
       "      <td>45</td>\n",
       "      <td>23</td>\n",
       "      <td>0.07</td>\n",
       "      <td>2</td>\n",
       "    </tr>\n",
       "    <tr>\n",
       "      <th>3</th>\n",
       "      <td>[Action]</td>\n",
       "      <td>The Shawshank Redemption</td>\n",
       "      <td>[Chronicles, the, experiences, of, a, formerly...</td>\n",
       "      <td>103.0</td>\n",
       "      <td>\"The Shawshank Redemption\" is a cinematic gem ...</td>\n",
       "      <td>10</td>\n",
       "      <td>1</td>\n",
       "      <td>[shawshank, redemption, cinematic, gem, transc...</td>\n",
       "      <td>229</td>\n",
       "      <td>31</td>\n",
       "      <td>10</td>\n",
       "      <td>0.09</td>\n",
       "      <td>2</td>\n",
       "    </tr>\n",
       "    <tr>\n",
       "      <th>4</th>\n",
       "      <td>[Action]</td>\n",
       "      <td>The Shawshank Redemption</td>\n",
       "      <td>[Chronicles, the, experiences, of, a, formerly...</td>\n",
       "      <td>104.0</td>\n",
       "      <td>\"Hope is a good thing probably best of all  go...</td>\n",
       "      <td>10</td>\n",
       "      <td>1</td>\n",
       "      <td>[hope, good, thing, probably, best, good, thin...</td>\n",
       "      <td>160</td>\n",
       "      <td>18</td>\n",
       "      <td>18</td>\n",
       "      <td>0.00</td>\n",
       "      <td>1</td>\n",
       "    </tr>\n",
       "  </tbody>\n",
       "</table>\n",
       "</div>"
      ],
      "text/plain": [
       "      Genre                 MovieName  \\\n",
       "0  [Action]  The Shawshank Redemption   \n",
       "1  [Action]  The Shawshank Redemption   \n",
       "2  [Action]  The Shawshank Redemption   \n",
       "3  [Action]  The Shawshank Redemption   \n",
       "4  [Action]  The Shawshank Redemption   \n",
       "\n",
       "                                            Overview  User_ID  \\\n",
       "0  [Chronicles, the, experiences, of, a, formerly...    100.0   \n",
       "1  [Chronicles, the, experiences, of, a, formerly...    101.0   \n",
       "2  [Chronicles, the, experiences, of, a, formerly...    102.0   \n",
       "3  [Chronicles, the, experiences, of, a, formerly...    103.0   \n",
       "4  [Chronicles, the, experiences, of, a, formerly...    104.0   \n",
       "\n",
       "                                             Reviews Ratings  Movie_ID  \\\n",
       "0  The Shawshank Redemption holds the Number  spo...      10         1   \n",
       "1  However delightful as it is The Shawshank Rede...      10         1   \n",
       "2  However delightful as it is The Shawshank Rede...      10         1   \n",
       "3  \"The Shawshank Redemption\" is a cinematic gem ...      10         1   \n",
       "4  \"Hope is a good thing probably best of all  go...      10         1   \n",
       "\n",
       "                                      preprocess_txt  total_len  pos_count  \\\n",
       "0  [shawshank, redemption, hold, number, spot, to...        274         45   \n",
       "1  [however, delightful, shawshank, redemption, a...        303         45   \n",
       "2  [however, delightful, shawshank, redemption, a...        303         45   \n",
       "3  [shawshank, redemption, cinematic, gem, transc...        229         31   \n",
       "4  [hope, good, thing, probably, best, good, thin...        160         18   \n",
       "\n",
       "   neg_count  sentiment  Sentiment_Ratings  \n",
       "0         12       0.12                  2  \n",
       "1         23       0.07                  2  \n",
       "2         23       0.07                  2  \n",
       "3         10       0.09                  2  \n",
       "4         18       0.00                  1  "
      ]
     },
     "execution_count": 243,
     "metadata": {},
     "output_type": "execute_result"
    }
   ],
   "source": [
    "df.head()"
   ]
  },
  {
   "cell_type": "code",
   "execution_count": 244,
   "metadata": {},
   "outputs": [
    {
     "name": "stdout",
     "output_type": "stream",
     "text": [
      "<class 'pandas.core.frame.DataFrame'>\n",
      "Index: 3918 entries, 0 to 3979\n",
      "Data columns (total 13 columns):\n",
      " #   Column             Non-Null Count  Dtype  \n",
      "---  ------             --------------  -----  \n",
      " 0   Genre              3918 non-null   object \n",
      " 1   MovieName          3918 non-null   object \n",
      " 2   Overview           3918 non-null   object \n",
      " 3   User_ID            3918 non-null   float64\n",
      " 4   Reviews            3918 non-null   object \n",
      " 5   Ratings            3918 non-null   object \n",
      " 6   Movie_ID           3918 non-null   int64  \n",
      " 7   preprocess_txt     3918 non-null   object \n",
      " 8   total_len          3918 non-null   int64  \n",
      " 9   pos_count          3918 non-null   int64  \n",
      " 10  neg_count          3918 non-null   int64  \n",
      " 11  sentiment          3918 non-null   float64\n",
      " 12  Sentiment_Ratings  3918 non-null   int32  \n",
      "dtypes: float64(2), int32(1), int64(4), object(6)\n",
      "memory usage: 542.3+ KB\n"
     ]
    }
   ],
   "source": [
    "df.info()"
   ]
  },
  {
   "cell_type": "code",
   "execution_count": 245,
   "metadata": {},
   "outputs": [
    {
     "data": {
      "text/html": [
       "<div>\n",
       "<style scoped>\n",
       "    .dataframe tbody tr th:only-of-type {\n",
       "        vertical-align: middle;\n",
       "    }\n",
       "\n",
       "    .dataframe tbody tr th {\n",
       "        vertical-align: top;\n",
       "    }\n",
       "\n",
       "    .dataframe thead th {\n",
       "        text-align: right;\n",
       "    }\n",
       "</style>\n",
       "<table border=\"1\" class=\"dataframe\">\n",
       "  <thead>\n",
       "    <tr style=\"text-align: right;\">\n",
       "      <th></th>\n",
       "      <th>Genre</th>\n",
       "      <th>MovieName</th>\n",
       "      <th>Overview</th>\n",
       "      <th>User_ID</th>\n",
       "      <th>Reviews</th>\n",
       "      <th>Ratings</th>\n",
       "      <th>Movie_ID</th>\n",
       "      <th>preprocess_txt</th>\n",
       "      <th>total_len</th>\n",
       "      <th>pos_count</th>\n",
       "      <th>neg_count</th>\n",
       "      <th>sentiment</th>\n",
       "      <th>Sentiment_Ratings</th>\n",
       "    </tr>\n",
       "  </thead>\n",
       "  <tbody>\n",
       "    <tr>\n",
       "      <th>0</th>\n",
       "      <td>[Action]</td>\n",
       "      <td>The Shawshank Redemption</td>\n",
       "      <td>[Chronicles, the, experiences, of, a, formerly...</td>\n",
       "      <td>100</td>\n",
       "      <td>The Shawshank Redemption holds the Number  spo...</td>\n",
       "      <td>10</td>\n",
       "      <td>1</td>\n",
       "      <td>[shawshank, redemption, hold, number, spot, to...</td>\n",
       "      <td>274</td>\n",
       "      <td>45</td>\n",
       "      <td>12</td>\n",
       "      <td>0.12</td>\n",
       "      <td>2</td>\n",
       "    </tr>\n",
       "    <tr>\n",
       "      <th>1</th>\n",
       "      <td>[Action]</td>\n",
       "      <td>The Shawshank Redemption</td>\n",
       "      <td>[Chronicles, the, experiences, of, a, formerly...</td>\n",
       "      <td>101</td>\n",
       "      <td>However delightful as it is The Shawshank Rede...</td>\n",
       "      <td>10</td>\n",
       "      <td>1</td>\n",
       "      <td>[however, delightful, shawshank, redemption, a...</td>\n",
       "      <td>303</td>\n",
       "      <td>45</td>\n",
       "      <td>23</td>\n",
       "      <td>0.07</td>\n",
       "      <td>2</td>\n",
       "    </tr>\n",
       "    <tr>\n",
       "      <th>2</th>\n",
       "      <td>[Action]</td>\n",
       "      <td>The Shawshank Redemption</td>\n",
       "      <td>[Chronicles, the, experiences, of, a, formerly...</td>\n",
       "      <td>102</td>\n",
       "      <td>However delightful as it is The Shawshank Rede...</td>\n",
       "      <td>10</td>\n",
       "      <td>1</td>\n",
       "      <td>[however, delightful, shawshank, redemption, a...</td>\n",
       "      <td>303</td>\n",
       "      <td>45</td>\n",
       "      <td>23</td>\n",
       "      <td>0.07</td>\n",
       "      <td>2</td>\n",
       "    </tr>\n",
       "    <tr>\n",
       "      <th>3</th>\n",
       "      <td>[Action]</td>\n",
       "      <td>The Shawshank Redemption</td>\n",
       "      <td>[Chronicles, the, experiences, of, a, formerly...</td>\n",
       "      <td>103</td>\n",
       "      <td>\"The Shawshank Redemption\" is a cinematic gem ...</td>\n",
       "      <td>10</td>\n",
       "      <td>1</td>\n",
       "      <td>[shawshank, redemption, cinematic, gem, transc...</td>\n",
       "      <td>229</td>\n",
       "      <td>31</td>\n",
       "      <td>10</td>\n",
       "      <td>0.09</td>\n",
       "      <td>2</td>\n",
       "    </tr>\n",
       "    <tr>\n",
       "      <th>4</th>\n",
       "      <td>[Action]</td>\n",
       "      <td>The Shawshank Redemption</td>\n",
       "      <td>[Chronicles, the, experiences, of, a, formerly...</td>\n",
       "      <td>104</td>\n",
       "      <td>\"Hope is a good thing probably best of all  go...</td>\n",
       "      <td>10</td>\n",
       "      <td>1</td>\n",
       "      <td>[hope, good, thing, probably, best, good, thin...</td>\n",
       "      <td>160</td>\n",
       "      <td>18</td>\n",
       "      <td>18</td>\n",
       "      <td>0.00</td>\n",
       "      <td>1</td>\n",
       "    </tr>\n",
       "  </tbody>\n",
       "</table>\n",
       "</div>"
      ],
      "text/plain": [
       "      Genre                 MovieName  \\\n",
       "0  [Action]  The Shawshank Redemption   \n",
       "1  [Action]  The Shawshank Redemption   \n",
       "2  [Action]  The Shawshank Redemption   \n",
       "3  [Action]  The Shawshank Redemption   \n",
       "4  [Action]  The Shawshank Redemption   \n",
       "\n",
       "                                            Overview  User_ID  \\\n",
       "0  [Chronicles, the, experiences, of, a, formerly...      100   \n",
       "1  [Chronicles, the, experiences, of, a, formerly...      101   \n",
       "2  [Chronicles, the, experiences, of, a, formerly...      102   \n",
       "3  [Chronicles, the, experiences, of, a, formerly...      103   \n",
       "4  [Chronicles, the, experiences, of, a, formerly...      104   \n",
       "\n",
       "                                             Reviews Ratings  Movie_ID  \\\n",
       "0  The Shawshank Redemption holds the Number  spo...      10         1   \n",
       "1  However delightful as it is The Shawshank Rede...      10         1   \n",
       "2  However delightful as it is The Shawshank Rede...      10         1   \n",
       "3  \"The Shawshank Redemption\" is a cinematic gem ...      10         1   \n",
       "4  \"Hope is a good thing probably best of all  go...      10         1   \n",
       "\n",
       "                                      preprocess_txt  total_len  pos_count  \\\n",
       "0  [shawshank, redemption, hold, number, spot, to...        274         45   \n",
       "1  [however, delightful, shawshank, redemption, a...        303         45   \n",
       "2  [however, delightful, shawshank, redemption, a...        303         45   \n",
       "3  [shawshank, redemption, cinematic, gem, transc...        229         31   \n",
       "4  [hope, good, thing, probably, best, good, thin...        160         18   \n",
       "\n",
       "   neg_count  sentiment  Sentiment_Ratings  \n",
       "0         12       0.12                  2  \n",
       "1         23       0.07                  2  \n",
       "2         23       0.07                  2  \n",
       "3         10       0.09                  2  \n",
       "4         18       0.00                  1  "
      ]
     },
     "execution_count": 245,
     "metadata": {},
     "output_type": "execute_result"
    }
   ],
   "source": [
    "df['User_ID']= df['User_ID'].astype(int)\n",
    "df.head()"
   ]
  },
  {
   "cell_type": "code",
   "execution_count": 246,
   "metadata": {},
   "outputs": [],
   "source": [
    "df['Tags'] = df['Overview']+df['Genre']"
   ]
  },
  {
   "cell_type": "code",
   "execution_count": 247,
   "metadata": {},
   "outputs": [
    {
     "data": {
      "text/html": [
       "<div>\n",
       "<style scoped>\n",
       "    .dataframe tbody tr th:only-of-type {\n",
       "        vertical-align: middle;\n",
       "    }\n",
       "\n",
       "    .dataframe tbody tr th {\n",
       "        vertical-align: top;\n",
       "    }\n",
       "\n",
       "    .dataframe thead th {\n",
       "        text-align: right;\n",
       "    }\n",
       "</style>\n",
       "<table border=\"1\" class=\"dataframe\">\n",
       "  <thead>\n",
       "    <tr style=\"text-align: right;\">\n",
       "      <th></th>\n",
       "      <th>Genre</th>\n",
       "      <th>MovieName</th>\n",
       "      <th>Overview</th>\n",
       "      <th>User_ID</th>\n",
       "      <th>Reviews</th>\n",
       "      <th>Ratings</th>\n",
       "      <th>Movie_ID</th>\n",
       "      <th>preprocess_txt</th>\n",
       "      <th>total_len</th>\n",
       "      <th>pos_count</th>\n",
       "      <th>neg_count</th>\n",
       "      <th>sentiment</th>\n",
       "      <th>Sentiment_Ratings</th>\n",
       "      <th>Tags</th>\n",
       "    </tr>\n",
       "  </thead>\n",
       "  <tbody>\n",
       "    <tr>\n",
       "      <th>0</th>\n",
       "      <td>[Action]</td>\n",
       "      <td>The Shawshank Redemption</td>\n",
       "      <td>[Chronicles, the, experiences, of, a, formerly...</td>\n",
       "      <td>100</td>\n",
       "      <td>The Shawshank Redemption holds the Number  spo...</td>\n",
       "      <td>10</td>\n",
       "      <td>1</td>\n",
       "      <td>[shawshank, redemption, hold, number, spot, to...</td>\n",
       "      <td>274</td>\n",
       "      <td>45</td>\n",
       "      <td>12</td>\n",
       "      <td>0.12</td>\n",
       "      <td>2</td>\n",
       "      <td>[Chronicles, the, experiences, of, a, formerly...</td>\n",
       "    </tr>\n",
       "    <tr>\n",
       "      <th>1</th>\n",
       "      <td>[Action]</td>\n",
       "      <td>The Shawshank Redemption</td>\n",
       "      <td>[Chronicles, the, experiences, of, a, formerly...</td>\n",
       "      <td>101</td>\n",
       "      <td>However delightful as it is The Shawshank Rede...</td>\n",
       "      <td>10</td>\n",
       "      <td>1</td>\n",
       "      <td>[however, delightful, shawshank, redemption, a...</td>\n",
       "      <td>303</td>\n",
       "      <td>45</td>\n",
       "      <td>23</td>\n",
       "      <td>0.07</td>\n",
       "      <td>2</td>\n",
       "      <td>[Chronicles, the, experiences, of, a, formerly...</td>\n",
       "    </tr>\n",
       "    <tr>\n",
       "      <th>2</th>\n",
       "      <td>[Action]</td>\n",
       "      <td>The Shawshank Redemption</td>\n",
       "      <td>[Chronicles, the, experiences, of, a, formerly...</td>\n",
       "      <td>102</td>\n",
       "      <td>However delightful as it is The Shawshank Rede...</td>\n",
       "      <td>10</td>\n",
       "      <td>1</td>\n",
       "      <td>[however, delightful, shawshank, redemption, a...</td>\n",
       "      <td>303</td>\n",
       "      <td>45</td>\n",
       "      <td>23</td>\n",
       "      <td>0.07</td>\n",
       "      <td>2</td>\n",
       "      <td>[Chronicles, the, experiences, of, a, formerly...</td>\n",
       "    </tr>\n",
       "    <tr>\n",
       "      <th>3</th>\n",
       "      <td>[Action]</td>\n",
       "      <td>The Shawshank Redemption</td>\n",
       "      <td>[Chronicles, the, experiences, of, a, formerly...</td>\n",
       "      <td>103</td>\n",
       "      <td>\"The Shawshank Redemption\" is a cinematic gem ...</td>\n",
       "      <td>10</td>\n",
       "      <td>1</td>\n",
       "      <td>[shawshank, redemption, cinematic, gem, transc...</td>\n",
       "      <td>229</td>\n",
       "      <td>31</td>\n",
       "      <td>10</td>\n",
       "      <td>0.09</td>\n",
       "      <td>2</td>\n",
       "      <td>[Chronicles, the, experiences, of, a, formerly...</td>\n",
       "    </tr>\n",
       "    <tr>\n",
       "      <th>4</th>\n",
       "      <td>[Action]</td>\n",
       "      <td>The Shawshank Redemption</td>\n",
       "      <td>[Chronicles, the, experiences, of, a, formerly...</td>\n",
       "      <td>104</td>\n",
       "      <td>\"Hope is a good thing probably best of all  go...</td>\n",
       "      <td>10</td>\n",
       "      <td>1</td>\n",
       "      <td>[hope, good, thing, probably, best, good, thin...</td>\n",
       "      <td>160</td>\n",
       "      <td>18</td>\n",
       "      <td>18</td>\n",
       "      <td>0.00</td>\n",
       "      <td>1</td>\n",
       "      <td>[Chronicles, the, experiences, of, a, formerly...</td>\n",
       "    </tr>\n",
       "  </tbody>\n",
       "</table>\n",
       "</div>"
      ],
      "text/plain": [
       "      Genre                 MovieName  \\\n",
       "0  [Action]  The Shawshank Redemption   \n",
       "1  [Action]  The Shawshank Redemption   \n",
       "2  [Action]  The Shawshank Redemption   \n",
       "3  [Action]  The Shawshank Redemption   \n",
       "4  [Action]  The Shawshank Redemption   \n",
       "\n",
       "                                            Overview  User_ID  \\\n",
       "0  [Chronicles, the, experiences, of, a, formerly...      100   \n",
       "1  [Chronicles, the, experiences, of, a, formerly...      101   \n",
       "2  [Chronicles, the, experiences, of, a, formerly...      102   \n",
       "3  [Chronicles, the, experiences, of, a, formerly...      103   \n",
       "4  [Chronicles, the, experiences, of, a, formerly...      104   \n",
       "\n",
       "                                             Reviews Ratings  Movie_ID  \\\n",
       "0  The Shawshank Redemption holds the Number  spo...      10         1   \n",
       "1  However delightful as it is The Shawshank Rede...      10         1   \n",
       "2  However delightful as it is The Shawshank Rede...      10         1   \n",
       "3  \"The Shawshank Redemption\" is a cinematic gem ...      10         1   \n",
       "4  \"Hope is a good thing probably best of all  go...      10         1   \n",
       "\n",
       "                                      preprocess_txt  total_len  pos_count  \\\n",
       "0  [shawshank, redemption, hold, number, spot, to...        274         45   \n",
       "1  [however, delightful, shawshank, redemption, a...        303         45   \n",
       "2  [however, delightful, shawshank, redemption, a...        303         45   \n",
       "3  [shawshank, redemption, cinematic, gem, transc...        229         31   \n",
       "4  [hope, good, thing, probably, best, good, thin...        160         18   \n",
       "\n",
       "   neg_count  sentiment  Sentiment_Ratings  \\\n",
       "0         12       0.12                  2   \n",
       "1         23       0.07                  2   \n",
       "2         23       0.07                  2   \n",
       "3         10       0.09                  2   \n",
       "4         18       0.00                  1   \n",
       "\n",
       "                                                Tags  \n",
       "0  [Chronicles, the, experiences, of, a, formerly...  \n",
       "1  [Chronicles, the, experiences, of, a, formerly...  \n",
       "2  [Chronicles, the, experiences, of, a, formerly...  \n",
       "3  [Chronicles, the, experiences, of, a, formerly...  \n",
       "4  [Chronicles, the, experiences, of, a, formerly...  "
      ]
     },
     "execution_count": 247,
     "metadata": {},
     "output_type": "execute_result"
    }
   ],
   "source": [
    "df.head()"
   ]
  },
  {
   "cell_type": "code",
   "execution_count": 248,
   "metadata": {},
   "outputs": [],
   "source": [
    "new_df = df[['Movie_ID','MovieName','Tags']]"
   ]
  },
  {
   "cell_type": "code",
   "execution_count": 249,
   "metadata": {},
   "outputs": [
    {
     "name": "stderr",
     "output_type": "stream",
     "text": [
      "C:\\Users\\mohit\\AppData\\Local\\Temp\\ipykernel_1100\\1943410771.py:1: SettingWithCopyWarning: \n",
      "A value is trying to be set on a copy of a slice from a DataFrame.\n",
      "Try using .loc[row_indexer,col_indexer] = value instead\n",
      "\n",
      "See the caveats in the documentation: https://pandas.pydata.org/pandas-docs/stable/user_guide/indexing.html#returning-a-view-versus-a-copy\n",
      "  new_df['Tags'] = new_df['Tags'].apply(lambda x:\" \".join(x))\n"
     ]
    }
   ],
   "source": [
    "new_df['Tags'] = new_df['Tags'].apply(lambda x:\" \".join(x))"
   ]
  },
  {
   "cell_type": "code",
   "execution_count": 250,
   "metadata": {},
   "outputs": [
    {
     "data": {
      "text/html": [
       "<div>\n",
       "<style scoped>\n",
       "    .dataframe tbody tr th:only-of-type {\n",
       "        vertical-align: middle;\n",
       "    }\n",
       "\n",
       "    .dataframe tbody tr th {\n",
       "        vertical-align: top;\n",
       "    }\n",
       "\n",
       "    .dataframe thead th {\n",
       "        text-align: right;\n",
       "    }\n",
       "</style>\n",
       "<table border=\"1\" class=\"dataframe\">\n",
       "  <thead>\n",
       "    <tr style=\"text-align: right;\">\n",
       "      <th></th>\n",
       "      <th>Movie_ID</th>\n",
       "      <th>MovieName</th>\n",
       "      <th>Tags</th>\n",
       "    </tr>\n",
       "  </thead>\n",
       "  <tbody>\n",
       "    <tr>\n",
       "      <th>0</th>\n",
       "      <td>1</td>\n",
       "      <td>The Shawshank Redemption</td>\n",
       "      <td>Chronicles the experiences of a formerly succe...</td>\n",
       "    </tr>\n",
       "    <tr>\n",
       "      <th>1</th>\n",
       "      <td>1</td>\n",
       "      <td>The Shawshank Redemption</td>\n",
       "      <td>Chronicles the experiences of a formerly succe...</td>\n",
       "    </tr>\n",
       "    <tr>\n",
       "      <th>2</th>\n",
       "      <td>1</td>\n",
       "      <td>The Shawshank Redemption</td>\n",
       "      <td>Chronicles the experiences of a formerly succe...</td>\n",
       "    </tr>\n",
       "    <tr>\n",
       "      <th>3</th>\n",
       "      <td>1</td>\n",
       "      <td>The Shawshank Redemption</td>\n",
       "      <td>Chronicles the experiences of a formerly succe...</td>\n",
       "    </tr>\n",
       "    <tr>\n",
       "      <th>4</th>\n",
       "      <td>1</td>\n",
       "      <td>The Shawshank Redemption</td>\n",
       "      <td>Chronicles the experiences of a formerly succe...</td>\n",
       "    </tr>\n",
       "  </tbody>\n",
       "</table>\n",
       "</div>"
      ],
      "text/plain": [
       "   Movie_ID                 MovieName  \\\n",
       "0         1  The Shawshank Redemption   \n",
       "1         1  The Shawshank Redemption   \n",
       "2         1  The Shawshank Redemption   \n",
       "3         1  The Shawshank Redemption   \n",
       "4         1  The Shawshank Redemption   \n",
       "\n",
       "                                                Tags  \n",
       "0  Chronicles the experiences of a formerly succe...  \n",
       "1  Chronicles the experiences of a formerly succe...  \n",
       "2  Chronicles the experiences of a formerly succe...  \n",
       "3  Chronicles the experiences of a formerly succe...  \n",
       "4  Chronicles the experiences of a formerly succe...  "
      ]
     },
     "execution_count": 250,
     "metadata": {},
     "output_type": "execute_result"
    }
   ],
   "source": [
    "new_df.head()"
   ]
  },
  {
   "cell_type": "code",
   "execution_count": null,
   "metadata": {},
   "outputs": [],
   "source": []
  },
  {
   "cell_type": "code",
   "execution_count": 251,
   "metadata": {},
   "outputs": [
    {
     "data": {
      "text/plain": [
       "(3918, 3)"
      ]
     },
     "execution_count": 251,
     "metadata": {},
     "output_type": "execute_result"
    }
   ],
   "source": [
    "new_df.shape"
   ]
  },
  {
   "cell_type": "code",
   "execution_count": 252,
   "metadata": {},
   "outputs": [],
   "source": [
    "new_df =  new_df.drop_duplicates()"
   ]
  },
  {
   "cell_type": "code",
   "execution_count": 253,
   "metadata": {},
   "outputs": [],
   "source": [
    "from sklearn.feature_extraction.text import CountVectorizer\n",
    "cv = CountVectorizer(max_features=5000,stop_words='english')"
   ]
  },
  {
   "cell_type": "code",
   "execution_count": 254,
   "metadata": {},
   "outputs": [],
   "source": [
    "vectors = cv.fit_transform(new_df['Tags']).toarray()"
   ]
  },
  {
   "cell_type": "code",
   "execution_count": 255,
   "metadata": {},
   "outputs": [
    {
     "name": "stdout",
     "output_type": "stream",
     "text": [
      "2541\n"
     ]
    }
   ],
   "source": [
    "print(len(cv.get_feature_names_out()))"
   ]
  },
  {
   "cell_type": "code",
   "execution_count": 256,
   "metadata": {},
   "outputs": [],
   "source": [
    "ps = PorterStemmer()"
   ]
  },
  {
   "cell_type": "code",
   "execution_count": 257,
   "metadata": {},
   "outputs": [],
   "source": [
    "def stem(text):\n",
    "    y = []\n",
    "    for i in text.split():\n",
    "        y.append(ps.stem(i))\n",
    "\n",
    "    return \" \".join(y)"
   ]
  },
  {
   "cell_type": "code",
   "execution_count": 258,
   "metadata": {},
   "outputs": [
    {
     "data": {
      "text/plain": [
       "0       chronicl the experi of a formerli success bank...\n",
       "5       set within a year after the event of batman be...\n",
       "21      rahul khanna and anjali sharma were best frien...\n",
       "31      rancho is an engin student. hi two friends. fa...\n",
       "41      after the devast event of avengers: infin war ...\n",
       "                              ...                        \n",
       "3855    dure wwii' crucial battl of the scheldt, the l...\n",
       "3880    in april of 1861, scarlett o'hara is in love w...\n",
       "3905    rafe and daniel, two friends, becom armi pilot...\n",
       "3930    in the backdrop of the us-vietnam war, three f...\n",
       "3955    a secur team consist of six member fight to de...\n",
       "Name: Tags, Length: 174, dtype: object"
      ]
     },
     "execution_count": 258,
     "metadata": {},
     "output_type": "execute_result"
    }
   ],
   "source": [
    "new_df['Tags'].apply(stem)"
   ]
  },
  {
   "cell_type": "code",
   "execution_count": 259,
   "metadata": {},
   "outputs": [],
   "source": [
    "new_df = new_df.reset_index()"
   ]
  },
  {
   "cell_type": "code",
   "execution_count": 260,
   "metadata": {},
   "outputs": [],
   "source": [
    "from sklearn.metrics.pairwise import cosine_similarity "
   ]
  },
  {
   "cell_type": "code",
   "execution_count": 261,
   "metadata": {},
   "outputs": [],
   "source": [
    "similarity = cosine_similarity(vectors)"
   ]
  },
  {
   "cell_type": "code",
   "execution_count": 262,
   "metadata": {},
   "outputs": [
    {
     "data": {
      "text/plain": [
       "(174,)"
      ]
     },
     "execution_count": 262,
     "metadata": {},
     "output_type": "execute_result"
    }
   ],
   "source": [
    "similarity[0].shape"
   ]
  },
  {
   "cell_type": "code",
   "execution_count": 263,
   "metadata": {},
   "outputs": [
    {
     "data": {
      "text/plain": [
       "[(0, 0.9999999999999999),\n",
       " (24, 0.1259881576697424),\n",
       " (11, 0.12379689211803457),\n",
       " (13, 0.1217161238900369),\n",
       " (57, 0.12126781251816647),\n",
       " (89, 0.10425720702853739),\n",
       " (81, 0.09245003270420485),\n",
       " (38, 0.09082487681884434),\n",
       " (72, 0.08606629658238703),\n",
       " (12, 0.08111071056538127),\n",
       " (77, 0.07647191129018724),\n",
       " (96, 0.07647191129018724),\n",
       " (63, 0.07453559924999298),\n",
       " (40, 0.07147416898918632),\n",
       " (48, 0.07068241080666424),\n",
       " (83, 0.06804138174397717),\n",
       " (85, 0.06804138174397717),\n",
       " (68, 0.06666666666666667),\n",
       " (87, 0.06666666666666667),\n",
       " (32, 0.058520573598065284),\n",
       " (73, 0.05802588531856595),\n",
       " (52, 0.0563436169819011),\n",
       " (3, 0.05555555555555555),\n",
       " (35, 0.05479966243511909),\n",
       " (70, 0.05143444998736397),\n",
       " (28, 0.050251890762960605),\n",
       " (49, 0.04919011134174627),\n",
       " (50, 0.04919011134174627),\n",
       " (76, 0.048112522432468816),\n",
       " (99, 0.047619047619047616),\n",
       " (46, 0.044946657497549475),\n",
       " (108, 0.043033148291193514),\n",
       " (173, 0.043033148291193514),\n",
       " (45, 0.041666666666666664),\n",
       " (64, 0.041666666666666664),\n",
       " (78, 0.041666666666666664),\n",
       " (51, 0.040555355282690636),\n",
       " (1, 0.04042260417272216),\n",
       " (55, 0.04042260417272216),\n",
       " (65, 0.04042260417272216),\n",
       " (66, 0.04042260417272216),\n",
       " (67, 0.04042260417272216),\n",
       " (39, 0.03955938860646177),\n",
       " (41, 0.03928371006591931),\n",
       " (58, 0.03928371006591931),\n",
       " (62, 0.03928371006591931),\n",
       " (69, 0.03928371006591931),\n",
       " (74, 0.03928371006591931),\n",
       " (79, 0.03928371006591931),\n",
       " (80, 0.03928371006591931),\n",
       " (86, 0.03928371006591931),\n",
       " (98, 0.03928371006591931),\n",
       " (112, 0.03928371006591931),\n",
       " (47, 0.03823595564509362),\n",
       " (59, 0.03823595564509362),\n",
       " (75, 0.03823595564509362),\n",
       " (125, 0.03823595564509362),\n",
       " (157, 0.03823595564509362),\n",
       " (84, 0.03726779962499649),\n",
       " (104, 0.03726779962499649),\n",
       " (106, 0.03726779962499649),\n",
       " (150, 0.03726779962499649),\n",
       " (162, 0.03726779962499649),\n",
       " (30, 0.037037037037037035),\n",
       " (26, 0.036369648372665396),\n",
       " (33, 0.036369648372665396),\n",
       " (60, 0.036369648372665396),\n",
       " (61, 0.036369648372665396),\n",
       " (90, 0.036369648372665396),\n",
       " (159, 0.03553345272593507),\n",
       " (160, 0.03553345272593507),\n",
       " (88, 0.034752402342845795),\n",
       " (144, 0.034752402342845795),\n",
       " (53, 0.034020690871988585),\n",
       " (102, 0.034020690871988585),\n",
       " (115, 0.034020690871988585),\n",
       " (10, 0.03333333333333333),\n",
       " (34, 0.03333333333333333),\n",
       " (37, 0.03333333333333333),\n",
       " (103, 0.03333333333333333),\n",
       " (117, 0.03333333333333333),\n",
       " (71, 0.03268602252303067),\n",
       " (25, 0.0323761954119088),\n",
       " (14, 0.030949223029508643),\n",
       " (56, 0.030429030972509225),\n",
       " (92, 0.029462782549439476),\n",
       " (136, 0.02817180849095055),\n",
       " (121, 0.027399831217559546),\n",
       " (54, 0.027036903521793755),\n",
       " (9, 0.026948402781814776),\n",
       " (27, 0.026612314770617474),\n",
       " (145, 0.025416428388767443),\n",
       " (18, 0.024845199749997663),\n",
       " (22, 0.024310831916315757),\n",
       " (19, 0.023809523809523808),\n",
       " (36, 0.023570226039551584),\n",
       " (82, 0.023112508176051212),\n",
       " (7, 0.022321651006080835),\n",
       " (8, 0.020361574059384203),\n",
       " (15, 0.019920476822239894),\n",
       " (23, 0.01807753815155468),\n",
       " (20, 0.017972128867239735),\n",
       " (16, 0.016583953170166484),\n",
       " (43, 0.01423929429527935),\n",
       " (17, 0.01249219481659769),\n",
       " (2, 0.0),\n",
       " (4, 0.0),\n",
       " (5, 0.0),\n",
       " (6, 0.0),\n",
       " (21, 0.0),\n",
       " (29, 0.0),\n",
       " (31, 0.0),\n",
       " (42, 0.0),\n",
       " (44, 0.0),\n",
       " (91, 0.0),\n",
       " (93, 0.0),\n",
       " (94, 0.0),\n",
       " (95, 0.0),\n",
       " (97, 0.0),\n",
       " (100, 0.0),\n",
       " (101, 0.0),\n",
       " (105, 0.0),\n",
       " (107, 0.0),\n",
       " (109, 0.0),\n",
       " (110, 0.0),\n",
       " (111, 0.0),\n",
       " (113, 0.0),\n",
       " (114, 0.0),\n",
       " (116, 0.0),\n",
       " (118, 0.0),\n",
       " (119, 0.0),\n",
       " (120, 0.0),\n",
       " (122, 0.0),\n",
       " (123, 0.0),\n",
       " (124, 0.0),\n",
       " (126, 0.0),\n",
       " (127, 0.0),\n",
       " (128, 0.0),\n",
       " (129, 0.0),\n",
       " (130, 0.0),\n",
       " (131, 0.0),\n",
       " (132, 0.0),\n",
       " (133, 0.0),\n",
       " (134, 0.0),\n",
       " (135, 0.0),\n",
       " (137, 0.0),\n",
       " (138, 0.0),\n",
       " (139, 0.0),\n",
       " (140, 0.0),\n",
       " (141, 0.0),\n",
       " (142, 0.0),\n",
       " (143, 0.0),\n",
       " (146, 0.0),\n",
       " (147, 0.0),\n",
       " (148, 0.0),\n",
       " (149, 0.0),\n",
       " (151, 0.0),\n",
       " (152, 0.0),\n",
       " (153, 0.0),\n",
       " (154, 0.0),\n",
       " (155, 0.0),\n",
       " (156, 0.0),\n",
       " (158, 0.0),\n",
       " (161, 0.0),\n",
       " (163, 0.0),\n",
       " (164, 0.0),\n",
       " (165, 0.0),\n",
       " (166, 0.0),\n",
       " (167, 0.0),\n",
       " (168, 0.0),\n",
       " (169, 0.0),\n",
       " (170, 0.0),\n",
       " (171, 0.0),\n",
       " (172, 0.0)]"
      ]
     },
     "execution_count": 263,
     "metadata": {},
     "output_type": "execute_result"
    }
   ],
   "source": [
    "sorted(list(enumerate(similarity[0])),reverse = True,key = lambda x:x[1])"
   ]
  },
  {
   "cell_type": "code",
   "execution_count": 264,
   "metadata": {},
   "outputs": [
    {
     "data": {
      "text/plain": [
       "(174, 4)"
      ]
     },
     "execution_count": 264,
     "metadata": {},
     "output_type": "execute_result"
    }
   ],
   "source": [
    "new_df.shape"
   ]
  },
  {
   "cell_type": "code",
   "execution_count": 265,
   "metadata": {},
   "outputs": [
    {
     "data": {
      "text/html": [
       "<div>\n",
       "<style scoped>\n",
       "    .dataframe tbody tr th:only-of-type {\n",
       "        vertical-align: middle;\n",
       "    }\n",
       "\n",
       "    .dataframe tbody tr th {\n",
       "        vertical-align: top;\n",
       "    }\n",
       "\n",
       "    .dataframe thead th {\n",
       "        text-align: right;\n",
       "    }\n",
       "</style>\n",
       "<table border=\"1\" class=\"dataframe\">\n",
       "  <thead>\n",
       "    <tr style=\"text-align: right;\">\n",
       "      <th></th>\n",
       "      <th>index</th>\n",
       "      <th>Movie_ID</th>\n",
       "      <th>MovieName</th>\n",
       "      <th>Tags</th>\n",
       "    </tr>\n",
       "  </thead>\n",
       "  <tbody>\n",
       "    <tr>\n",
       "      <th>0</th>\n",
       "      <td>0</td>\n",
       "      <td>1</td>\n",
       "      <td>The Shawshank Redemption</td>\n",
       "      <td>Chronicles the experiences of a formerly succe...</td>\n",
       "    </tr>\n",
       "    <tr>\n",
       "      <th>1</th>\n",
       "      <td>5</td>\n",
       "      <td>2</td>\n",
       "      <td>The Dark Night</td>\n",
       "      <td>Set within a year after the events of Batman B...</td>\n",
       "    </tr>\n",
       "    <tr>\n",
       "      <th>2</th>\n",
       "      <td>21</td>\n",
       "      <td>3</td>\n",
       "      <td>Kuch Kuch Hota hai</td>\n",
       "      <td>Rahul Khanna and Anjali Sharma were best frien...</td>\n",
       "    </tr>\n",
       "    <tr>\n",
       "      <th>3</th>\n",
       "      <td>31</td>\n",
       "      <td>4</td>\n",
       "      <td>3 Idiots</td>\n",
       "      <td>Rancho is an engineering student. His two frie...</td>\n",
       "    </tr>\n",
       "    <tr>\n",
       "      <th>4</th>\n",
       "      <td>41</td>\n",
       "      <td>5</td>\n",
       "      <td>Avengers: Endgame</td>\n",
       "      <td>After the devastating events of Avengers: Infi...</td>\n",
       "    </tr>\n",
       "  </tbody>\n",
       "</table>\n",
       "</div>"
      ],
      "text/plain": [
       "   index  Movie_ID                 MovieName  \\\n",
       "0      0         1  The Shawshank Redemption   \n",
       "1      5         2            The Dark Night   \n",
       "2     21         3        Kuch Kuch Hota hai   \n",
       "3     31         4                  3 Idiots   \n",
       "4     41         5         Avengers: Endgame   \n",
       "\n",
       "                                                Tags  \n",
       "0  Chronicles the experiences of a formerly succe...  \n",
       "1  Set within a year after the events of Batman B...  \n",
       "2  Rahul Khanna and Anjali Sharma were best frien...  \n",
       "3  Rancho is an engineering student. His two frie...  \n",
       "4  After the devastating events of Avengers: Infi...  "
      ]
     },
     "execution_count": 265,
     "metadata": {},
     "output_type": "execute_result"
    }
   ],
   "source": [
    "new_df.head()"
   ]
  },
  {
   "cell_type": "code",
   "execution_count": 266,
   "metadata": {},
   "outputs": [],
   "source": [
    "def recommend(movie):\n",
    "    movie_index = new_df[new_df['MovieName'] == movie].index[0]\n",
    "    distances = similarity[movie_index]\n",
    "    movies_list = sorted(list(enumerate(distances)),reverse = True,key = lambda x:x[1])[1:6]\n",
    "\n",
    "    for i in movies_list:\n",
    "        print(new_df.iloc[i[0]].MovieName)"
   ]
  },
  {
   "cell_type": "code",
   "execution_count": 267,
   "metadata": {},
   "outputs": [
    {
     "name": "stdout",
     "output_type": "stream",
     "text": [
      "Ek Villain\n",
      "Malèna\n",
      "Gone with the Wind\n",
      "Casablanca\n",
      "Pearl Harbor\n"
     ]
    }
   ],
   "source": [
    "recommend('I')"
   ]
  },
  {
   "cell_type": "code",
   "execution_count": 274,
   "metadata": {},
   "outputs": [],
   "source": [
    "import pickle "
   ]
  },
  {
   "cell_type": "code",
   "execution_count": 275,
   "metadata": {},
   "outputs": [],
   "source": [
    "pickle.dump(new_df,open('Movies.pkl','wb'))"
   ]
  },
  {
   "cell_type": "code",
   "execution_count": 279,
   "metadata": {},
   "outputs": [],
   "source": [
    "pickle.dump(similarity,open('similarity.pkl','wb'))"
   ]
  },
  {
   "cell_type": "code",
   "execution_count": null,
   "metadata": {},
   "outputs": [],
   "source": []
  },
  {
   "cell_type": "code",
   "execution_count": null,
   "metadata": {},
   "outputs": [],
   "source": []
  }
 ],
 "metadata": {
  "kernelspec": {
   "display_name": "Python 3",
   "language": "python",
   "name": "python3"
  },
  "language_info": {
   "codemirror_mode": {
    "name": "ipython",
    "version": 3
   },
   "file_extension": ".py",
   "mimetype": "text/x-python",
   "name": "python",
   "nbconvert_exporter": "python",
   "pygments_lexer": "ipython3",
   "version": "3.11.2"
  }
 },
 "nbformat": 4,
 "nbformat_minor": 2
}
